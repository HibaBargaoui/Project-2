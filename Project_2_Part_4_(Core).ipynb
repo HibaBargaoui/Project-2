{
  "nbformat": 4,
  "nbformat_minor": 0,
  "metadata": {
    "colab": {
      "provenance": [],
      "authorship_tag": "ABX9TyMj8KwkXzKWWvuWOxoJrFqT",
      "include_colab_link": true
    },
    "kernelspec": {
      "name": "python3",
      "display_name": "Python 3"
    },
    "language_info": {
      "name": "python"
    }
  },
  "cells": [
    {
      "cell_type": "markdown",
      "metadata": {
        "id": "view-in-github",
        "colab_type": "text"
      },
      "source": [
        "<a href=\"https://colab.research.google.com/github/HibaBargaoui/Project-2/blob/main/Project_2_Part_4_(Core).ipynb\" target=\"_parent\"><img src=\"https://colab.research.google.com/assets/colab-badge.svg\" alt=\"Open In Colab\"/></a>"
      ]
    },
    {
      "cell_type": "markdown",
      "source": [
        "**Mount Drive**"
      ],
      "metadata": {
        "id": "x8Xk3s18skPt"
      }
    },
    {
      "cell_type": "code",
      "source": [
        "from google.colab import drive\n",
        "drive.mount('/content/MyDrive/')"
      ],
      "metadata": {
        "colab": {
          "base_uri": "https://localhost:8080/"
        },
        "id": "WdgYlzbBsnIQ",
        "outputId": "b61c2012-2f8f-4908-bfed-63a5be072304"
      },
      "execution_count": null,
      "outputs": [
        {
          "output_type": "stream",
          "name": "stdout",
          "text": [
            "Drive already mounted at /content/MyDrive/; to attempt to forcibly remount, call drive.mount(\"/content/MyDrive/\", force_remount=True).\n"
          ]
        }
      ]
    },
    {
      "cell_type": "markdown",
      "source": [
        "**Import Libraries**"
      ],
      "metadata": {
        "id": "tINY5q5AsAa7"
      }
    },
    {
      "cell_type": "code",
      "execution_count": null,
      "metadata": {
        "id": "6yLMn-2pr-Kl"
      },
      "outputs": [],
      "source": [
        "import pandas as pd\n",
        "import numpy as np\n",
        "import matplotlib.pyplot as plt\n",
        "import seaborn as sns\n",
        "from sklearn.impute import SimpleImputer\n",
        "from sklearn.compose import make_column_selector, make_column_transformer\n",
        "from sklearn.model_selection import train_test_split, GridSearchCV\n",
        "from sklearn.preprocessing import StandardScaler, OneHotEncoder\n",
        "from sklearn.pipeline import make_pipeline\n",
        "from sklearn.linear_model import LinearRegression\n",
        "from sklearn.metrics import mean_absolute_error, mean_squared_error, r2_score\n",
        "from sklearn.tree import DecisionTreeRegressor\n",
        "from sklearn.ensemble import RandomForestRegressor, GradientBoostingRegressor\n",
        "from xgboost import XGBRegressor\n",
        "from tensorflow.keras.models import Sequential\n",
        "from tensorflow.keras.layers import Dense, Dropout, BatchNormalization\n",
        "from tensorflow.keras import metrics"
      ]
    },
    {
      "cell_type": "markdown",
      "source": [
        "**Load Data**"
      ],
      "metadata": {
        "id": "DWS_tP4OsGpR"
      }
    },
    {
      "cell_type": "code",
      "source": [
        "df = pd.read_csv('/content/MyDrive/MyDrive/Coding Dojo/Datasets/FMCG_data.csv')\n",
        "df.head()"
      ],
      "metadata": {
        "colab": {
          "base_uri": "https://localhost:8080/",
          "height": 255
        },
        "id": "ArNzHq9WsIhR",
        "outputId": "17a0094f-298f-4018-9f9a-90d02dad598a"
      },
      "execution_count": null,
      "outputs": [
        {
          "output_type": "execute_result",
          "data": {
            "text/plain": [
              "  Ware_house_ID WH_Manager_ID Location_type WH_capacity_size   zone  \\\n",
              "0     WH_100000     EID_50000         Urban            Small   West   \n",
              "1     WH_100001     EID_50001         Rural            Large  North   \n",
              "2     WH_100002     EID_50002         Rural              Mid  South   \n",
              "3     WH_100003     EID_50003         Rural              Mid  North   \n",
              "4     WH_100004     EID_50004         Rural            Large  North   \n",
              "\n",
              "  WH_regional_zone  num_refill_req_l3m  transport_issue_l1y  \\\n",
              "0           Zone 6                   3                    1   \n",
              "1           Zone 5                   0                    0   \n",
              "2           Zone 2                   1                    0   \n",
              "3           Zone 3                   7                    4   \n",
              "4           Zone 5                   3                    1   \n",
              "\n",
              "   Competitor_in_mkt  retail_shop_num  ... electric_supply  dist_from_hub  \\\n",
              "0                  2             4651  ...               1             91   \n",
              "1                  4             6217  ...               1            210   \n",
              "2                  4             4306  ...               0            161   \n",
              "3                  2             6000  ...               0            103   \n",
              "4                  2             4740  ...               1            112   \n",
              "\n",
              "   workers_num  wh_est_year  storage_issue_reported_l3m  temp_reg_mach  \\\n",
              "0         29.0          NaN                          13              0   \n",
              "1         31.0          NaN                           4              0   \n",
              "2         37.0          NaN                          17              0   \n",
              "3         21.0          NaN                          17              1   \n",
              "4         25.0       2009.0                          18              0   \n",
              "\n",
              "   approved_wh_govt_certificate  wh_breakdown_l3m  govt_check_l3m  \\\n",
              "0                             A                 5              15   \n",
              "1                             A                 3              17   \n",
              "2                             A                 6              22   \n",
              "3                            A+                 3              27   \n",
              "4                             C                 6              24   \n",
              "\n",
              "   product_wg_ton  \n",
              "0           17115  \n",
              "1            5074  \n",
              "2           23137  \n",
              "3           22115  \n",
              "4           24071  \n",
              "\n",
              "[5 rows x 24 columns]"
            ],
            "text/html": [
              "\n",
              "  <div id=\"df-66deed61-0856-49e8-a4ac-e330eaf16e3b\" class=\"colab-df-container\">\n",
              "    <div>\n",
              "<style scoped>\n",
              "    .dataframe tbody tr th:only-of-type {\n",
              "        vertical-align: middle;\n",
              "    }\n",
              "\n",
              "    .dataframe tbody tr th {\n",
              "        vertical-align: top;\n",
              "    }\n",
              "\n",
              "    .dataframe thead th {\n",
              "        text-align: right;\n",
              "    }\n",
              "</style>\n",
              "<table border=\"1\" class=\"dataframe\">\n",
              "  <thead>\n",
              "    <tr style=\"text-align: right;\">\n",
              "      <th></th>\n",
              "      <th>Ware_house_ID</th>\n",
              "      <th>WH_Manager_ID</th>\n",
              "      <th>Location_type</th>\n",
              "      <th>WH_capacity_size</th>\n",
              "      <th>zone</th>\n",
              "      <th>WH_regional_zone</th>\n",
              "      <th>num_refill_req_l3m</th>\n",
              "      <th>transport_issue_l1y</th>\n",
              "      <th>Competitor_in_mkt</th>\n",
              "      <th>retail_shop_num</th>\n",
              "      <th>...</th>\n",
              "      <th>electric_supply</th>\n",
              "      <th>dist_from_hub</th>\n",
              "      <th>workers_num</th>\n",
              "      <th>wh_est_year</th>\n",
              "      <th>storage_issue_reported_l3m</th>\n",
              "      <th>temp_reg_mach</th>\n",
              "      <th>approved_wh_govt_certificate</th>\n",
              "      <th>wh_breakdown_l3m</th>\n",
              "      <th>govt_check_l3m</th>\n",
              "      <th>product_wg_ton</th>\n",
              "    </tr>\n",
              "  </thead>\n",
              "  <tbody>\n",
              "    <tr>\n",
              "      <th>0</th>\n",
              "      <td>WH_100000</td>\n",
              "      <td>EID_50000</td>\n",
              "      <td>Urban</td>\n",
              "      <td>Small</td>\n",
              "      <td>West</td>\n",
              "      <td>Zone 6</td>\n",
              "      <td>3</td>\n",
              "      <td>1</td>\n",
              "      <td>2</td>\n",
              "      <td>4651</td>\n",
              "      <td>...</td>\n",
              "      <td>1</td>\n",
              "      <td>91</td>\n",
              "      <td>29.0</td>\n",
              "      <td>NaN</td>\n",
              "      <td>13</td>\n",
              "      <td>0</td>\n",
              "      <td>A</td>\n",
              "      <td>5</td>\n",
              "      <td>15</td>\n",
              "      <td>17115</td>\n",
              "    </tr>\n",
              "    <tr>\n",
              "      <th>1</th>\n",
              "      <td>WH_100001</td>\n",
              "      <td>EID_50001</td>\n",
              "      <td>Rural</td>\n",
              "      <td>Large</td>\n",
              "      <td>North</td>\n",
              "      <td>Zone 5</td>\n",
              "      <td>0</td>\n",
              "      <td>0</td>\n",
              "      <td>4</td>\n",
              "      <td>6217</td>\n",
              "      <td>...</td>\n",
              "      <td>1</td>\n",
              "      <td>210</td>\n",
              "      <td>31.0</td>\n",
              "      <td>NaN</td>\n",
              "      <td>4</td>\n",
              "      <td>0</td>\n",
              "      <td>A</td>\n",
              "      <td>3</td>\n",
              "      <td>17</td>\n",
              "      <td>5074</td>\n",
              "    </tr>\n",
              "    <tr>\n",
              "      <th>2</th>\n",
              "      <td>WH_100002</td>\n",
              "      <td>EID_50002</td>\n",
              "      <td>Rural</td>\n",
              "      <td>Mid</td>\n",
              "      <td>South</td>\n",
              "      <td>Zone 2</td>\n",
              "      <td>1</td>\n",
              "      <td>0</td>\n",
              "      <td>4</td>\n",
              "      <td>4306</td>\n",
              "      <td>...</td>\n",
              "      <td>0</td>\n",
              "      <td>161</td>\n",
              "      <td>37.0</td>\n",
              "      <td>NaN</td>\n",
              "      <td>17</td>\n",
              "      <td>0</td>\n",
              "      <td>A</td>\n",
              "      <td>6</td>\n",
              "      <td>22</td>\n",
              "      <td>23137</td>\n",
              "    </tr>\n",
              "    <tr>\n",
              "      <th>3</th>\n",
              "      <td>WH_100003</td>\n",
              "      <td>EID_50003</td>\n",
              "      <td>Rural</td>\n",
              "      <td>Mid</td>\n",
              "      <td>North</td>\n",
              "      <td>Zone 3</td>\n",
              "      <td>7</td>\n",
              "      <td>4</td>\n",
              "      <td>2</td>\n",
              "      <td>6000</td>\n",
              "      <td>...</td>\n",
              "      <td>0</td>\n",
              "      <td>103</td>\n",
              "      <td>21.0</td>\n",
              "      <td>NaN</td>\n",
              "      <td>17</td>\n",
              "      <td>1</td>\n",
              "      <td>A+</td>\n",
              "      <td>3</td>\n",
              "      <td>27</td>\n",
              "      <td>22115</td>\n",
              "    </tr>\n",
              "    <tr>\n",
              "      <th>4</th>\n",
              "      <td>WH_100004</td>\n",
              "      <td>EID_50004</td>\n",
              "      <td>Rural</td>\n",
              "      <td>Large</td>\n",
              "      <td>North</td>\n",
              "      <td>Zone 5</td>\n",
              "      <td>3</td>\n",
              "      <td>1</td>\n",
              "      <td>2</td>\n",
              "      <td>4740</td>\n",
              "      <td>...</td>\n",
              "      <td>1</td>\n",
              "      <td>112</td>\n",
              "      <td>25.0</td>\n",
              "      <td>2009.0</td>\n",
              "      <td>18</td>\n",
              "      <td>0</td>\n",
              "      <td>C</td>\n",
              "      <td>6</td>\n",
              "      <td>24</td>\n",
              "      <td>24071</td>\n",
              "    </tr>\n",
              "  </tbody>\n",
              "</table>\n",
              "<p>5 rows × 24 columns</p>\n",
              "</div>\n",
              "    <div class=\"colab-df-buttons\">\n",
              "\n",
              "  <div class=\"colab-df-container\">\n",
              "    <button class=\"colab-df-convert\" onclick=\"convertToInteractive('df-66deed61-0856-49e8-a4ac-e330eaf16e3b')\"\n",
              "            title=\"Convert this dataframe to an interactive table.\"\n",
              "            style=\"display:none;\">\n",
              "\n",
              "  <svg xmlns=\"http://www.w3.org/2000/svg\" height=\"24px\" viewBox=\"0 -960 960 960\">\n",
              "    <path d=\"M120-120v-720h720v720H120Zm60-500h600v-160H180v160Zm220 220h160v-160H400v160Zm0 220h160v-160H400v160ZM180-400h160v-160H180v160Zm440 0h160v-160H620v160ZM180-180h160v-160H180v160Zm440 0h160v-160H620v160Z\"/>\n",
              "  </svg>\n",
              "    </button>\n",
              "\n",
              "  <style>\n",
              "    .colab-df-container {\n",
              "      display:flex;\n",
              "      gap: 12px;\n",
              "    }\n",
              "\n",
              "    .colab-df-convert {\n",
              "      background-color: #E8F0FE;\n",
              "      border: none;\n",
              "      border-radius: 50%;\n",
              "      cursor: pointer;\n",
              "      display: none;\n",
              "      fill: #1967D2;\n",
              "      height: 32px;\n",
              "      padding: 0 0 0 0;\n",
              "      width: 32px;\n",
              "    }\n",
              "\n",
              "    .colab-df-convert:hover {\n",
              "      background-color: #E2EBFA;\n",
              "      box-shadow: 0px 1px 2px rgba(60, 64, 67, 0.3), 0px 1px 3px 1px rgba(60, 64, 67, 0.15);\n",
              "      fill: #174EA6;\n",
              "    }\n",
              "\n",
              "    .colab-df-buttons div {\n",
              "      margin-bottom: 4px;\n",
              "    }\n",
              "\n",
              "    [theme=dark] .colab-df-convert {\n",
              "      background-color: #3B4455;\n",
              "      fill: #D2E3FC;\n",
              "    }\n",
              "\n",
              "    [theme=dark] .colab-df-convert:hover {\n",
              "      background-color: #434B5C;\n",
              "      box-shadow: 0px 1px 3px 1px rgba(0, 0, 0, 0.15);\n",
              "      filter: drop-shadow(0px 1px 2px rgba(0, 0, 0, 0.3));\n",
              "      fill: #FFFFFF;\n",
              "    }\n",
              "  </style>\n",
              "\n",
              "    <script>\n",
              "      const buttonEl =\n",
              "        document.querySelector('#df-66deed61-0856-49e8-a4ac-e330eaf16e3b button.colab-df-convert');\n",
              "      buttonEl.style.display =\n",
              "        google.colab.kernel.accessAllowed ? 'block' : 'none';\n",
              "\n",
              "      async function convertToInteractive(key) {\n",
              "        const element = document.querySelector('#df-66deed61-0856-49e8-a4ac-e330eaf16e3b');\n",
              "        const dataTable =\n",
              "          await google.colab.kernel.invokeFunction('convertToInteractive',\n",
              "                                                    [key], {});\n",
              "        if (!dataTable) return;\n",
              "\n",
              "        const docLinkHtml = 'Like what you see? Visit the ' +\n",
              "          '<a target=\"_blank\" href=https://colab.research.google.com/notebooks/data_table.ipynb>data table notebook</a>'\n",
              "          + ' to learn more about interactive tables.';\n",
              "        element.innerHTML = '';\n",
              "        dataTable['output_type'] = 'display_data';\n",
              "        await google.colab.output.renderOutput(dataTable, element);\n",
              "        const docLink = document.createElement('div');\n",
              "        docLink.innerHTML = docLinkHtml;\n",
              "        element.appendChild(docLink);\n",
              "      }\n",
              "    </script>\n",
              "  </div>\n",
              "\n",
              "\n",
              "<div id=\"df-138df352-5764-4561-ab5c-0973f5989cd4\">\n",
              "  <button class=\"colab-df-quickchart\" onclick=\"quickchart('df-138df352-5764-4561-ab5c-0973f5989cd4')\"\n",
              "            title=\"Suggest charts.\"\n",
              "            style=\"display:none;\">\n",
              "\n",
              "<svg xmlns=\"http://www.w3.org/2000/svg\" height=\"24px\"viewBox=\"0 0 24 24\"\n",
              "     width=\"24px\">\n",
              "    <g>\n",
              "        <path d=\"M19 3H5c-1.1 0-2 .9-2 2v14c0 1.1.9 2 2 2h14c1.1 0 2-.9 2-2V5c0-1.1-.9-2-2-2zM9 17H7v-7h2v7zm4 0h-2V7h2v10zm4 0h-2v-4h2v4z\"/>\n",
              "    </g>\n",
              "</svg>\n",
              "  </button>\n",
              "\n",
              "<style>\n",
              "  .colab-df-quickchart {\n",
              "      --bg-color: #E8F0FE;\n",
              "      --fill-color: #1967D2;\n",
              "      --hover-bg-color: #E2EBFA;\n",
              "      --hover-fill-color: #174EA6;\n",
              "      --disabled-fill-color: #AAA;\n",
              "      --disabled-bg-color: #DDD;\n",
              "  }\n",
              "\n",
              "  [theme=dark] .colab-df-quickchart {\n",
              "      --bg-color: #3B4455;\n",
              "      --fill-color: #D2E3FC;\n",
              "      --hover-bg-color: #434B5C;\n",
              "      --hover-fill-color: #FFFFFF;\n",
              "      --disabled-bg-color: #3B4455;\n",
              "      --disabled-fill-color: #666;\n",
              "  }\n",
              "\n",
              "  .colab-df-quickchart {\n",
              "    background-color: var(--bg-color);\n",
              "    border: none;\n",
              "    border-radius: 50%;\n",
              "    cursor: pointer;\n",
              "    display: none;\n",
              "    fill: var(--fill-color);\n",
              "    height: 32px;\n",
              "    padding: 0;\n",
              "    width: 32px;\n",
              "  }\n",
              "\n",
              "  .colab-df-quickchart:hover {\n",
              "    background-color: var(--hover-bg-color);\n",
              "    box-shadow: 0 1px 2px rgba(60, 64, 67, 0.3), 0 1px 3px 1px rgba(60, 64, 67, 0.15);\n",
              "    fill: var(--button-hover-fill-color);\n",
              "  }\n",
              "\n",
              "  .colab-df-quickchart-complete:disabled,\n",
              "  .colab-df-quickchart-complete:disabled:hover {\n",
              "    background-color: var(--disabled-bg-color);\n",
              "    fill: var(--disabled-fill-color);\n",
              "    box-shadow: none;\n",
              "  }\n",
              "\n",
              "  .colab-df-spinner {\n",
              "    border: 2px solid var(--fill-color);\n",
              "    border-color: transparent;\n",
              "    border-bottom-color: var(--fill-color);\n",
              "    animation:\n",
              "      spin 1s steps(1) infinite;\n",
              "  }\n",
              "\n",
              "  @keyframes spin {\n",
              "    0% {\n",
              "      border-color: transparent;\n",
              "      border-bottom-color: var(--fill-color);\n",
              "      border-left-color: var(--fill-color);\n",
              "    }\n",
              "    20% {\n",
              "      border-color: transparent;\n",
              "      border-left-color: var(--fill-color);\n",
              "      border-top-color: var(--fill-color);\n",
              "    }\n",
              "    30% {\n",
              "      border-color: transparent;\n",
              "      border-left-color: var(--fill-color);\n",
              "      border-top-color: var(--fill-color);\n",
              "      border-right-color: var(--fill-color);\n",
              "    }\n",
              "    40% {\n",
              "      border-color: transparent;\n",
              "      border-right-color: var(--fill-color);\n",
              "      border-top-color: var(--fill-color);\n",
              "    }\n",
              "    60% {\n",
              "      border-color: transparent;\n",
              "      border-right-color: var(--fill-color);\n",
              "    }\n",
              "    80% {\n",
              "      border-color: transparent;\n",
              "      border-right-color: var(--fill-color);\n",
              "      border-bottom-color: var(--fill-color);\n",
              "    }\n",
              "    90% {\n",
              "      border-color: transparent;\n",
              "      border-bottom-color: var(--fill-color);\n",
              "    }\n",
              "  }\n",
              "</style>\n",
              "\n",
              "  <script>\n",
              "    async function quickchart(key) {\n",
              "      const quickchartButtonEl =\n",
              "        document.querySelector('#' + key + ' button');\n",
              "      quickchartButtonEl.disabled = true;  // To prevent multiple clicks.\n",
              "      quickchartButtonEl.classList.add('colab-df-spinner');\n",
              "      try {\n",
              "        const charts = await google.colab.kernel.invokeFunction(\n",
              "            'suggestCharts', [key], {});\n",
              "      } catch (error) {\n",
              "        console.error('Error during call to suggestCharts:', error);\n",
              "      }\n",
              "      quickchartButtonEl.classList.remove('colab-df-spinner');\n",
              "      quickchartButtonEl.classList.add('colab-df-quickchart-complete');\n",
              "    }\n",
              "    (() => {\n",
              "      let quickchartButtonEl =\n",
              "        document.querySelector('#df-138df352-5764-4561-ab5c-0973f5989cd4 button');\n",
              "      quickchartButtonEl.style.display =\n",
              "        google.colab.kernel.accessAllowed ? 'block' : 'none';\n",
              "    })();\n",
              "  </script>\n",
              "</div>\n",
              "    </div>\n",
              "  </div>\n"
            ]
          },
          "metadata": {},
          "execution_count": 111
        }
      ]
    },
    {
      "cell_type": "markdown",
      "source": [
        "**Delete unnecessary columns**"
      ],
      "metadata": {
        "id": "EYFTN9lwxtv3"
      }
    },
    {
      "cell_type": "code",
      "source": [
        "df = df.drop(columns = ['Ware_house_ID', 'WH_Manager_ID'])\n",
        "df.head()"
      ],
      "metadata": {
        "colab": {
          "base_uri": "https://localhost:8080/",
          "height": 307
        },
        "id": "lWsd_KcQxvMH",
        "outputId": "f9e28d15-8713-42f2-957b-b430391c4315"
      },
      "execution_count": null,
      "outputs": [
        {
          "output_type": "execute_result",
          "data": {
            "text/plain": [
              "  Location_type WH_capacity_size   zone WH_regional_zone  num_refill_req_l3m  \\\n",
              "0         Urban            Small   West           Zone 6                   3   \n",
              "1         Rural            Large  North           Zone 5                   0   \n",
              "2         Rural              Mid  South           Zone 2                   1   \n",
              "3         Rural              Mid  North           Zone 3                   7   \n",
              "4         Rural            Large  North           Zone 5                   3   \n",
              "\n",
              "   transport_issue_l1y  Competitor_in_mkt  retail_shop_num  wh_owner_type  \\\n",
              "0                    1                  2             4651         Rented   \n",
              "1                    0                  4             6217  Company Owned   \n",
              "2                    0                  4             4306  Company Owned   \n",
              "3                    4                  2             6000         Rented   \n",
              "4                    1                  2             4740  Company Owned   \n",
              "\n",
              "   distributor_num  ...  electric_supply  dist_from_hub  workers_num  \\\n",
              "0               24  ...                1             91         29.0   \n",
              "1               47  ...                1            210         31.0   \n",
              "2               64  ...                0            161         37.0   \n",
              "3               50  ...                0            103         21.0   \n",
              "4               42  ...                1            112         25.0   \n",
              "\n",
              "   wh_est_year  storage_issue_reported_l3m  temp_reg_mach  \\\n",
              "0          NaN                          13              0   \n",
              "1          NaN                           4              0   \n",
              "2          NaN                          17              0   \n",
              "3          NaN                          17              1   \n",
              "4       2009.0                          18              0   \n",
              "\n",
              "   approved_wh_govt_certificate  wh_breakdown_l3m govt_check_l3m  \\\n",
              "0                             A                 5             15   \n",
              "1                             A                 3             17   \n",
              "2                             A                 6             22   \n",
              "3                            A+                 3             27   \n",
              "4                             C                 6             24   \n",
              "\n",
              "   product_wg_ton  \n",
              "0           17115  \n",
              "1            5074  \n",
              "2           23137  \n",
              "3           22115  \n",
              "4           24071  \n",
              "\n",
              "[5 rows x 22 columns]"
            ],
            "text/html": [
              "\n",
              "  <div id=\"df-ec240366-085e-434a-90b9-53186a10ee6d\" class=\"colab-df-container\">\n",
              "    <div>\n",
              "<style scoped>\n",
              "    .dataframe tbody tr th:only-of-type {\n",
              "        vertical-align: middle;\n",
              "    }\n",
              "\n",
              "    .dataframe tbody tr th {\n",
              "        vertical-align: top;\n",
              "    }\n",
              "\n",
              "    .dataframe thead th {\n",
              "        text-align: right;\n",
              "    }\n",
              "</style>\n",
              "<table border=\"1\" class=\"dataframe\">\n",
              "  <thead>\n",
              "    <tr style=\"text-align: right;\">\n",
              "      <th></th>\n",
              "      <th>Location_type</th>\n",
              "      <th>WH_capacity_size</th>\n",
              "      <th>zone</th>\n",
              "      <th>WH_regional_zone</th>\n",
              "      <th>num_refill_req_l3m</th>\n",
              "      <th>transport_issue_l1y</th>\n",
              "      <th>Competitor_in_mkt</th>\n",
              "      <th>retail_shop_num</th>\n",
              "      <th>wh_owner_type</th>\n",
              "      <th>distributor_num</th>\n",
              "      <th>...</th>\n",
              "      <th>electric_supply</th>\n",
              "      <th>dist_from_hub</th>\n",
              "      <th>workers_num</th>\n",
              "      <th>wh_est_year</th>\n",
              "      <th>storage_issue_reported_l3m</th>\n",
              "      <th>temp_reg_mach</th>\n",
              "      <th>approved_wh_govt_certificate</th>\n",
              "      <th>wh_breakdown_l3m</th>\n",
              "      <th>govt_check_l3m</th>\n",
              "      <th>product_wg_ton</th>\n",
              "    </tr>\n",
              "  </thead>\n",
              "  <tbody>\n",
              "    <tr>\n",
              "      <th>0</th>\n",
              "      <td>Urban</td>\n",
              "      <td>Small</td>\n",
              "      <td>West</td>\n",
              "      <td>Zone 6</td>\n",
              "      <td>3</td>\n",
              "      <td>1</td>\n",
              "      <td>2</td>\n",
              "      <td>4651</td>\n",
              "      <td>Rented</td>\n",
              "      <td>24</td>\n",
              "      <td>...</td>\n",
              "      <td>1</td>\n",
              "      <td>91</td>\n",
              "      <td>29.0</td>\n",
              "      <td>NaN</td>\n",
              "      <td>13</td>\n",
              "      <td>0</td>\n",
              "      <td>A</td>\n",
              "      <td>5</td>\n",
              "      <td>15</td>\n",
              "      <td>17115</td>\n",
              "    </tr>\n",
              "    <tr>\n",
              "      <th>1</th>\n",
              "      <td>Rural</td>\n",
              "      <td>Large</td>\n",
              "      <td>North</td>\n",
              "      <td>Zone 5</td>\n",
              "      <td>0</td>\n",
              "      <td>0</td>\n",
              "      <td>4</td>\n",
              "      <td>6217</td>\n",
              "      <td>Company Owned</td>\n",
              "      <td>47</td>\n",
              "      <td>...</td>\n",
              "      <td>1</td>\n",
              "      <td>210</td>\n",
              "      <td>31.0</td>\n",
              "      <td>NaN</td>\n",
              "      <td>4</td>\n",
              "      <td>0</td>\n",
              "      <td>A</td>\n",
              "      <td>3</td>\n",
              "      <td>17</td>\n",
              "      <td>5074</td>\n",
              "    </tr>\n",
              "    <tr>\n",
              "      <th>2</th>\n",
              "      <td>Rural</td>\n",
              "      <td>Mid</td>\n",
              "      <td>South</td>\n",
              "      <td>Zone 2</td>\n",
              "      <td>1</td>\n",
              "      <td>0</td>\n",
              "      <td>4</td>\n",
              "      <td>4306</td>\n",
              "      <td>Company Owned</td>\n",
              "      <td>64</td>\n",
              "      <td>...</td>\n",
              "      <td>0</td>\n",
              "      <td>161</td>\n",
              "      <td>37.0</td>\n",
              "      <td>NaN</td>\n",
              "      <td>17</td>\n",
              "      <td>0</td>\n",
              "      <td>A</td>\n",
              "      <td>6</td>\n",
              "      <td>22</td>\n",
              "      <td>23137</td>\n",
              "    </tr>\n",
              "    <tr>\n",
              "      <th>3</th>\n",
              "      <td>Rural</td>\n",
              "      <td>Mid</td>\n",
              "      <td>North</td>\n",
              "      <td>Zone 3</td>\n",
              "      <td>7</td>\n",
              "      <td>4</td>\n",
              "      <td>2</td>\n",
              "      <td>6000</td>\n",
              "      <td>Rented</td>\n",
              "      <td>50</td>\n",
              "      <td>...</td>\n",
              "      <td>0</td>\n",
              "      <td>103</td>\n",
              "      <td>21.0</td>\n",
              "      <td>NaN</td>\n",
              "      <td>17</td>\n",
              "      <td>1</td>\n",
              "      <td>A+</td>\n",
              "      <td>3</td>\n",
              "      <td>27</td>\n",
              "      <td>22115</td>\n",
              "    </tr>\n",
              "    <tr>\n",
              "      <th>4</th>\n",
              "      <td>Rural</td>\n",
              "      <td>Large</td>\n",
              "      <td>North</td>\n",
              "      <td>Zone 5</td>\n",
              "      <td>3</td>\n",
              "      <td>1</td>\n",
              "      <td>2</td>\n",
              "      <td>4740</td>\n",
              "      <td>Company Owned</td>\n",
              "      <td>42</td>\n",
              "      <td>...</td>\n",
              "      <td>1</td>\n",
              "      <td>112</td>\n",
              "      <td>25.0</td>\n",
              "      <td>2009.0</td>\n",
              "      <td>18</td>\n",
              "      <td>0</td>\n",
              "      <td>C</td>\n",
              "      <td>6</td>\n",
              "      <td>24</td>\n",
              "      <td>24071</td>\n",
              "    </tr>\n",
              "  </tbody>\n",
              "</table>\n",
              "<p>5 rows × 22 columns</p>\n",
              "</div>\n",
              "    <div class=\"colab-df-buttons\">\n",
              "\n",
              "  <div class=\"colab-df-container\">\n",
              "    <button class=\"colab-df-convert\" onclick=\"convertToInteractive('df-ec240366-085e-434a-90b9-53186a10ee6d')\"\n",
              "            title=\"Convert this dataframe to an interactive table.\"\n",
              "            style=\"display:none;\">\n",
              "\n",
              "  <svg xmlns=\"http://www.w3.org/2000/svg\" height=\"24px\" viewBox=\"0 -960 960 960\">\n",
              "    <path d=\"M120-120v-720h720v720H120Zm60-500h600v-160H180v160Zm220 220h160v-160H400v160Zm0 220h160v-160H400v160ZM180-400h160v-160H180v160Zm440 0h160v-160H620v160ZM180-180h160v-160H180v160Zm440 0h160v-160H620v160Z\"/>\n",
              "  </svg>\n",
              "    </button>\n",
              "\n",
              "  <style>\n",
              "    .colab-df-container {\n",
              "      display:flex;\n",
              "      gap: 12px;\n",
              "    }\n",
              "\n",
              "    .colab-df-convert {\n",
              "      background-color: #E8F0FE;\n",
              "      border: none;\n",
              "      border-radius: 50%;\n",
              "      cursor: pointer;\n",
              "      display: none;\n",
              "      fill: #1967D2;\n",
              "      height: 32px;\n",
              "      padding: 0 0 0 0;\n",
              "      width: 32px;\n",
              "    }\n",
              "\n",
              "    .colab-df-convert:hover {\n",
              "      background-color: #E2EBFA;\n",
              "      box-shadow: 0px 1px 2px rgba(60, 64, 67, 0.3), 0px 1px 3px 1px rgba(60, 64, 67, 0.15);\n",
              "      fill: #174EA6;\n",
              "    }\n",
              "\n",
              "    .colab-df-buttons div {\n",
              "      margin-bottom: 4px;\n",
              "    }\n",
              "\n",
              "    [theme=dark] .colab-df-convert {\n",
              "      background-color: #3B4455;\n",
              "      fill: #D2E3FC;\n",
              "    }\n",
              "\n",
              "    [theme=dark] .colab-df-convert:hover {\n",
              "      background-color: #434B5C;\n",
              "      box-shadow: 0px 1px 3px 1px rgba(0, 0, 0, 0.15);\n",
              "      filter: drop-shadow(0px 1px 2px rgba(0, 0, 0, 0.3));\n",
              "      fill: #FFFFFF;\n",
              "    }\n",
              "  </style>\n",
              "\n",
              "    <script>\n",
              "      const buttonEl =\n",
              "        document.querySelector('#df-ec240366-085e-434a-90b9-53186a10ee6d button.colab-df-convert');\n",
              "      buttonEl.style.display =\n",
              "        google.colab.kernel.accessAllowed ? 'block' : 'none';\n",
              "\n",
              "      async function convertToInteractive(key) {\n",
              "        const element = document.querySelector('#df-ec240366-085e-434a-90b9-53186a10ee6d');\n",
              "        const dataTable =\n",
              "          await google.colab.kernel.invokeFunction('convertToInteractive',\n",
              "                                                    [key], {});\n",
              "        if (!dataTable) return;\n",
              "\n",
              "        const docLinkHtml = 'Like what you see? Visit the ' +\n",
              "          '<a target=\"_blank\" href=https://colab.research.google.com/notebooks/data_table.ipynb>data table notebook</a>'\n",
              "          + ' to learn more about interactive tables.';\n",
              "        element.innerHTML = '';\n",
              "        dataTable['output_type'] = 'display_data';\n",
              "        await google.colab.output.renderOutput(dataTable, element);\n",
              "        const docLink = document.createElement('div');\n",
              "        docLink.innerHTML = docLinkHtml;\n",
              "        element.appendChild(docLink);\n",
              "      }\n",
              "    </script>\n",
              "  </div>\n",
              "\n",
              "\n",
              "<div id=\"df-f3e45d04-5ef6-4a71-ba82-98a60c57181e\">\n",
              "  <button class=\"colab-df-quickchart\" onclick=\"quickchart('df-f3e45d04-5ef6-4a71-ba82-98a60c57181e')\"\n",
              "            title=\"Suggest charts.\"\n",
              "            style=\"display:none;\">\n",
              "\n",
              "<svg xmlns=\"http://www.w3.org/2000/svg\" height=\"24px\"viewBox=\"0 0 24 24\"\n",
              "     width=\"24px\">\n",
              "    <g>\n",
              "        <path d=\"M19 3H5c-1.1 0-2 .9-2 2v14c0 1.1.9 2 2 2h14c1.1 0 2-.9 2-2V5c0-1.1-.9-2-2-2zM9 17H7v-7h2v7zm4 0h-2V7h2v10zm4 0h-2v-4h2v4z\"/>\n",
              "    </g>\n",
              "</svg>\n",
              "  </button>\n",
              "\n",
              "<style>\n",
              "  .colab-df-quickchart {\n",
              "      --bg-color: #E8F0FE;\n",
              "      --fill-color: #1967D2;\n",
              "      --hover-bg-color: #E2EBFA;\n",
              "      --hover-fill-color: #174EA6;\n",
              "      --disabled-fill-color: #AAA;\n",
              "      --disabled-bg-color: #DDD;\n",
              "  }\n",
              "\n",
              "  [theme=dark] .colab-df-quickchart {\n",
              "      --bg-color: #3B4455;\n",
              "      --fill-color: #D2E3FC;\n",
              "      --hover-bg-color: #434B5C;\n",
              "      --hover-fill-color: #FFFFFF;\n",
              "      --disabled-bg-color: #3B4455;\n",
              "      --disabled-fill-color: #666;\n",
              "  }\n",
              "\n",
              "  .colab-df-quickchart {\n",
              "    background-color: var(--bg-color);\n",
              "    border: none;\n",
              "    border-radius: 50%;\n",
              "    cursor: pointer;\n",
              "    display: none;\n",
              "    fill: var(--fill-color);\n",
              "    height: 32px;\n",
              "    padding: 0;\n",
              "    width: 32px;\n",
              "  }\n",
              "\n",
              "  .colab-df-quickchart:hover {\n",
              "    background-color: var(--hover-bg-color);\n",
              "    box-shadow: 0 1px 2px rgba(60, 64, 67, 0.3), 0 1px 3px 1px rgba(60, 64, 67, 0.15);\n",
              "    fill: var(--button-hover-fill-color);\n",
              "  }\n",
              "\n",
              "  .colab-df-quickchart-complete:disabled,\n",
              "  .colab-df-quickchart-complete:disabled:hover {\n",
              "    background-color: var(--disabled-bg-color);\n",
              "    fill: var(--disabled-fill-color);\n",
              "    box-shadow: none;\n",
              "  }\n",
              "\n",
              "  .colab-df-spinner {\n",
              "    border: 2px solid var(--fill-color);\n",
              "    border-color: transparent;\n",
              "    border-bottom-color: var(--fill-color);\n",
              "    animation:\n",
              "      spin 1s steps(1) infinite;\n",
              "  }\n",
              "\n",
              "  @keyframes spin {\n",
              "    0% {\n",
              "      border-color: transparent;\n",
              "      border-bottom-color: var(--fill-color);\n",
              "      border-left-color: var(--fill-color);\n",
              "    }\n",
              "    20% {\n",
              "      border-color: transparent;\n",
              "      border-left-color: var(--fill-color);\n",
              "      border-top-color: var(--fill-color);\n",
              "    }\n",
              "    30% {\n",
              "      border-color: transparent;\n",
              "      border-left-color: var(--fill-color);\n",
              "      border-top-color: var(--fill-color);\n",
              "      border-right-color: var(--fill-color);\n",
              "    }\n",
              "    40% {\n",
              "      border-color: transparent;\n",
              "      border-right-color: var(--fill-color);\n",
              "      border-top-color: var(--fill-color);\n",
              "    }\n",
              "    60% {\n",
              "      border-color: transparent;\n",
              "      border-right-color: var(--fill-color);\n",
              "    }\n",
              "    80% {\n",
              "      border-color: transparent;\n",
              "      border-right-color: var(--fill-color);\n",
              "      border-bottom-color: var(--fill-color);\n",
              "    }\n",
              "    90% {\n",
              "      border-color: transparent;\n",
              "      border-bottom-color: var(--fill-color);\n",
              "    }\n",
              "  }\n",
              "</style>\n",
              "\n",
              "  <script>\n",
              "    async function quickchart(key) {\n",
              "      const quickchartButtonEl =\n",
              "        document.querySelector('#' + key + ' button');\n",
              "      quickchartButtonEl.disabled = true;  // To prevent multiple clicks.\n",
              "      quickchartButtonEl.classList.add('colab-df-spinner');\n",
              "      try {\n",
              "        const charts = await google.colab.kernel.invokeFunction(\n",
              "            'suggestCharts', [key], {});\n",
              "      } catch (error) {\n",
              "        console.error('Error during call to suggestCharts:', error);\n",
              "      }\n",
              "      quickchartButtonEl.classList.remove('colab-df-spinner');\n",
              "      quickchartButtonEl.classList.add('colab-df-quickchart-complete');\n",
              "    }\n",
              "    (() => {\n",
              "      let quickchartButtonEl =\n",
              "        document.querySelector('#df-f3e45d04-5ef6-4a71-ba82-98a60c57181e button');\n",
              "      quickchartButtonEl.style.display =\n",
              "        google.colab.kernel.accessAllowed ? 'block' : 'none';\n",
              "    })();\n",
              "  </script>\n",
              "</div>\n",
              "    </div>\n",
              "  </div>\n"
            ]
          },
          "metadata": {},
          "execution_count": 112
        }
      ]
    },
    {
      "cell_type": "markdown",
      "source": [
        "**Delete duplicate rows**"
      ],
      "metadata": {
        "id": "4N-_Nwg0yL9f"
      }
    },
    {
      "cell_type": "code",
      "source": [
        "# Check for duplicates\n",
        "df.duplicated().sum()"
      ],
      "metadata": {
        "colab": {
          "base_uri": "https://localhost:8080/"
        },
        "id": "BhgWioRjyLZo",
        "outputId": "fe9aab20-706c-4f26-d815-e0f09753ea02"
      },
      "execution_count": null,
      "outputs": [
        {
          "output_type": "execute_result",
          "data": {
            "text/plain": [
              "0"
            ]
          },
          "metadata": {},
          "execution_count": 113
        }
      ]
    },
    {
      "cell_type": "markdown",
      "source": [
        "There is no duplicated rows."
      ],
      "metadata": {
        "id": "TEHVnNGnySWX"
      }
    },
    {
      "cell_type": "markdown",
      "source": [
        "**Identify missing values**"
      ],
      "metadata": {
        "id": "eM8Vf2ObyZ6u"
      }
    },
    {
      "cell_type": "code",
      "source": [
        "df.isna().sum()"
      ],
      "metadata": {
        "colab": {
          "base_uri": "https://localhost:8080/"
        },
        "id": "MkYSb4-vyeJw",
        "outputId": "a6f754d4-0186-430a-a69b-3468e2d44a8e"
      },
      "execution_count": null,
      "outputs": [
        {
          "output_type": "execute_result",
          "data": {
            "text/plain": [
              "Location_type                       0\n",
              "WH_capacity_size                    0\n",
              "zone                                0\n",
              "WH_regional_zone                    0\n",
              "num_refill_req_l3m                  0\n",
              "transport_issue_l1y                 0\n",
              "Competitor_in_mkt                   0\n",
              "retail_shop_num                     0\n",
              "wh_owner_type                       0\n",
              "distributor_num                     0\n",
              "flood_impacted                      0\n",
              "flood_proof                         0\n",
              "electric_supply                     0\n",
              "dist_from_hub                       0\n",
              "workers_num                       990\n",
              "wh_est_year                     11881\n",
              "storage_issue_reported_l3m          0\n",
              "temp_reg_mach                       0\n",
              "approved_wh_govt_certificate      908\n",
              "wh_breakdown_l3m                    0\n",
              "govt_check_l3m                      0\n",
              "product_wg_ton                      0\n",
              "dtype: int64"
            ]
          },
          "metadata": {},
          "execution_count": 114
        }
      ]
    },
    {
      "cell_type": "markdown",
      "source": [
        "### Data preprocessing"
      ],
      "metadata": {
        "id": "BPvvrYpKyn4X"
      }
    },
    {
      "cell_type": "code",
      "source": [
        "# Set the feature (X) and the target (y)\n",
        "X = df.drop(columns='product_wg_ton')\n",
        "y = df['product_wg_ton']"
      ],
      "metadata": {
        "id": "KY-wzhl6MlpM"
      },
      "execution_count": null,
      "outputs": []
    },
    {
      "cell_type": "code",
      "source": [
        "# train_test_split\n",
        "X_train, X_test, y_train, y_test = train_test_split(X, y, random_state=42)"
      ],
      "metadata": {
        "id": "KiEJdQuiMzgL"
      },
      "execution_count": null,
      "outputs": []
    },
    {
      "cell_type": "code",
      "source": [
        "# Select columns\n",
        "num_cols = make_column_selector(dtype_include='number')\n",
        "cat_cols = make_column_selector(dtype_include='object')"
      ],
      "metadata": {
        "id": "F72BY8nULhzW"
      },
      "execution_count": null,
      "outputs": []
    },
    {
      "cell_type": "code",
      "source": [
        "# Instantiate the scaler, onehotencoder and imputer\n",
        "scaler = StandardScaler()\n",
        "ohe = OneHotEncoder()\n",
        "impute_median = SimpleImputer(strategy='median')\n",
        "impute_freq = SimpleImputer(strategy='most_frequent')"
      ],
      "metadata": {
        "id": "jPiP6FZaP56f"
      },
      "execution_count": null,
      "outputs": []
    },
    {
      "cell_type": "code",
      "source": [
        "# Make pipeline\n",
        "num_pipe = make_pipeline(impute_median, scaler)\n",
        "cat_pipe = make_pipeline(impute_freq, ohe)"
      ],
      "metadata": {
        "id": "94GnIgcwQYRu"
      },
      "execution_count": null,
      "outputs": []
    },
    {
      "cell_type": "code",
      "source": [
        "# Set tuple\n",
        "num_tup = (num_pipe, num_cols)\n",
        "cat_tup = (cat_pipe, cat_cols)"
      ],
      "metadata": {
        "id": "-8pynO7zRK2X"
      },
      "execution_count": null,
      "outputs": []
    },
    {
      "cell_type": "code",
      "source": [
        "# Instantiate the column transformer\n",
        "col_tf = make_column_transformer(num_tup, cat_tup, remainder='passthrough')"
      ],
      "metadata": {
        "id": "W4wEvkSoRZhP"
      },
      "execution_count": null,
      "outputs": []
    },
    {
      "cell_type": "code",
      "source": [
        "# Fit the column transformer on the X_train\n",
        "X_train_processed = col_tf.fit(X_train)"
      ],
      "metadata": {
        "id": "3nuuLXVPR1_n"
      },
      "execution_count": null,
      "outputs": []
    },
    {
      "cell_type": "code",
      "source": [
        "# Extract the feature names from one hot encoder\n",
        "cat_feature_names = col_tf.named_transformers_['pipeline-2']\\\n",
        "                              .named_steps['onehotencoder']\\\n",
        "                              .get_feature_names_out(cat_cols(X_train))\n",
        "\n",
        "cat_feature_names"
      ],
      "metadata": {
        "colab": {
          "base_uri": "https://localhost:8080/"
        },
        "id": "IbNJ8mRWSqkW",
        "outputId": "4b056016-f2ab-42a4-823e-11c63a6602c1"
      },
      "execution_count": null,
      "outputs": [
        {
          "output_type": "execute_result",
          "data": {
            "text/plain": [
              "array(['Location_type_Rural', 'Location_type_Urban',\n",
              "       'WH_capacity_size_Large', 'WH_capacity_size_Mid',\n",
              "       'WH_capacity_size_Small', 'zone_East', 'zone_North', 'zone_South',\n",
              "       'zone_West', 'WH_regional_zone_Zone 1', 'WH_regional_zone_Zone 2',\n",
              "       'WH_regional_zone_Zone 3', 'WH_regional_zone_Zone 4',\n",
              "       'WH_regional_zone_Zone 5', 'WH_regional_zone_Zone 6',\n",
              "       'wh_owner_type_Company Owned', 'wh_owner_type_Rented',\n",
              "       'approved_wh_govt_certificate_A',\n",
              "       'approved_wh_govt_certificate_A+',\n",
              "       'approved_wh_govt_certificate_B',\n",
              "       'approved_wh_govt_certificate_B+',\n",
              "       'approved_wh_govt_certificate_C'], dtype=object)"
            ]
          },
          "metadata": {},
          "execution_count": 123
        }
      ]
    },
    {
      "cell_type": "code",
      "source": [
        "# Get final col names which are num features + cat features\n",
        "final_cols = num_cols(X_train) + list(cat_feature_names)\n",
        "final_cols"
      ],
      "metadata": {
        "colab": {
          "base_uri": "https://localhost:8080/"
        },
        "id": "pZOTj6sPS6kN",
        "outputId": "c9a4bb52-8e5d-4639-fd55-ffe76dcbbd92"
      },
      "execution_count": null,
      "outputs": [
        {
          "output_type": "execute_result",
          "data": {
            "text/plain": [
              "['num_refill_req_l3m',\n",
              " 'transport_issue_l1y',\n",
              " 'Competitor_in_mkt',\n",
              " 'retail_shop_num',\n",
              " 'distributor_num',\n",
              " 'flood_impacted',\n",
              " 'flood_proof',\n",
              " 'electric_supply',\n",
              " 'dist_from_hub',\n",
              " 'workers_num',\n",
              " 'wh_est_year',\n",
              " 'storage_issue_reported_l3m',\n",
              " 'temp_reg_mach',\n",
              " 'wh_breakdown_l3m',\n",
              " 'govt_check_l3m',\n",
              " 'Location_type_Rural',\n",
              " 'Location_type_Urban',\n",
              " 'WH_capacity_size_Large',\n",
              " 'WH_capacity_size_Mid',\n",
              " 'WH_capacity_size_Small',\n",
              " 'zone_East',\n",
              " 'zone_North',\n",
              " 'zone_South',\n",
              " 'zone_West',\n",
              " 'WH_regional_zone_Zone 1',\n",
              " 'WH_regional_zone_Zone 2',\n",
              " 'WH_regional_zone_Zone 3',\n",
              " 'WH_regional_zone_Zone 4',\n",
              " 'WH_regional_zone_Zone 5',\n",
              " 'WH_regional_zone_Zone 6',\n",
              " 'wh_owner_type_Company Owned',\n",
              " 'wh_owner_type_Rented',\n",
              " 'approved_wh_govt_certificate_A',\n",
              " 'approved_wh_govt_certificate_A+',\n",
              " 'approved_wh_govt_certificate_B',\n",
              " 'approved_wh_govt_certificate_B+',\n",
              " 'approved_wh_govt_certificate_C']"
            ]
          },
          "metadata": {},
          "execution_count": 124
        }
      ]
    },
    {
      "cell_type": "code",
      "source": [
        "# Transform the X_train and the X_test\n",
        "X_train_tf = col_tf.transform(X_train)\n",
        "X_test_tf = col_tf.transform(X_test)"
      ],
      "metadata": {
        "id": "dIrCcZCWTBe_"
      },
      "execution_count": null,
      "outputs": []
    },
    {
      "cell_type": "code",
      "source": [
        "# Change the X_train and X_test transformed columns to a dataframe\n",
        "X_train_output = pd.DataFrame(X_train_tf, columns = final_cols)\n",
        "X_test_output = pd.DataFrame(X_test_tf, columns = final_cols)"
      ],
      "metadata": {
        "id": "hYN9CRCWTHrF"
      },
      "execution_count": null,
      "outputs": []
    },
    {
      "cell_type": "markdown",
      "source": [
        "### Modeling"
      ],
      "metadata": {
        "id": "7HqQXa0tTiMU"
      }
    },
    {
      "cell_type": "markdown",
      "source": [
        "**Evaluation function**"
      ],
      "metadata": {
        "id": "fkVBFO3ojZF8"
      }
    },
    {
      "cell_type": "code",
      "source": [
        "def eval_model(true, pred):\n",
        "  mae = mean_absolute_error(true, pred)\n",
        "  mse = mean_squared_error(true, pred)\n",
        "  rmse = np.sqrt(mse)\n",
        "  r2 = r2_score(true, pred)\n",
        "  # print the results\n",
        "  print(f' MAE: {mae:.2f} \\n MSE: {mse:.2f} \\n RMSE: {rmse:.2f} \\n R2_score: {r2:.2f}')"
      ],
      "metadata": {
        "id": "O8vDms7WjbmB"
      },
      "execution_count": null,
      "outputs": []
    },
    {
      "cell_type": "markdown",
      "source": [
        "**Linear Regression**"
      ],
      "metadata": {
        "id": "89pLPBaah9bS"
      }
    },
    {
      "cell_type": "code",
      "source": [
        "# Instantiate the linear regression model\n",
        "lr = LinearRegression()"
      ],
      "metadata": {
        "id": "sqWIwRS9iBKK"
      },
      "execution_count": null,
      "outputs": []
    },
    {
      "cell_type": "code",
      "source": [
        "# Fit the linear regression model on the training data\n",
        "lr.fit(X_train_tf, y_train)"
      ],
      "metadata": {
        "colab": {
          "base_uri": "https://localhost:8080/",
          "height": 74
        },
        "id": "TDs7LBbci0_L",
        "outputId": "f3ca55a1-8a9c-4d3f-fb25-19953705ecdf"
      },
      "execution_count": null,
      "outputs": [
        {
          "output_type": "execute_result",
          "data": {
            "text/plain": [
              "LinearRegression()"
            ],
            "text/html": [
              "<style>#sk-container-id-10 {color: black;background-color: white;}#sk-container-id-10 pre{padding: 0;}#sk-container-id-10 div.sk-toggleable {background-color: white;}#sk-container-id-10 label.sk-toggleable__label {cursor: pointer;display: block;width: 100%;margin-bottom: 0;padding: 0.3em;box-sizing: border-box;text-align: center;}#sk-container-id-10 label.sk-toggleable__label-arrow:before {content: \"▸\";float: left;margin-right: 0.25em;color: #696969;}#sk-container-id-10 label.sk-toggleable__label-arrow:hover:before {color: black;}#sk-container-id-10 div.sk-estimator:hover label.sk-toggleable__label-arrow:before {color: black;}#sk-container-id-10 div.sk-toggleable__content {max-height: 0;max-width: 0;overflow: hidden;text-align: left;background-color: #f0f8ff;}#sk-container-id-10 div.sk-toggleable__content pre {margin: 0.2em;color: black;border-radius: 0.25em;background-color: #f0f8ff;}#sk-container-id-10 input.sk-toggleable__control:checked~div.sk-toggleable__content {max-height: 200px;max-width: 100%;overflow: auto;}#sk-container-id-10 input.sk-toggleable__control:checked~label.sk-toggleable__label-arrow:before {content: \"▾\";}#sk-container-id-10 div.sk-estimator input.sk-toggleable__control:checked~label.sk-toggleable__label {background-color: #d4ebff;}#sk-container-id-10 div.sk-label input.sk-toggleable__control:checked~label.sk-toggleable__label {background-color: #d4ebff;}#sk-container-id-10 input.sk-hidden--visually {border: 0;clip: rect(1px 1px 1px 1px);clip: rect(1px, 1px, 1px, 1px);height: 1px;margin: -1px;overflow: hidden;padding: 0;position: absolute;width: 1px;}#sk-container-id-10 div.sk-estimator {font-family: monospace;background-color: #f0f8ff;border: 1px dotted black;border-radius: 0.25em;box-sizing: border-box;margin-bottom: 0.5em;}#sk-container-id-10 div.sk-estimator:hover {background-color: #d4ebff;}#sk-container-id-10 div.sk-parallel-item::after {content: \"\";width: 100%;border-bottom: 1px solid gray;flex-grow: 1;}#sk-container-id-10 div.sk-label:hover label.sk-toggleable__label {background-color: #d4ebff;}#sk-container-id-10 div.sk-serial::before {content: \"\";position: absolute;border-left: 1px solid gray;box-sizing: border-box;top: 0;bottom: 0;left: 50%;z-index: 0;}#sk-container-id-10 div.sk-serial {display: flex;flex-direction: column;align-items: center;background-color: white;padding-right: 0.2em;padding-left: 0.2em;position: relative;}#sk-container-id-10 div.sk-item {position: relative;z-index: 1;}#sk-container-id-10 div.sk-parallel {display: flex;align-items: stretch;justify-content: center;background-color: white;position: relative;}#sk-container-id-10 div.sk-item::before, #sk-container-id-10 div.sk-parallel-item::before {content: \"\";position: absolute;border-left: 1px solid gray;box-sizing: border-box;top: 0;bottom: 0;left: 50%;z-index: -1;}#sk-container-id-10 div.sk-parallel-item {display: flex;flex-direction: column;z-index: 1;position: relative;background-color: white;}#sk-container-id-10 div.sk-parallel-item:first-child::after {align-self: flex-end;width: 50%;}#sk-container-id-10 div.sk-parallel-item:last-child::after {align-self: flex-start;width: 50%;}#sk-container-id-10 div.sk-parallel-item:only-child::after {width: 0;}#sk-container-id-10 div.sk-dashed-wrapped {border: 1px dashed gray;margin: 0 0.4em 0.5em 0.4em;box-sizing: border-box;padding-bottom: 0.4em;background-color: white;}#sk-container-id-10 div.sk-label label {font-family: monospace;font-weight: bold;display: inline-block;line-height: 1.2em;}#sk-container-id-10 div.sk-label-container {text-align: center;}#sk-container-id-10 div.sk-container {/* jupyter's `normalize.less` sets `[hidden] { display: none; }` but bootstrap.min.css set `[hidden] { display: none !important; }` so we also need the `!important` here to be able to override the default hidden behavior on the sphinx rendered scikit-learn.org. See: https://github.com/scikit-learn/scikit-learn/issues/21755 */display: inline-block !important;position: relative;}#sk-container-id-10 div.sk-text-repr-fallback {display: none;}</style><div id=\"sk-container-id-10\" class=\"sk-top-container\"><div class=\"sk-text-repr-fallback\"><pre>LinearRegression()</pre><b>In a Jupyter environment, please rerun this cell to show the HTML representation or trust the notebook. <br />On GitHub, the HTML representation is unable to render, please try loading this page with nbviewer.org.</b></div><div class=\"sk-container\" hidden><div class=\"sk-item\"><div class=\"sk-estimator sk-toggleable\"><input class=\"sk-toggleable__control sk-hidden--visually\" id=\"sk-estimator-id-14\" type=\"checkbox\" checked><label for=\"sk-estimator-id-14\" class=\"sk-toggleable__label sk-toggleable__label-arrow\">LinearRegression</label><div class=\"sk-toggleable__content\"><pre>LinearRegression()</pre></div></div></div></div></div>"
            ]
          },
          "metadata": {},
          "execution_count": 129
        }
      ]
    },
    {
      "cell_type": "code",
      "source": [
        "# Get predictions\n",
        "lr_train_preds = lr.predict(X_train_tf)\n",
        "lr_test_preds = lr.predict(X_test_tf)"
      ],
      "metadata": {
        "id": "Q3rI-i4mi-yk"
      },
      "execution_count": null,
      "outputs": []
    },
    {
      "cell_type": "code",
      "source": [
        "# Evaluate the results\n",
        "print('Training Data')\n",
        "eval_model(y_train, lr_train_preds)\n",
        "print('\\nTesting Data')\n",
        "eval_model(y_test , lr_test_preds)"
      ],
      "metadata": {
        "colab": {
          "base_uri": "https://localhost:8080/"
        },
        "id": "AGEClsxWkkT5",
        "outputId": "b4ad2884-ff78-4f5c-d0f4-d171d02db34b"
      },
      "execution_count": null,
      "outputs": [
        {
          "output_type": "stream",
          "name": "stdout",
          "text": [
            "Training Data\n",
            " MAE: 1004.44 \n",
            " MSE: 1898132.57 \n",
            " RMSE: 1377.73 \n",
            " R2_score: 0.99\n",
            "\n",
            "Testing Data\n",
            " MAE: 1012.77 \n",
            " MSE: 1939645.58 \n",
            " RMSE: 1392.71 \n",
            " R2_score: 0.99\n"
          ]
        }
      ]
    },
    {
      "cell_type": "markdown",
      "source": [
        "**Decision Tree Regressor**"
      ],
      "metadata": {
        "id": "NJdSs8B7nE7-"
      }
    },
    {
      "cell_type": "code",
      "source": [
        "# Instantiate the Decision Tree Regressor\n",
        "dt = DecisionTreeRegressor(random_state=42)"
      ],
      "metadata": {
        "id": "J2oZKHggnIUF"
      },
      "execution_count": null,
      "outputs": []
    },
    {
      "cell_type": "code",
      "source": [
        "# Fit the Decision Tree Regressor on the training data\n",
        "dt.fit(X_train_tf, y_train)"
      ],
      "metadata": {
        "colab": {
          "base_uri": "https://localhost:8080/",
          "height": 74
        },
        "id": "aJ0ibLHQoNdt",
        "outputId": "86ee93bb-602f-4707-8efc-417916e10a70"
      },
      "execution_count": null,
      "outputs": [
        {
          "output_type": "execute_result",
          "data": {
            "text/plain": [
              "DecisionTreeRegressor(random_state=42)"
            ],
            "text/html": [
              "<style>#sk-container-id-11 {color: black;background-color: white;}#sk-container-id-11 pre{padding: 0;}#sk-container-id-11 div.sk-toggleable {background-color: white;}#sk-container-id-11 label.sk-toggleable__label {cursor: pointer;display: block;width: 100%;margin-bottom: 0;padding: 0.3em;box-sizing: border-box;text-align: center;}#sk-container-id-11 label.sk-toggleable__label-arrow:before {content: \"▸\";float: left;margin-right: 0.25em;color: #696969;}#sk-container-id-11 label.sk-toggleable__label-arrow:hover:before {color: black;}#sk-container-id-11 div.sk-estimator:hover label.sk-toggleable__label-arrow:before {color: black;}#sk-container-id-11 div.sk-toggleable__content {max-height: 0;max-width: 0;overflow: hidden;text-align: left;background-color: #f0f8ff;}#sk-container-id-11 div.sk-toggleable__content pre {margin: 0.2em;color: black;border-radius: 0.25em;background-color: #f0f8ff;}#sk-container-id-11 input.sk-toggleable__control:checked~div.sk-toggleable__content {max-height: 200px;max-width: 100%;overflow: auto;}#sk-container-id-11 input.sk-toggleable__control:checked~label.sk-toggleable__label-arrow:before {content: \"▾\";}#sk-container-id-11 div.sk-estimator input.sk-toggleable__control:checked~label.sk-toggleable__label {background-color: #d4ebff;}#sk-container-id-11 div.sk-label input.sk-toggleable__control:checked~label.sk-toggleable__label {background-color: #d4ebff;}#sk-container-id-11 input.sk-hidden--visually {border: 0;clip: rect(1px 1px 1px 1px);clip: rect(1px, 1px, 1px, 1px);height: 1px;margin: -1px;overflow: hidden;padding: 0;position: absolute;width: 1px;}#sk-container-id-11 div.sk-estimator {font-family: monospace;background-color: #f0f8ff;border: 1px dotted black;border-radius: 0.25em;box-sizing: border-box;margin-bottom: 0.5em;}#sk-container-id-11 div.sk-estimator:hover {background-color: #d4ebff;}#sk-container-id-11 div.sk-parallel-item::after {content: \"\";width: 100%;border-bottom: 1px solid gray;flex-grow: 1;}#sk-container-id-11 div.sk-label:hover label.sk-toggleable__label {background-color: #d4ebff;}#sk-container-id-11 div.sk-serial::before {content: \"\";position: absolute;border-left: 1px solid gray;box-sizing: border-box;top: 0;bottom: 0;left: 50%;z-index: 0;}#sk-container-id-11 div.sk-serial {display: flex;flex-direction: column;align-items: center;background-color: white;padding-right: 0.2em;padding-left: 0.2em;position: relative;}#sk-container-id-11 div.sk-item {position: relative;z-index: 1;}#sk-container-id-11 div.sk-parallel {display: flex;align-items: stretch;justify-content: center;background-color: white;position: relative;}#sk-container-id-11 div.sk-item::before, #sk-container-id-11 div.sk-parallel-item::before {content: \"\";position: absolute;border-left: 1px solid gray;box-sizing: border-box;top: 0;bottom: 0;left: 50%;z-index: -1;}#sk-container-id-11 div.sk-parallel-item {display: flex;flex-direction: column;z-index: 1;position: relative;background-color: white;}#sk-container-id-11 div.sk-parallel-item:first-child::after {align-self: flex-end;width: 50%;}#sk-container-id-11 div.sk-parallel-item:last-child::after {align-self: flex-start;width: 50%;}#sk-container-id-11 div.sk-parallel-item:only-child::after {width: 0;}#sk-container-id-11 div.sk-dashed-wrapped {border: 1px dashed gray;margin: 0 0.4em 0.5em 0.4em;box-sizing: border-box;padding-bottom: 0.4em;background-color: white;}#sk-container-id-11 div.sk-label label {font-family: monospace;font-weight: bold;display: inline-block;line-height: 1.2em;}#sk-container-id-11 div.sk-label-container {text-align: center;}#sk-container-id-11 div.sk-container {/* jupyter's `normalize.less` sets `[hidden] { display: none; }` but bootstrap.min.css set `[hidden] { display: none !important; }` so we also need the `!important` here to be able to override the default hidden behavior on the sphinx rendered scikit-learn.org. See: https://github.com/scikit-learn/scikit-learn/issues/21755 */display: inline-block !important;position: relative;}#sk-container-id-11 div.sk-text-repr-fallback {display: none;}</style><div id=\"sk-container-id-11\" class=\"sk-top-container\"><div class=\"sk-text-repr-fallback\"><pre>DecisionTreeRegressor(random_state=42)</pre><b>In a Jupyter environment, please rerun this cell to show the HTML representation or trust the notebook. <br />On GitHub, the HTML representation is unable to render, please try loading this page with nbviewer.org.</b></div><div class=\"sk-container\" hidden><div class=\"sk-item\"><div class=\"sk-estimator sk-toggleable\"><input class=\"sk-toggleable__control sk-hidden--visually\" id=\"sk-estimator-id-15\" type=\"checkbox\" checked><label for=\"sk-estimator-id-15\" class=\"sk-toggleable__label sk-toggleable__label-arrow\">DecisionTreeRegressor</label><div class=\"sk-toggleable__content\"><pre>DecisionTreeRegressor(random_state=42)</pre></div></div></div></div></div>"
            ]
          },
          "metadata": {},
          "execution_count": 133
        }
      ]
    },
    {
      "cell_type": "code",
      "source": [
        "# Get predictions\n",
        "dt_train_preds = dt.predict(X_train_tf)\n",
        "dt_test_preds = dt.predict(X_test_tf)"
      ],
      "metadata": {
        "id": "WNGhCamVolGN"
      },
      "execution_count": null,
      "outputs": []
    },
    {
      "cell_type": "code",
      "source": [
        "# Evaluate the results\n",
        "print('Training Data')\n",
        "eval_model(y_train, dt_train_preds)\n",
        "print('\\nTesting Data')\n",
        "eval_model(y_test , dt_test_preds)"
      ],
      "metadata": {
        "colab": {
          "base_uri": "https://localhost:8080/"
        },
        "id": "mB3GPh9Pou1W",
        "outputId": "0d814354-a310-4131-f9cb-eb6c4fa13265"
      },
      "execution_count": null,
      "outputs": [
        {
          "output_type": "stream",
          "name": "stdout",
          "text": [
            "Training Data\n",
            " MAE: 0.00 \n",
            " MSE: 0.00 \n",
            " RMSE: 0.00 \n",
            " R2_score: 1.00\n",
            "\n",
            "Testing Data\n",
            " MAE: 812.52 \n",
            " MSE: 1478049.15 \n",
            " RMSE: 1215.75 \n",
            " R2_score: 0.99\n"
          ]
        }
      ]
    },
    {
      "cell_type": "markdown",
      "source": [
        "**Tunned Decision Tree Regressor**"
      ],
      "metadata": {
        "id": "HgmrkM86tX5B"
      }
    },
    {
      "cell_type": "code",
      "source": [
        "# Instantiate the Tunned Decision Tree Regressor\n",
        "tdt = DecisionTreeRegressor()"
      ],
      "metadata": {
        "id": "LmhH4G8ds7MH"
      },
      "execution_count": null,
      "outputs": []
    },
    {
      "cell_type": "code",
      "source": [
        "# Get parameters\n",
        "tdt.get_params()"
      ],
      "metadata": {
        "colab": {
          "base_uri": "https://localhost:8080/"
        },
        "id": "u-mc5mPStv-T",
        "outputId": "51404f97-6bae-4e32-fba3-cd93400dc73a"
      },
      "execution_count": null,
      "outputs": [
        {
          "output_type": "execute_result",
          "data": {
            "text/plain": [
              "{'ccp_alpha': 0.0,\n",
              " 'criterion': 'squared_error',\n",
              " 'max_depth': None,\n",
              " 'max_features': None,\n",
              " 'max_leaf_nodes': None,\n",
              " 'min_impurity_decrease': 0.0,\n",
              " 'min_samples_leaf': 1,\n",
              " 'min_samples_split': 2,\n",
              " 'min_weight_fraction_leaf': 0.0,\n",
              " 'random_state': None,\n",
              " 'splitter': 'best'}"
            ]
          },
          "metadata": {},
          "execution_count": 137
        }
      ]
    },
    {
      "cell_type": "code",
      "source": [
        "# Set the parameters grid\n",
        "param_grid={'max_depth':[1,2,3],\n",
        "            'min_samples_leaf':[5,10,20],\n",
        "            'min_samples_split':[5,10,100]}"
      ],
      "metadata": {
        "id": "764rv-3dt1Kv"
      },
      "execution_count": null,
      "outputs": []
    },
    {
      "cell_type": "code",
      "source": [
        "# Instantiate the GridSearchCV\n",
        "tdt_gs = GridSearchCV(tdt, param_grid)"
      ],
      "metadata": {
        "id": "AlfLhNB-uRrG"
      },
      "execution_count": null,
      "outputs": []
    },
    {
      "cell_type": "code",
      "source": [
        "# Fit the GridSearchCV on the training data\n",
        "tdt_gs.fit(X_train_tf, y_train)"
      ],
      "metadata": {
        "colab": {
          "base_uri": "https://localhost:8080/",
          "height": 116
        },
        "id": "_W9tpplZuiOh",
        "outputId": "69500a37-117f-4e26-8b4a-d84a549b8eac"
      },
      "execution_count": null,
      "outputs": [
        {
          "output_type": "execute_result",
          "data": {
            "text/plain": [
              "GridSearchCV(estimator=DecisionTreeRegressor(),\n",
              "             param_grid={'max_depth': [1, 2, 3],\n",
              "                         'min_samples_leaf': [5, 10, 20],\n",
              "                         'min_samples_split': [5, 10, 100]})"
            ],
            "text/html": [
              "<style>#sk-container-id-12 {color: black;background-color: white;}#sk-container-id-12 pre{padding: 0;}#sk-container-id-12 div.sk-toggleable {background-color: white;}#sk-container-id-12 label.sk-toggleable__label {cursor: pointer;display: block;width: 100%;margin-bottom: 0;padding: 0.3em;box-sizing: border-box;text-align: center;}#sk-container-id-12 label.sk-toggleable__label-arrow:before {content: \"▸\";float: left;margin-right: 0.25em;color: #696969;}#sk-container-id-12 label.sk-toggleable__label-arrow:hover:before {color: black;}#sk-container-id-12 div.sk-estimator:hover label.sk-toggleable__label-arrow:before {color: black;}#sk-container-id-12 div.sk-toggleable__content {max-height: 0;max-width: 0;overflow: hidden;text-align: left;background-color: #f0f8ff;}#sk-container-id-12 div.sk-toggleable__content pre {margin: 0.2em;color: black;border-radius: 0.25em;background-color: #f0f8ff;}#sk-container-id-12 input.sk-toggleable__control:checked~div.sk-toggleable__content {max-height: 200px;max-width: 100%;overflow: auto;}#sk-container-id-12 input.sk-toggleable__control:checked~label.sk-toggleable__label-arrow:before {content: \"▾\";}#sk-container-id-12 div.sk-estimator input.sk-toggleable__control:checked~label.sk-toggleable__label {background-color: #d4ebff;}#sk-container-id-12 div.sk-label input.sk-toggleable__control:checked~label.sk-toggleable__label {background-color: #d4ebff;}#sk-container-id-12 input.sk-hidden--visually {border: 0;clip: rect(1px 1px 1px 1px);clip: rect(1px, 1px, 1px, 1px);height: 1px;margin: -1px;overflow: hidden;padding: 0;position: absolute;width: 1px;}#sk-container-id-12 div.sk-estimator {font-family: monospace;background-color: #f0f8ff;border: 1px dotted black;border-radius: 0.25em;box-sizing: border-box;margin-bottom: 0.5em;}#sk-container-id-12 div.sk-estimator:hover {background-color: #d4ebff;}#sk-container-id-12 div.sk-parallel-item::after {content: \"\";width: 100%;border-bottom: 1px solid gray;flex-grow: 1;}#sk-container-id-12 div.sk-label:hover label.sk-toggleable__label {background-color: #d4ebff;}#sk-container-id-12 div.sk-serial::before {content: \"\";position: absolute;border-left: 1px solid gray;box-sizing: border-box;top: 0;bottom: 0;left: 50%;z-index: 0;}#sk-container-id-12 div.sk-serial {display: flex;flex-direction: column;align-items: center;background-color: white;padding-right: 0.2em;padding-left: 0.2em;position: relative;}#sk-container-id-12 div.sk-item {position: relative;z-index: 1;}#sk-container-id-12 div.sk-parallel {display: flex;align-items: stretch;justify-content: center;background-color: white;position: relative;}#sk-container-id-12 div.sk-item::before, #sk-container-id-12 div.sk-parallel-item::before {content: \"\";position: absolute;border-left: 1px solid gray;box-sizing: border-box;top: 0;bottom: 0;left: 50%;z-index: -1;}#sk-container-id-12 div.sk-parallel-item {display: flex;flex-direction: column;z-index: 1;position: relative;background-color: white;}#sk-container-id-12 div.sk-parallel-item:first-child::after {align-self: flex-end;width: 50%;}#sk-container-id-12 div.sk-parallel-item:last-child::after {align-self: flex-start;width: 50%;}#sk-container-id-12 div.sk-parallel-item:only-child::after {width: 0;}#sk-container-id-12 div.sk-dashed-wrapped {border: 1px dashed gray;margin: 0 0.4em 0.5em 0.4em;box-sizing: border-box;padding-bottom: 0.4em;background-color: white;}#sk-container-id-12 div.sk-label label {font-family: monospace;font-weight: bold;display: inline-block;line-height: 1.2em;}#sk-container-id-12 div.sk-label-container {text-align: center;}#sk-container-id-12 div.sk-container {/* jupyter's `normalize.less` sets `[hidden] { display: none; }` but bootstrap.min.css set `[hidden] { display: none !important; }` so we also need the `!important` here to be able to override the default hidden behavior on the sphinx rendered scikit-learn.org. See: https://github.com/scikit-learn/scikit-learn/issues/21755 */display: inline-block !important;position: relative;}#sk-container-id-12 div.sk-text-repr-fallback {display: none;}</style><div id=\"sk-container-id-12\" class=\"sk-top-container\"><div class=\"sk-text-repr-fallback\"><pre>GridSearchCV(estimator=DecisionTreeRegressor(),\n",
              "             param_grid={&#x27;max_depth&#x27;: [1, 2, 3],\n",
              "                         &#x27;min_samples_leaf&#x27;: [5, 10, 20],\n",
              "                         &#x27;min_samples_split&#x27;: [5, 10, 100]})</pre><b>In a Jupyter environment, please rerun this cell to show the HTML representation or trust the notebook. <br />On GitHub, the HTML representation is unable to render, please try loading this page with nbviewer.org.</b></div><div class=\"sk-container\" hidden><div class=\"sk-item sk-dashed-wrapped\"><div class=\"sk-label-container\"><div class=\"sk-label sk-toggleable\"><input class=\"sk-toggleable__control sk-hidden--visually\" id=\"sk-estimator-id-16\" type=\"checkbox\" ><label for=\"sk-estimator-id-16\" class=\"sk-toggleable__label sk-toggleable__label-arrow\">GridSearchCV</label><div class=\"sk-toggleable__content\"><pre>GridSearchCV(estimator=DecisionTreeRegressor(),\n",
              "             param_grid={&#x27;max_depth&#x27;: [1, 2, 3],\n",
              "                         &#x27;min_samples_leaf&#x27;: [5, 10, 20],\n",
              "                         &#x27;min_samples_split&#x27;: [5, 10, 100]})</pre></div></div></div><div class=\"sk-parallel\"><div class=\"sk-parallel-item\"><div class=\"sk-item\"><div class=\"sk-label-container\"><div class=\"sk-label sk-toggleable\"><input class=\"sk-toggleable__control sk-hidden--visually\" id=\"sk-estimator-id-17\" type=\"checkbox\" ><label for=\"sk-estimator-id-17\" class=\"sk-toggleable__label sk-toggleable__label-arrow\">estimator: DecisionTreeRegressor</label><div class=\"sk-toggleable__content\"><pre>DecisionTreeRegressor()</pre></div></div></div><div class=\"sk-serial\"><div class=\"sk-item\"><div class=\"sk-estimator sk-toggleable\"><input class=\"sk-toggleable__control sk-hidden--visually\" id=\"sk-estimator-id-18\" type=\"checkbox\" ><label for=\"sk-estimator-id-18\" class=\"sk-toggleable__label sk-toggleable__label-arrow\">DecisionTreeRegressor</label><div class=\"sk-toggleable__content\"><pre>DecisionTreeRegressor()</pre></div></div></div></div></div></div></div></div></div></div>"
            ]
          },
          "metadata": {},
          "execution_count": 140
        }
      ]
    },
    {
      "cell_type": "code",
      "source": [
        "tdt_gs.best_params_"
      ],
      "metadata": {
        "colab": {
          "base_uri": "https://localhost:8080/"
        },
        "id": "RvGIJNZxvTkX",
        "outputId": "bfb6462e-dbd0-4ae2-de08-b901510a4ace"
      },
      "execution_count": null,
      "outputs": [
        {
          "output_type": "execute_result",
          "data": {
            "text/plain": [
              "{'max_depth': 3, 'min_samples_leaf': 5, 'min_samples_split': 5}"
            ]
          },
          "metadata": {},
          "execution_count": 141
        }
      ]
    },
    {
      "cell_type": "code",
      "source": [
        "# Get the best Tunned Decision Tree Regressor\n",
        "best_tdt = tdt_gs.best_estimator_"
      ],
      "metadata": {
        "id": "5ZyUHRELvkWP"
      },
      "execution_count": null,
      "outputs": []
    },
    {
      "cell_type": "code",
      "source": [
        "# Fit the best Tunned Decision Tree Regressor on training data\n",
        "best_tdt.fit(X_train_tf, y_train)"
      ],
      "metadata": {
        "colab": {
          "base_uri": "https://localhost:8080/",
          "height": 74
        },
        "id": "f2DxiXETvwhj",
        "outputId": "12edd3dd-1472-4e91-a7aa-fb9d409f46d8"
      },
      "execution_count": null,
      "outputs": [
        {
          "output_type": "execute_result",
          "data": {
            "text/plain": [
              "DecisionTreeRegressor(max_depth=3, min_samples_leaf=5, min_samples_split=5)"
            ],
            "text/html": [
              "<style>#sk-container-id-13 {color: black;background-color: white;}#sk-container-id-13 pre{padding: 0;}#sk-container-id-13 div.sk-toggleable {background-color: white;}#sk-container-id-13 label.sk-toggleable__label {cursor: pointer;display: block;width: 100%;margin-bottom: 0;padding: 0.3em;box-sizing: border-box;text-align: center;}#sk-container-id-13 label.sk-toggleable__label-arrow:before {content: \"▸\";float: left;margin-right: 0.25em;color: #696969;}#sk-container-id-13 label.sk-toggleable__label-arrow:hover:before {color: black;}#sk-container-id-13 div.sk-estimator:hover label.sk-toggleable__label-arrow:before {color: black;}#sk-container-id-13 div.sk-toggleable__content {max-height: 0;max-width: 0;overflow: hidden;text-align: left;background-color: #f0f8ff;}#sk-container-id-13 div.sk-toggleable__content pre {margin: 0.2em;color: black;border-radius: 0.25em;background-color: #f0f8ff;}#sk-container-id-13 input.sk-toggleable__control:checked~div.sk-toggleable__content {max-height: 200px;max-width: 100%;overflow: auto;}#sk-container-id-13 input.sk-toggleable__control:checked~label.sk-toggleable__label-arrow:before {content: \"▾\";}#sk-container-id-13 div.sk-estimator input.sk-toggleable__control:checked~label.sk-toggleable__label {background-color: #d4ebff;}#sk-container-id-13 div.sk-label input.sk-toggleable__control:checked~label.sk-toggleable__label {background-color: #d4ebff;}#sk-container-id-13 input.sk-hidden--visually {border: 0;clip: rect(1px 1px 1px 1px);clip: rect(1px, 1px, 1px, 1px);height: 1px;margin: -1px;overflow: hidden;padding: 0;position: absolute;width: 1px;}#sk-container-id-13 div.sk-estimator {font-family: monospace;background-color: #f0f8ff;border: 1px dotted black;border-radius: 0.25em;box-sizing: border-box;margin-bottom: 0.5em;}#sk-container-id-13 div.sk-estimator:hover {background-color: #d4ebff;}#sk-container-id-13 div.sk-parallel-item::after {content: \"\";width: 100%;border-bottom: 1px solid gray;flex-grow: 1;}#sk-container-id-13 div.sk-label:hover label.sk-toggleable__label {background-color: #d4ebff;}#sk-container-id-13 div.sk-serial::before {content: \"\";position: absolute;border-left: 1px solid gray;box-sizing: border-box;top: 0;bottom: 0;left: 50%;z-index: 0;}#sk-container-id-13 div.sk-serial {display: flex;flex-direction: column;align-items: center;background-color: white;padding-right: 0.2em;padding-left: 0.2em;position: relative;}#sk-container-id-13 div.sk-item {position: relative;z-index: 1;}#sk-container-id-13 div.sk-parallel {display: flex;align-items: stretch;justify-content: center;background-color: white;position: relative;}#sk-container-id-13 div.sk-item::before, #sk-container-id-13 div.sk-parallel-item::before {content: \"\";position: absolute;border-left: 1px solid gray;box-sizing: border-box;top: 0;bottom: 0;left: 50%;z-index: -1;}#sk-container-id-13 div.sk-parallel-item {display: flex;flex-direction: column;z-index: 1;position: relative;background-color: white;}#sk-container-id-13 div.sk-parallel-item:first-child::after {align-self: flex-end;width: 50%;}#sk-container-id-13 div.sk-parallel-item:last-child::after {align-self: flex-start;width: 50%;}#sk-container-id-13 div.sk-parallel-item:only-child::after {width: 0;}#sk-container-id-13 div.sk-dashed-wrapped {border: 1px dashed gray;margin: 0 0.4em 0.5em 0.4em;box-sizing: border-box;padding-bottom: 0.4em;background-color: white;}#sk-container-id-13 div.sk-label label {font-family: monospace;font-weight: bold;display: inline-block;line-height: 1.2em;}#sk-container-id-13 div.sk-label-container {text-align: center;}#sk-container-id-13 div.sk-container {/* jupyter's `normalize.less` sets `[hidden] { display: none; }` but bootstrap.min.css set `[hidden] { display: none !important; }` so we also need the `!important` here to be able to override the default hidden behavior on the sphinx rendered scikit-learn.org. See: https://github.com/scikit-learn/scikit-learn/issues/21755 */display: inline-block !important;position: relative;}#sk-container-id-13 div.sk-text-repr-fallback {display: none;}</style><div id=\"sk-container-id-13\" class=\"sk-top-container\"><div class=\"sk-text-repr-fallback\"><pre>DecisionTreeRegressor(max_depth=3, min_samples_leaf=5, min_samples_split=5)</pre><b>In a Jupyter environment, please rerun this cell to show the HTML representation or trust the notebook. <br />On GitHub, the HTML representation is unable to render, please try loading this page with nbviewer.org.</b></div><div class=\"sk-container\" hidden><div class=\"sk-item\"><div class=\"sk-estimator sk-toggleable\"><input class=\"sk-toggleable__control sk-hidden--visually\" id=\"sk-estimator-id-19\" type=\"checkbox\" checked><label for=\"sk-estimator-id-19\" class=\"sk-toggleable__label sk-toggleable__label-arrow\">DecisionTreeRegressor</label><div class=\"sk-toggleable__content\"><pre>DecisionTreeRegressor(max_depth=3, min_samples_leaf=5, min_samples_split=5)</pre></div></div></div></div></div>"
            ]
          },
          "metadata": {},
          "execution_count": 143
        }
      ]
    },
    {
      "cell_type": "code",
      "source": [
        "# Get predictions\n",
        "best_tdt_train_preds = best_tdt.predict(X_train_tf)\n",
        "best_tdt_test_preds = best_tdt.predict(X_test_tf)"
      ],
      "metadata": {
        "id": "3Dis26S6v7k0"
      },
      "execution_count": null,
      "outputs": []
    },
    {
      "cell_type": "code",
      "source": [
        "# Evaluate the results\n",
        "print('Training Data')\n",
        "eval_model(y_train, best_tdt_train_preds)\n",
        "print('\\nTesting Data')\n",
        "eval_model(y_test , best_tdt_test_preds)"
      ],
      "metadata": {
        "colab": {
          "base_uri": "https://localhost:8080/"
        },
        "id": "HuddxsDMwCj1",
        "outputId": "25a77404-9543-4aea-cda8-967e826f8a15"
      },
      "execution_count": null,
      "outputs": [
        {
          "output_type": "stream",
          "name": "stdout",
          "text": [
            "Training Data\n",
            " MAE: 1711.86 \n",
            " MSE: 4870875.39 \n",
            " RMSE: 2207.01 \n",
            " R2_score: 0.96\n",
            "\n",
            "Testing Data\n",
            " MAE: 1733.39 \n",
            " MSE: 4941592.41 \n",
            " RMSE: 2222.97 \n",
            " R2_score: 0.96\n"
          ]
        }
      ]
    },
    {
      "cell_type": "markdown",
      "source": [
        "**Random Forest Regressor**"
      ],
      "metadata": {
        "id": "lm3VbRCSyHpe"
      }
    },
    {
      "cell_type": "code",
      "source": [
        "# Instantiate the Random Forest Regressor\n",
        "rf = RandomForestRegressor(random_state=42)"
      ],
      "metadata": {
        "id": "YuQwokeByKRD"
      },
      "execution_count": null,
      "outputs": []
    },
    {
      "cell_type": "code",
      "source": [
        "# Fit the Random Forest Regressor on training data\n",
        "rf.fit(X_train_tf, y_train)"
      ],
      "metadata": {
        "colab": {
          "base_uri": "https://localhost:8080/",
          "height": 74
        },
        "id": "j73ueB7Qy7MU",
        "outputId": "8817634b-9f97-4ecc-bdfb-96c74ac18eab"
      },
      "execution_count": null,
      "outputs": [
        {
          "output_type": "execute_result",
          "data": {
            "text/plain": [
              "RandomForestRegressor(random_state=42)"
            ],
            "text/html": [
              "<style>#sk-container-id-14 {color: black;background-color: white;}#sk-container-id-14 pre{padding: 0;}#sk-container-id-14 div.sk-toggleable {background-color: white;}#sk-container-id-14 label.sk-toggleable__label {cursor: pointer;display: block;width: 100%;margin-bottom: 0;padding: 0.3em;box-sizing: border-box;text-align: center;}#sk-container-id-14 label.sk-toggleable__label-arrow:before {content: \"▸\";float: left;margin-right: 0.25em;color: #696969;}#sk-container-id-14 label.sk-toggleable__label-arrow:hover:before {color: black;}#sk-container-id-14 div.sk-estimator:hover label.sk-toggleable__label-arrow:before {color: black;}#sk-container-id-14 div.sk-toggleable__content {max-height: 0;max-width: 0;overflow: hidden;text-align: left;background-color: #f0f8ff;}#sk-container-id-14 div.sk-toggleable__content pre {margin: 0.2em;color: black;border-radius: 0.25em;background-color: #f0f8ff;}#sk-container-id-14 input.sk-toggleable__control:checked~div.sk-toggleable__content {max-height: 200px;max-width: 100%;overflow: auto;}#sk-container-id-14 input.sk-toggleable__control:checked~label.sk-toggleable__label-arrow:before {content: \"▾\";}#sk-container-id-14 div.sk-estimator input.sk-toggleable__control:checked~label.sk-toggleable__label {background-color: #d4ebff;}#sk-container-id-14 div.sk-label input.sk-toggleable__control:checked~label.sk-toggleable__label {background-color: #d4ebff;}#sk-container-id-14 input.sk-hidden--visually {border: 0;clip: rect(1px 1px 1px 1px);clip: rect(1px, 1px, 1px, 1px);height: 1px;margin: -1px;overflow: hidden;padding: 0;position: absolute;width: 1px;}#sk-container-id-14 div.sk-estimator {font-family: monospace;background-color: #f0f8ff;border: 1px dotted black;border-radius: 0.25em;box-sizing: border-box;margin-bottom: 0.5em;}#sk-container-id-14 div.sk-estimator:hover {background-color: #d4ebff;}#sk-container-id-14 div.sk-parallel-item::after {content: \"\";width: 100%;border-bottom: 1px solid gray;flex-grow: 1;}#sk-container-id-14 div.sk-label:hover label.sk-toggleable__label {background-color: #d4ebff;}#sk-container-id-14 div.sk-serial::before {content: \"\";position: absolute;border-left: 1px solid gray;box-sizing: border-box;top: 0;bottom: 0;left: 50%;z-index: 0;}#sk-container-id-14 div.sk-serial {display: flex;flex-direction: column;align-items: center;background-color: white;padding-right: 0.2em;padding-left: 0.2em;position: relative;}#sk-container-id-14 div.sk-item {position: relative;z-index: 1;}#sk-container-id-14 div.sk-parallel {display: flex;align-items: stretch;justify-content: center;background-color: white;position: relative;}#sk-container-id-14 div.sk-item::before, #sk-container-id-14 div.sk-parallel-item::before {content: \"\";position: absolute;border-left: 1px solid gray;box-sizing: border-box;top: 0;bottom: 0;left: 50%;z-index: -1;}#sk-container-id-14 div.sk-parallel-item {display: flex;flex-direction: column;z-index: 1;position: relative;background-color: white;}#sk-container-id-14 div.sk-parallel-item:first-child::after {align-self: flex-end;width: 50%;}#sk-container-id-14 div.sk-parallel-item:last-child::after {align-self: flex-start;width: 50%;}#sk-container-id-14 div.sk-parallel-item:only-child::after {width: 0;}#sk-container-id-14 div.sk-dashed-wrapped {border: 1px dashed gray;margin: 0 0.4em 0.5em 0.4em;box-sizing: border-box;padding-bottom: 0.4em;background-color: white;}#sk-container-id-14 div.sk-label label {font-family: monospace;font-weight: bold;display: inline-block;line-height: 1.2em;}#sk-container-id-14 div.sk-label-container {text-align: center;}#sk-container-id-14 div.sk-container {/* jupyter's `normalize.less` sets `[hidden] { display: none; }` but bootstrap.min.css set `[hidden] { display: none !important; }` so we also need the `!important` here to be able to override the default hidden behavior on the sphinx rendered scikit-learn.org. See: https://github.com/scikit-learn/scikit-learn/issues/21755 */display: inline-block !important;position: relative;}#sk-container-id-14 div.sk-text-repr-fallback {display: none;}</style><div id=\"sk-container-id-14\" class=\"sk-top-container\"><div class=\"sk-text-repr-fallback\"><pre>RandomForestRegressor(random_state=42)</pre><b>In a Jupyter environment, please rerun this cell to show the HTML representation or trust the notebook. <br />On GitHub, the HTML representation is unable to render, please try loading this page with nbviewer.org.</b></div><div class=\"sk-container\" hidden><div class=\"sk-item\"><div class=\"sk-estimator sk-toggleable\"><input class=\"sk-toggleable__control sk-hidden--visually\" id=\"sk-estimator-id-20\" type=\"checkbox\" checked><label for=\"sk-estimator-id-20\" class=\"sk-toggleable__label sk-toggleable__label-arrow\">RandomForestRegressor</label><div class=\"sk-toggleable__content\"><pre>RandomForestRegressor(random_state=42)</pre></div></div></div></div></div>"
            ]
          },
          "metadata": {},
          "execution_count": 147
        }
      ]
    },
    {
      "cell_type": "code",
      "source": [
        "# Get predictions\n",
        "rf_train_preds = rf.predict(X_train_tf)\n",
        "rf_test_preds = rf.predict(X_test_tf)"
      ],
      "metadata": {
        "id": "314EOV6qzEBA"
      },
      "execution_count": null,
      "outputs": []
    },
    {
      "cell_type": "code",
      "source": [
        "# Evaluate the results\n",
        "print('Training Data')\n",
        "eval_model(y_train, rf_train_preds)\n",
        "print('\\nTesting Data')\n",
        "eval_model(y_test , rf_test_preds)"
      ],
      "metadata": {
        "colab": {
          "base_uri": "https://localhost:8080/"
        },
        "id": "Hip2jJw3zOOJ",
        "outputId": "1ee2d018-642b-46e3-ef05-a8c2ee7cdff6"
      },
      "execution_count": null,
      "outputs": [
        {
          "output_type": "stream",
          "name": "stdout",
          "text": [
            "Training Data\n",
            " MAE: 247.67 \n",
            " MSE: 115238.06 \n",
            " RMSE: 339.47 \n",
            " R2_score: 1.00\n",
            "\n",
            "Testing Data\n",
            " MAE: 658.17 \n",
            " MSE: 792693.97 \n",
            " RMSE: 890.33 \n",
            " R2_score: 0.99\n"
          ]
        }
      ]
    },
    {
      "cell_type": "markdown",
      "source": [
        "**Tunned Random Forest Regressor**"
      ],
      "metadata": {
        "id": "wLnSPdxHzccK"
      }
    },
    {
      "cell_type": "code",
      "source": [
        "# Instantiate the Tunned Decision Tree Regressor\n",
        "trf = RandomForestRegressor()"
      ],
      "metadata": {
        "id": "3mTTNbkPzp51"
      },
      "execution_count": null,
      "outputs": []
    },
    {
      "cell_type": "code",
      "source": [
        "# Get parameters\n",
        "trf.get_params()"
      ],
      "metadata": {
        "colab": {
          "base_uri": "https://localhost:8080/"
        },
        "outputId": "14c3b8f2-e8c2-4f68-b2e5-56c262efcab5",
        "id": "1bJb8UU0zp5-"
      },
      "execution_count": null,
      "outputs": [
        {
          "output_type": "execute_result",
          "data": {
            "text/plain": [
              "{'bootstrap': True,\n",
              " 'ccp_alpha': 0.0,\n",
              " 'criterion': 'squared_error',\n",
              " 'max_depth': None,\n",
              " 'max_features': 1.0,\n",
              " 'max_leaf_nodes': None,\n",
              " 'max_samples': None,\n",
              " 'min_impurity_decrease': 0.0,\n",
              " 'min_samples_leaf': 1,\n",
              " 'min_samples_split': 2,\n",
              " 'min_weight_fraction_leaf': 0.0,\n",
              " 'n_estimators': 100,\n",
              " 'n_jobs': None,\n",
              " 'oob_score': False,\n",
              " 'random_state': None,\n",
              " 'verbose': 0,\n",
              " 'warm_start': False}"
            ]
          },
          "metadata": {},
          "execution_count": 151
        }
      ]
    },
    {
      "cell_type": "code",
      "source": [
        "# Set the parameters grid\n",
        "param_grid={'max_depth':[3,5,10],\n",
        "            'n_estimators':[50,100,200]}"
      ],
      "metadata": {
        "id": "qw9SXw2Rzp5_"
      },
      "execution_count": null,
      "outputs": []
    },
    {
      "cell_type": "code",
      "source": [
        "# Instantiate the GridSearchCV\n",
        "trf_gs = GridSearchCV(trf, param_grid)"
      ],
      "metadata": {
        "id": "MczCB7IPzp5_"
      },
      "execution_count": null,
      "outputs": []
    },
    {
      "cell_type": "code",
      "source": [
        "# Fit the GridSearchCV on the training data\n",
        "trf_gs.fit(X_train_tf, y_train)"
      ],
      "metadata": {
        "colab": {
          "base_uri": "https://localhost:8080/",
          "height": 116
        },
        "outputId": "fa2e2669-4db7-448b-8297-3e249d3872c4",
        "id": "CqMO9eNAzp5_"
      },
      "execution_count": null,
      "outputs": [
        {
          "output_type": "execute_result",
          "data": {
            "text/plain": [
              "GridSearchCV(estimator=RandomForestRegressor(),\n",
              "             param_grid={'max_depth': [3, 5, 10],\n",
              "                         'n_estimators': [50, 100, 200]})"
            ],
            "text/html": [
              "<style>#sk-container-id-15 {color: black;background-color: white;}#sk-container-id-15 pre{padding: 0;}#sk-container-id-15 div.sk-toggleable {background-color: white;}#sk-container-id-15 label.sk-toggleable__label {cursor: pointer;display: block;width: 100%;margin-bottom: 0;padding: 0.3em;box-sizing: border-box;text-align: center;}#sk-container-id-15 label.sk-toggleable__label-arrow:before {content: \"▸\";float: left;margin-right: 0.25em;color: #696969;}#sk-container-id-15 label.sk-toggleable__label-arrow:hover:before {color: black;}#sk-container-id-15 div.sk-estimator:hover label.sk-toggleable__label-arrow:before {color: black;}#sk-container-id-15 div.sk-toggleable__content {max-height: 0;max-width: 0;overflow: hidden;text-align: left;background-color: #f0f8ff;}#sk-container-id-15 div.sk-toggleable__content pre {margin: 0.2em;color: black;border-radius: 0.25em;background-color: #f0f8ff;}#sk-container-id-15 input.sk-toggleable__control:checked~div.sk-toggleable__content {max-height: 200px;max-width: 100%;overflow: auto;}#sk-container-id-15 input.sk-toggleable__control:checked~label.sk-toggleable__label-arrow:before {content: \"▾\";}#sk-container-id-15 div.sk-estimator input.sk-toggleable__control:checked~label.sk-toggleable__label {background-color: #d4ebff;}#sk-container-id-15 div.sk-label input.sk-toggleable__control:checked~label.sk-toggleable__label {background-color: #d4ebff;}#sk-container-id-15 input.sk-hidden--visually {border: 0;clip: rect(1px 1px 1px 1px);clip: rect(1px, 1px, 1px, 1px);height: 1px;margin: -1px;overflow: hidden;padding: 0;position: absolute;width: 1px;}#sk-container-id-15 div.sk-estimator {font-family: monospace;background-color: #f0f8ff;border: 1px dotted black;border-radius: 0.25em;box-sizing: border-box;margin-bottom: 0.5em;}#sk-container-id-15 div.sk-estimator:hover {background-color: #d4ebff;}#sk-container-id-15 div.sk-parallel-item::after {content: \"\";width: 100%;border-bottom: 1px solid gray;flex-grow: 1;}#sk-container-id-15 div.sk-label:hover label.sk-toggleable__label {background-color: #d4ebff;}#sk-container-id-15 div.sk-serial::before {content: \"\";position: absolute;border-left: 1px solid gray;box-sizing: border-box;top: 0;bottom: 0;left: 50%;z-index: 0;}#sk-container-id-15 div.sk-serial {display: flex;flex-direction: column;align-items: center;background-color: white;padding-right: 0.2em;padding-left: 0.2em;position: relative;}#sk-container-id-15 div.sk-item {position: relative;z-index: 1;}#sk-container-id-15 div.sk-parallel {display: flex;align-items: stretch;justify-content: center;background-color: white;position: relative;}#sk-container-id-15 div.sk-item::before, #sk-container-id-15 div.sk-parallel-item::before {content: \"\";position: absolute;border-left: 1px solid gray;box-sizing: border-box;top: 0;bottom: 0;left: 50%;z-index: -1;}#sk-container-id-15 div.sk-parallel-item {display: flex;flex-direction: column;z-index: 1;position: relative;background-color: white;}#sk-container-id-15 div.sk-parallel-item:first-child::after {align-self: flex-end;width: 50%;}#sk-container-id-15 div.sk-parallel-item:last-child::after {align-self: flex-start;width: 50%;}#sk-container-id-15 div.sk-parallel-item:only-child::after {width: 0;}#sk-container-id-15 div.sk-dashed-wrapped {border: 1px dashed gray;margin: 0 0.4em 0.5em 0.4em;box-sizing: border-box;padding-bottom: 0.4em;background-color: white;}#sk-container-id-15 div.sk-label label {font-family: monospace;font-weight: bold;display: inline-block;line-height: 1.2em;}#sk-container-id-15 div.sk-label-container {text-align: center;}#sk-container-id-15 div.sk-container {/* jupyter's `normalize.less` sets `[hidden] { display: none; }` but bootstrap.min.css set `[hidden] { display: none !important; }` so we also need the `!important` here to be able to override the default hidden behavior on the sphinx rendered scikit-learn.org. See: https://github.com/scikit-learn/scikit-learn/issues/21755 */display: inline-block !important;position: relative;}#sk-container-id-15 div.sk-text-repr-fallback {display: none;}</style><div id=\"sk-container-id-15\" class=\"sk-top-container\"><div class=\"sk-text-repr-fallback\"><pre>GridSearchCV(estimator=RandomForestRegressor(),\n",
              "             param_grid={&#x27;max_depth&#x27;: [3, 5, 10],\n",
              "                         &#x27;n_estimators&#x27;: [50, 100, 200]})</pre><b>In a Jupyter environment, please rerun this cell to show the HTML representation or trust the notebook. <br />On GitHub, the HTML representation is unable to render, please try loading this page with nbviewer.org.</b></div><div class=\"sk-container\" hidden><div class=\"sk-item sk-dashed-wrapped\"><div class=\"sk-label-container\"><div class=\"sk-label sk-toggleable\"><input class=\"sk-toggleable__control sk-hidden--visually\" id=\"sk-estimator-id-21\" type=\"checkbox\" ><label for=\"sk-estimator-id-21\" class=\"sk-toggleable__label sk-toggleable__label-arrow\">GridSearchCV</label><div class=\"sk-toggleable__content\"><pre>GridSearchCV(estimator=RandomForestRegressor(),\n",
              "             param_grid={&#x27;max_depth&#x27;: [3, 5, 10],\n",
              "                         &#x27;n_estimators&#x27;: [50, 100, 200]})</pre></div></div></div><div class=\"sk-parallel\"><div class=\"sk-parallel-item\"><div class=\"sk-item\"><div class=\"sk-label-container\"><div class=\"sk-label sk-toggleable\"><input class=\"sk-toggleable__control sk-hidden--visually\" id=\"sk-estimator-id-22\" type=\"checkbox\" ><label for=\"sk-estimator-id-22\" class=\"sk-toggleable__label sk-toggleable__label-arrow\">estimator: RandomForestRegressor</label><div class=\"sk-toggleable__content\"><pre>RandomForestRegressor()</pre></div></div></div><div class=\"sk-serial\"><div class=\"sk-item\"><div class=\"sk-estimator sk-toggleable\"><input class=\"sk-toggleable__control sk-hidden--visually\" id=\"sk-estimator-id-23\" type=\"checkbox\" ><label for=\"sk-estimator-id-23\" class=\"sk-toggleable__label sk-toggleable__label-arrow\">RandomForestRegressor</label><div class=\"sk-toggleable__content\"><pre>RandomForestRegressor()</pre></div></div></div></div></div></div></div></div></div></div>"
            ]
          },
          "metadata": {},
          "execution_count": 154
        }
      ]
    },
    {
      "cell_type": "code",
      "source": [
        "trf_gs.best_params_"
      ],
      "metadata": {
        "colab": {
          "base_uri": "https://localhost:8080/"
        },
        "outputId": "b74ea933-ac29-4780-a7d0-5f19981fd8b2",
        "id": "wp95K98wzp5_"
      },
      "execution_count": null,
      "outputs": [
        {
          "output_type": "execute_result",
          "data": {
            "text/plain": [
              "{'max_depth': 10, 'n_estimators': 200}"
            ]
          },
          "metadata": {},
          "execution_count": 155
        }
      ]
    },
    {
      "cell_type": "code",
      "source": [
        "# Get the best Tunned Decision Tree Regressor\n",
        "best_trf = trf_gs.best_estimator_"
      ],
      "metadata": {
        "id": "RcNqI-0Ezp5_"
      },
      "execution_count": null,
      "outputs": []
    },
    {
      "cell_type": "code",
      "source": [
        "# Fit the best Tunned Decision Tree Regressor on training data\n",
        "best_trf.fit(X_train_tf, y_train)"
      ],
      "metadata": {
        "colab": {
          "base_uri": "https://localhost:8080/",
          "height": 74
        },
        "outputId": "731247e7-f04f-4be5-fd79-d6c167cc6434",
        "id": "sLgKlPz1zp6A"
      },
      "execution_count": null,
      "outputs": [
        {
          "output_type": "execute_result",
          "data": {
            "text/plain": [
              "RandomForestRegressor(max_depth=10, n_estimators=200)"
            ],
            "text/html": [
              "<style>#sk-container-id-16 {color: black;background-color: white;}#sk-container-id-16 pre{padding: 0;}#sk-container-id-16 div.sk-toggleable {background-color: white;}#sk-container-id-16 label.sk-toggleable__label {cursor: pointer;display: block;width: 100%;margin-bottom: 0;padding: 0.3em;box-sizing: border-box;text-align: center;}#sk-container-id-16 label.sk-toggleable__label-arrow:before {content: \"▸\";float: left;margin-right: 0.25em;color: #696969;}#sk-container-id-16 label.sk-toggleable__label-arrow:hover:before {color: black;}#sk-container-id-16 div.sk-estimator:hover label.sk-toggleable__label-arrow:before {color: black;}#sk-container-id-16 div.sk-toggleable__content {max-height: 0;max-width: 0;overflow: hidden;text-align: left;background-color: #f0f8ff;}#sk-container-id-16 div.sk-toggleable__content pre {margin: 0.2em;color: black;border-radius: 0.25em;background-color: #f0f8ff;}#sk-container-id-16 input.sk-toggleable__control:checked~div.sk-toggleable__content {max-height: 200px;max-width: 100%;overflow: auto;}#sk-container-id-16 input.sk-toggleable__control:checked~label.sk-toggleable__label-arrow:before {content: \"▾\";}#sk-container-id-16 div.sk-estimator input.sk-toggleable__control:checked~label.sk-toggleable__label {background-color: #d4ebff;}#sk-container-id-16 div.sk-label input.sk-toggleable__control:checked~label.sk-toggleable__label {background-color: #d4ebff;}#sk-container-id-16 input.sk-hidden--visually {border: 0;clip: rect(1px 1px 1px 1px);clip: rect(1px, 1px, 1px, 1px);height: 1px;margin: -1px;overflow: hidden;padding: 0;position: absolute;width: 1px;}#sk-container-id-16 div.sk-estimator {font-family: monospace;background-color: #f0f8ff;border: 1px dotted black;border-radius: 0.25em;box-sizing: border-box;margin-bottom: 0.5em;}#sk-container-id-16 div.sk-estimator:hover {background-color: #d4ebff;}#sk-container-id-16 div.sk-parallel-item::after {content: \"\";width: 100%;border-bottom: 1px solid gray;flex-grow: 1;}#sk-container-id-16 div.sk-label:hover label.sk-toggleable__label {background-color: #d4ebff;}#sk-container-id-16 div.sk-serial::before {content: \"\";position: absolute;border-left: 1px solid gray;box-sizing: border-box;top: 0;bottom: 0;left: 50%;z-index: 0;}#sk-container-id-16 div.sk-serial {display: flex;flex-direction: column;align-items: center;background-color: white;padding-right: 0.2em;padding-left: 0.2em;position: relative;}#sk-container-id-16 div.sk-item {position: relative;z-index: 1;}#sk-container-id-16 div.sk-parallel {display: flex;align-items: stretch;justify-content: center;background-color: white;position: relative;}#sk-container-id-16 div.sk-item::before, #sk-container-id-16 div.sk-parallel-item::before {content: \"\";position: absolute;border-left: 1px solid gray;box-sizing: border-box;top: 0;bottom: 0;left: 50%;z-index: -1;}#sk-container-id-16 div.sk-parallel-item {display: flex;flex-direction: column;z-index: 1;position: relative;background-color: white;}#sk-container-id-16 div.sk-parallel-item:first-child::after {align-self: flex-end;width: 50%;}#sk-container-id-16 div.sk-parallel-item:last-child::after {align-self: flex-start;width: 50%;}#sk-container-id-16 div.sk-parallel-item:only-child::after {width: 0;}#sk-container-id-16 div.sk-dashed-wrapped {border: 1px dashed gray;margin: 0 0.4em 0.5em 0.4em;box-sizing: border-box;padding-bottom: 0.4em;background-color: white;}#sk-container-id-16 div.sk-label label {font-family: monospace;font-weight: bold;display: inline-block;line-height: 1.2em;}#sk-container-id-16 div.sk-label-container {text-align: center;}#sk-container-id-16 div.sk-container {/* jupyter's `normalize.less` sets `[hidden] { display: none; }` but bootstrap.min.css set `[hidden] { display: none !important; }` so we also need the `!important` here to be able to override the default hidden behavior on the sphinx rendered scikit-learn.org. See: https://github.com/scikit-learn/scikit-learn/issues/21755 */display: inline-block !important;position: relative;}#sk-container-id-16 div.sk-text-repr-fallback {display: none;}</style><div id=\"sk-container-id-16\" class=\"sk-top-container\"><div class=\"sk-text-repr-fallback\"><pre>RandomForestRegressor(max_depth=10, n_estimators=200)</pre><b>In a Jupyter environment, please rerun this cell to show the HTML representation or trust the notebook. <br />On GitHub, the HTML representation is unable to render, please try loading this page with nbviewer.org.</b></div><div class=\"sk-container\" hidden><div class=\"sk-item\"><div class=\"sk-estimator sk-toggleable\"><input class=\"sk-toggleable__control sk-hidden--visually\" id=\"sk-estimator-id-24\" type=\"checkbox\" checked><label for=\"sk-estimator-id-24\" class=\"sk-toggleable__label sk-toggleable__label-arrow\">RandomForestRegressor</label><div class=\"sk-toggleable__content\"><pre>RandomForestRegressor(max_depth=10, n_estimators=200)</pre></div></div></div></div></div>"
            ]
          },
          "metadata": {},
          "execution_count": 157
        }
      ]
    },
    {
      "cell_type": "code",
      "source": [
        "# Get predictions\n",
        "best_trf_train_preds = best_trf.predict(X_train_tf)\n",
        "best_trf_test_preds = best_trf.predict(X_test_tf)"
      ],
      "metadata": {
        "id": "C6jp8ijkzp6A"
      },
      "execution_count": null,
      "outputs": []
    },
    {
      "cell_type": "code",
      "source": [
        "# Evaluate the results\n",
        "print('Training Data')\n",
        "eval_model(y_train, best_trf_train_preds)\n",
        "print('\\nTesting Data')\n",
        "eval_model(y_test , best_trf_test_preds)"
      ],
      "metadata": {
        "colab": {
          "base_uri": "https://localhost:8080/"
        },
        "outputId": "66a376a2-4c91-4641-fbd2-7123bab7c2ac",
        "id": "cfvGDXqkzp6A"
      },
      "execution_count": null,
      "outputs": [
        {
          "output_type": "stream",
          "name": "stdout",
          "text": [
            "Training Data\n",
            " MAE: 557.17 \n",
            " MSE: 574941.29 \n",
            " RMSE: 758.25 \n",
            " R2_score: 1.00\n",
            "\n",
            "Testing Data\n",
            " MAE: 647.37 \n",
            " MSE: 764584.05 \n",
            " RMSE: 874.40 \n",
            " R2_score: 0.99\n"
          ]
        }
      ]
    },
    {
      "cell_type": "markdown",
      "source": [
        "**Gradient Boosting Regressor**"
      ],
      "metadata": {
        "id": "vKShLhS9AAI6"
      }
    },
    {
      "cell_type": "code",
      "source": [
        "# Instantiate the Gradient Boosting Regressor\n",
        "gbr = GradientBoostingRegressor()"
      ],
      "metadata": {
        "id": "Yluuj-QvADpK"
      },
      "execution_count": null,
      "outputs": []
    },
    {
      "cell_type": "code",
      "source": [
        "# Fit the the Gradient Boosting Regressor on training data\n",
        "gbr.fit(X_train_tf, y_train)"
      ],
      "metadata": {
        "colab": {
          "base_uri": "https://localhost:8080/",
          "height": 74
        },
        "id": "fz5MpVAhAQv3",
        "outputId": "636ac5f8-2a23-49fb-b31d-bd831d9605f6"
      },
      "execution_count": null,
      "outputs": [
        {
          "output_type": "execute_result",
          "data": {
            "text/plain": [
              "GradientBoostingRegressor()"
            ],
            "text/html": [
              "<style>#sk-container-id-17 {color: black;background-color: white;}#sk-container-id-17 pre{padding: 0;}#sk-container-id-17 div.sk-toggleable {background-color: white;}#sk-container-id-17 label.sk-toggleable__label {cursor: pointer;display: block;width: 100%;margin-bottom: 0;padding: 0.3em;box-sizing: border-box;text-align: center;}#sk-container-id-17 label.sk-toggleable__label-arrow:before {content: \"▸\";float: left;margin-right: 0.25em;color: #696969;}#sk-container-id-17 label.sk-toggleable__label-arrow:hover:before {color: black;}#sk-container-id-17 div.sk-estimator:hover label.sk-toggleable__label-arrow:before {color: black;}#sk-container-id-17 div.sk-toggleable__content {max-height: 0;max-width: 0;overflow: hidden;text-align: left;background-color: #f0f8ff;}#sk-container-id-17 div.sk-toggleable__content pre {margin: 0.2em;color: black;border-radius: 0.25em;background-color: #f0f8ff;}#sk-container-id-17 input.sk-toggleable__control:checked~div.sk-toggleable__content {max-height: 200px;max-width: 100%;overflow: auto;}#sk-container-id-17 input.sk-toggleable__control:checked~label.sk-toggleable__label-arrow:before {content: \"▾\";}#sk-container-id-17 div.sk-estimator input.sk-toggleable__control:checked~label.sk-toggleable__label {background-color: #d4ebff;}#sk-container-id-17 div.sk-label input.sk-toggleable__control:checked~label.sk-toggleable__label {background-color: #d4ebff;}#sk-container-id-17 input.sk-hidden--visually {border: 0;clip: rect(1px 1px 1px 1px);clip: rect(1px, 1px, 1px, 1px);height: 1px;margin: -1px;overflow: hidden;padding: 0;position: absolute;width: 1px;}#sk-container-id-17 div.sk-estimator {font-family: monospace;background-color: #f0f8ff;border: 1px dotted black;border-radius: 0.25em;box-sizing: border-box;margin-bottom: 0.5em;}#sk-container-id-17 div.sk-estimator:hover {background-color: #d4ebff;}#sk-container-id-17 div.sk-parallel-item::after {content: \"\";width: 100%;border-bottom: 1px solid gray;flex-grow: 1;}#sk-container-id-17 div.sk-label:hover label.sk-toggleable__label {background-color: #d4ebff;}#sk-container-id-17 div.sk-serial::before {content: \"\";position: absolute;border-left: 1px solid gray;box-sizing: border-box;top: 0;bottom: 0;left: 50%;z-index: 0;}#sk-container-id-17 div.sk-serial {display: flex;flex-direction: column;align-items: center;background-color: white;padding-right: 0.2em;padding-left: 0.2em;position: relative;}#sk-container-id-17 div.sk-item {position: relative;z-index: 1;}#sk-container-id-17 div.sk-parallel {display: flex;align-items: stretch;justify-content: center;background-color: white;position: relative;}#sk-container-id-17 div.sk-item::before, #sk-container-id-17 div.sk-parallel-item::before {content: \"\";position: absolute;border-left: 1px solid gray;box-sizing: border-box;top: 0;bottom: 0;left: 50%;z-index: -1;}#sk-container-id-17 div.sk-parallel-item {display: flex;flex-direction: column;z-index: 1;position: relative;background-color: white;}#sk-container-id-17 div.sk-parallel-item:first-child::after {align-self: flex-end;width: 50%;}#sk-container-id-17 div.sk-parallel-item:last-child::after {align-self: flex-start;width: 50%;}#sk-container-id-17 div.sk-parallel-item:only-child::after {width: 0;}#sk-container-id-17 div.sk-dashed-wrapped {border: 1px dashed gray;margin: 0 0.4em 0.5em 0.4em;box-sizing: border-box;padding-bottom: 0.4em;background-color: white;}#sk-container-id-17 div.sk-label label {font-family: monospace;font-weight: bold;display: inline-block;line-height: 1.2em;}#sk-container-id-17 div.sk-label-container {text-align: center;}#sk-container-id-17 div.sk-container {/* jupyter's `normalize.less` sets `[hidden] { display: none; }` but bootstrap.min.css set `[hidden] { display: none !important; }` so we also need the `!important` here to be able to override the default hidden behavior on the sphinx rendered scikit-learn.org. See: https://github.com/scikit-learn/scikit-learn/issues/21755 */display: inline-block !important;position: relative;}#sk-container-id-17 div.sk-text-repr-fallback {display: none;}</style><div id=\"sk-container-id-17\" class=\"sk-top-container\"><div class=\"sk-text-repr-fallback\"><pre>GradientBoostingRegressor()</pre><b>In a Jupyter environment, please rerun this cell to show the HTML representation or trust the notebook. <br />On GitHub, the HTML representation is unable to render, please try loading this page with nbviewer.org.</b></div><div class=\"sk-container\" hidden><div class=\"sk-item\"><div class=\"sk-estimator sk-toggleable\"><input class=\"sk-toggleable__control sk-hidden--visually\" id=\"sk-estimator-id-25\" type=\"checkbox\" checked><label for=\"sk-estimator-id-25\" class=\"sk-toggleable__label sk-toggleable__label-arrow\">GradientBoostingRegressor</label><div class=\"sk-toggleable__content\"><pre>GradientBoostingRegressor()</pre></div></div></div></div></div>"
            ]
          },
          "metadata": {},
          "execution_count": 161
        }
      ]
    },
    {
      "cell_type": "code",
      "source": [
        "# Get predictions\n",
        "gbr_train_preds = gbr.predict(X_train_tf)\n",
        "gbr_test_preds = gbr.predict(X_test_tf)"
      ],
      "metadata": {
        "id": "5J3LwWGKAZRX"
      },
      "execution_count": null,
      "outputs": []
    },
    {
      "cell_type": "code",
      "source": [
        "# Evaluate the results\n",
        "print('Training Data')\n",
        "eval_model(y_train, gbr_train_preds)\n",
        "print('\\nTesting Data')\n",
        "eval_model(y_test , gbr_test_preds)"
      ],
      "metadata": {
        "colab": {
          "base_uri": "https://localhost:8080/"
        },
        "id": "Ticw8w3VAoSW",
        "outputId": "5f0ba366-48df-4c83-ef13-59b5fa085960"
      },
      "execution_count": null,
      "outputs": [
        {
          "output_type": "stream",
          "name": "stdout",
          "text": [
            "Training Data\n",
            " MAE: 667.66 \n",
            " MSE: 782704.62 \n",
            " RMSE: 884.71 \n",
            " R2_score: 0.99\n",
            "\n",
            "Testing Data\n",
            " MAE: 670.73 \n",
            " MSE: 782804.50 \n",
            " RMSE: 884.76 \n",
            " R2_score: 0.99\n"
          ]
        }
      ]
    },
    {
      "cell_type": "markdown",
      "source": [
        "**XGBoost Regressor**"
      ],
      "metadata": {
        "id": "vX_kGsztAtvN"
      }
    },
    {
      "cell_type": "code",
      "source": [
        "# Instantiate the Gradient Boosting Regressor\n",
        "xgb = XGBRegressor()"
      ],
      "metadata": {
        "id": "5ezhcsO3FNyB"
      },
      "execution_count": null,
      "outputs": []
    },
    {
      "cell_type": "code",
      "source": [
        "# Fit the the Gradient Boosting Regressor on training data\n",
        "xgb.fit(X_train_tf, y_train)"
      ],
      "metadata": {
        "colab": {
          "base_uri": "https://localhost:8080/",
          "height": 248
        },
        "id": "sX_I80oKGEPr",
        "outputId": "68b9be88-26ec-4b78-f955-3590f3818d1d"
      },
      "execution_count": null,
      "outputs": [
        {
          "output_type": "execute_result",
          "data": {
            "text/plain": [
              "XGBRegressor(base_score=None, booster=None, callbacks=None,\n",
              "             colsample_bylevel=None, colsample_bynode=None,\n",
              "             colsample_bytree=None, device=None, early_stopping_rounds=None,\n",
              "             enable_categorical=False, eval_metric=None, feature_types=None,\n",
              "             gamma=None, grow_policy=None, importance_type=None,\n",
              "             interaction_constraints=None, learning_rate=None, max_bin=None,\n",
              "             max_cat_threshold=None, max_cat_to_onehot=None,\n",
              "             max_delta_step=None, max_depth=None, max_leaves=None,\n",
              "             min_child_weight=None, missing=nan, monotone_constraints=None,\n",
              "             multi_strategy=None, n_estimators=None, n_jobs=None,\n",
              "             num_parallel_tree=None, random_state=None, ...)"
            ],
            "text/html": [
              "<style>#sk-container-id-18 {color: black;background-color: white;}#sk-container-id-18 pre{padding: 0;}#sk-container-id-18 div.sk-toggleable {background-color: white;}#sk-container-id-18 label.sk-toggleable__label {cursor: pointer;display: block;width: 100%;margin-bottom: 0;padding: 0.3em;box-sizing: border-box;text-align: center;}#sk-container-id-18 label.sk-toggleable__label-arrow:before {content: \"▸\";float: left;margin-right: 0.25em;color: #696969;}#sk-container-id-18 label.sk-toggleable__label-arrow:hover:before {color: black;}#sk-container-id-18 div.sk-estimator:hover label.sk-toggleable__label-arrow:before {color: black;}#sk-container-id-18 div.sk-toggleable__content {max-height: 0;max-width: 0;overflow: hidden;text-align: left;background-color: #f0f8ff;}#sk-container-id-18 div.sk-toggleable__content pre {margin: 0.2em;color: black;border-radius: 0.25em;background-color: #f0f8ff;}#sk-container-id-18 input.sk-toggleable__control:checked~div.sk-toggleable__content {max-height: 200px;max-width: 100%;overflow: auto;}#sk-container-id-18 input.sk-toggleable__control:checked~label.sk-toggleable__label-arrow:before {content: \"▾\";}#sk-container-id-18 div.sk-estimator input.sk-toggleable__control:checked~label.sk-toggleable__label {background-color: #d4ebff;}#sk-container-id-18 div.sk-label input.sk-toggleable__control:checked~label.sk-toggleable__label {background-color: #d4ebff;}#sk-container-id-18 input.sk-hidden--visually {border: 0;clip: rect(1px 1px 1px 1px);clip: rect(1px, 1px, 1px, 1px);height: 1px;margin: -1px;overflow: hidden;padding: 0;position: absolute;width: 1px;}#sk-container-id-18 div.sk-estimator {font-family: monospace;background-color: #f0f8ff;border: 1px dotted black;border-radius: 0.25em;box-sizing: border-box;margin-bottom: 0.5em;}#sk-container-id-18 div.sk-estimator:hover {background-color: #d4ebff;}#sk-container-id-18 div.sk-parallel-item::after {content: \"\";width: 100%;border-bottom: 1px solid gray;flex-grow: 1;}#sk-container-id-18 div.sk-label:hover label.sk-toggleable__label {background-color: #d4ebff;}#sk-container-id-18 div.sk-serial::before {content: \"\";position: absolute;border-left: 1px solid gray;box-sizing: border-box;top: 0;bottom: 0;left: 50%;z-index: 0;}#sk-container-id-18 div.sk-serial {display: flex;flex-direction: column;align-items: center;background-color: white;padding-right: 0.2em;padding-left: 0.2em;position: relative;}#sk-container-id-18 div.sk-item {position: relative;z-index: 1;}#sk-container-id-18 div.sk-parallel {display: flex;align-items: stretch;justify-content: center;background-color: white;position: relative;}#sk-container-id-18 div.sk-item::before, #sk-container-id-18 div.sk-parallel-item::before {content: \"\";position: absolute;border-left: 1px solid gray;box-sizing: border-box;top: 0;bottom: 0;left: 50%;z-index: -1;}#sk-container-id-18 div.sk-parallel-item {display: flex;flex-direction: column;z-index: 1;position: relative;background-color: white;}#sk-container-id-18 div.sk-parallel-item:first-child::after {align-self: flex-end;width: 50%;}#sk-container-id-18 div.sk-parallel-item:last-child::after {align-self: flex-start;width: 50%;}#sk-container-id-18 div.sk-parallel-item:only-child::after {width: 0;}#sk-container-id-18 div.sk-dashed-wrapped {border: 1px dashed gray;margin: 0 0.4em 0.5em 0.4em;box-sizing: border-box;padding-bottom: 0.4em;background-color: white;}#sk-container-id-18 div.sk-label label {font-family: monospace;font-weight: bold;display: inline-block;line-height: 1.2em;}#sk-container-id-18 div.sk-label-container {text-align: center;}#sk-container-id-18 div.sk-container {/* jupyter's `normalize.less` sets `[hidden] { display: none; }` but bootstrap.min.css set `[hidden] { display: none !important; }` so we also need the `!important` here to be able to override the default hidden behavior on the sphinx rendered scikit-learn.org. See: https://github.com/scikit-learn/scikit-learn/issues/21755 */display: inline-block !important;position: relative;}#sk-container-id-18 div.sk-text-repr-fallback {display: none;}</style><div id=\"sk-container-id-18\" class=\"sk-top-container\"><div class=\"sk-text-repr-fallback\"><pre>XGBRegressor(base_score=None, booster=None, callbacks=None,\n",
              "             colsample_bylevel=None, colsample_bynode=None,\n",
              "             colsample_bytree=None, device=None, early_stopping_rounds=None,\n",
              "             enable_categorical=False, eval_metric=None, feature_types=None,\n",
              "             gamma=None, grow_policy=None, importance_type=None,\n",
              "             interaction_constraints=None, learning_rate=None, max_bin=None,\n",
              "             max_cat_threshold=None, max_cat_to_onehot=None,\n",
              "             max_delta_step=None, max_depth=None, max_leaves=None,\n",
              "             min_child_weight=None, missing=nan, monotone_constraints=None,\n",
              "             multi_strategy=None, n_estimators=None, n_jobs=None,\n",
              "             num_parallel_tree=None, random_state=None, ...)</pre><b>In a Jupyter environment, please rerun this cell to show the HTML representation or trust the notebook. <br />On GitHub, the HTML representation is unable to render, please try loading this page with nbviewer.org.</b></div><div class=\"sk-container\" hidden><div class=\"sk-item\"><div class=\"sk-estimator sk-toggleable\"><input class=\"sk-toggleable__control sk-hidden--visually\" id=\"sk-estimator-id-26\" type=\"checkbox\" checked><label for=\"sk-estimator-id-26\" class=\"sk-toggleable__label sk-toggleable__label-arrow\">XGBRegressor</label><div class=\"sk-toggleable__content\"><pre>XGBRegressor(base_score=None, booster=None, callbacks=None,\n",
              "             colsample_bylevel=None, colsample_bynode=None,\n",
              "             colsample_bytree=None, device=None, early_stopping_rounds=None,\n",
              "             enable_categorical=False, eval_metric=None, feature_types=None,\n",
              "             gamma=None, grow_policy=None, importance_type=None,\n",
              "             interaction_constraints=None, learning_rate=None, max_bin=None,\n",
              "             max_cat_threshold=None, max_cat_to_onehot=None,\n",
              "             max_delta_step=None, max_depth=None, max_leaves=None,\n",
              "             min_child_weight=None, missing=nan, monotone_constraints=None,\n",
              "             multi_strategy=None, n_estimators=None, n_jobs=None,\n",
              "             num_parallel_tree=None, random_state=None, ...)</pre></div></div></div></div></div>"
            ]
          },
          "metadata": {},
          "execution_count": 167
        }
      ]
    },
    {
      "cell_type": "code",
      "source": [
        "# Get predictions\n",
        "xgb_train_preds = xgb.predict(X_train_tf)\n",
        "xgb_test_preds = xgb.predict(X_test_tf)"
      ],
      "metadata": {
        "id": "i-zqMaP6GLRp"
      },
      "execution_count": null,
      "outputs": []
    },
    {
      "cell_type": "code",
      "source": [
        "# Evaluate the results\n",
        "print('Training Data')\n",
        "eval_model(y_train, xgb_train_preds)\n",
        "print('\\nTesting Data')\n",
        "eval_model(y_test , xgb_test_preds)"
      ],
      "metadata": {
        "colab": {
          "base_uri": "https://localhost:8080/"
        },
        "id": "MFD0BC_eGPpj",
        "outputId": "f931726e-9a57-4508-fd1e-79c8f1306f4f"
      },
      "execution_count": null,
      "outputs": [
        {
          "output_type": "stream",
          "name": "stdout",
          "text": [
            "Training Data\n",
            " MAE: 458.94 \n",
            " MSE: 362223.20 \n",
            " RMSE: 601.85 \n",
            " R2_score: 1.00\n",
            "\n",
            "Testing Data\n",
            " MAE: 658.66 \n",
            " MSE: 787266.86 \n",
            " RMSE: 887.28 \n",
            " R2_score: 0.99\n"
          ]
        }
      ]
    },
    {
      "cell_type": "markdown",
      "source": [
        "**Neural Network**"
      ],
      "metadata": {
        "id": "9F91AWKzGcDl"
      }
    },
    {
      "cell_type": "code",
      "source": [
        "from keras import backend as K\n",
        "\n",
        "def r2_score(y_true, y_pred):\n",
        "    SS_res =  K.sum(K.square(y_true - y_pred))\n",
        "    SS_tot = K.sum(K.square(y_true - K.mean(y_true)))\n",
        "    return (1 - SS_res / (SS_tot + K.epsilon()))"
      ],
      "metadata": {
        "id": "kuAm6m1ZXla1"
      },
      "execution_count": null,
      "outputs": []
    },
    {
      "cell_type": "code",
      "source": [
        "# Model Sequential\n",
        "model_1 = Sequential()\n",
        "\n",
        "# Hidden layers\n",
        "model_1.add(Dense(37, input_dim = X_train_tf.shape[1], activation='relu'))\n",
        "model_1.add(Dense(25, activation='relu'))\n",
        "model_1.add(Dense(10, activation='relu'))\n",
        "\n",
        "# Output layer\n",
        "model_1.add(Dense(1, activation='linear'))\n",
        "\n",
        "# Compile the model\n",
        "model_1.compile(loss='mse', optimizer='adam', metrics=[metrics.MeanAbsoluteError(), metrics.RootMeanSquaredError()])\n",
        "\n",
        "# Fit the model\n",
        "history = model_1.fit(X_train_tf, y_train,\n",
        "                    validation_data = (X_test_tf, y_test),\n",
        "                    epochs = 100,\n",
        "                    batch_size = 32)"
      ],
      "metadata": {
        "colab": {
          "base_uri": "https://localhost:8080/"
        },
        "id": "5U496b8ETE7Z",
        "outputId": "de426c25-dc63-40b7-bb22-806da4f9d5e5"
      },
      "execution_count": null,
      "outputs": [
        {
          "output_type": "stream",
          "name": "stdout",
          "text": [
            "Epoch 1/100\n",
            "586/586 [==============================] - 3s 3ms/step - loss: 387375808.0000 - mean_absolute_error: 15773.6973 - root_mean_squared_error: 19681.8652 - val_loss: 38850084.0000 - val_mean_absolute_error: 4962.0659 - val_root_mean_squared_error: 6232.9834\n",
            "Epoch 2/100\n",
            "586/586 [==============================] - 2s 3ms/step - loss: 26381328.0000 - mean_absolute_error: 4052.0068 - root_mean_squared_error: 5136.2759 - val_loss: 17407972.0000 - val_mean_absolute_error: 3318.3438 - val_root_mean_squared_error: 4172.2861\n",
            "Epoch 3/100\n",
            "586/586 [==============================] - 3s 5ms/step - loss: 11110915.0000 - mean_absolute_error: 2607.1846 - root_mean_squared_error: 3333.3040 - val_loss: 6242808.0000 - val_mean_absolute_error: 1968.9950 - val_root_mean_squared_error: 2498.5613\n",
            "Epoch 4/100\n",
            "586/586 [==============================] - 2s 3ms/step - loss: 3601496.2500 - mean_absolute_error: 1446.8690 - root_mean_squared_error: 1897.7609 - val_loss: 2013049.8750 - val_mean_absolute_error: 1082.6676 - val_root_mean_squared_error: 1418.8199\n",
            "Epoch 5/100\n",
            "586/586 [==============================] - 2s 3ms/step - loss: 1555630.5000 - mean_absolute_error: 946.9193 - root_mean_squared_error: 1247.2491 - val_loss: 1359375.6250 - val_mean_absolute_error: 888.6993 - val_root_mean_squared_error: 1165.9226\n",
            "Epoch 6/100\n",
            "586/586 [==============================] - 1s 3ms/step - loss: 1311021.1250 - mean_absolute_error: 877.9739 - root_mean_squared_error: 1144.9983 - val_loss: 1286419.5000 - val_mean_absolute_error: 873.7265 - val_root_mean_squared_error: 1134.2043\n",
            "Epoch 7/100\n",
            "586/586 [==============================] - 2s 3ms/step - loss: 1268340.2500 - mean_absolute_error: 868.9551 - root_mean_squared_error: 1126.2062 - val_loss: 1265535.3750 - val_mean_absolute_error: 875.4627 - val_root_mean_squared_error: 1124.9602\n",
            "Epoch 8/100\n",
            "586/586 [==============================] - 3s 6ms/step - loss: 1244974.2500 - mean_absolute_error: 865.4084 - root_mean_squared_error: 1115.7842 - val_loss: 1294832.8750 - val_mean_absolute_error: 887.2912 - val_root_mean_squared_error: 1137.9072\n",
            "Epoch 9/100\n",
            "586/586 [==============================] - 5s 9ms/step - loss: 1227342.7500 - mean_absolute_error: 860.2709 - root_mean_squared_error: 1107.8550 - val_loss: 1230515.3750 - val_mean_absolute_error: 866.5705 - val_root_mean_squared_error: 1109.2860\n",
            "Epoch 10/100\n",
            "586/586 [==============================] - 3s 5ms/step - loss: 1208126.8750 - mean_absolute_error: 853.0472 - root_mean_squared_error: 1099.1482 - val_loss: 1197991.5000 - val_mean_absolute_error: 852.2305 - val_root_mean_squared_error: 1094.5280\n",
            "Epoch 11/100\n",
            "586/586 [==============================] - 3s 5ms/step - loss: 1182102.6250 - mean_absolute_error: 844.0823 - root_mean_squared_error: 1087.2455 - val_loss: 1181929.8750 - val_mean_absolute_error: 841.1136 - val_root_mean_squared_error: 1087.1660\n",
            "Epoch 12/100\n",
            "586/586 [==============================] - 2s 3ms/step - loss: 1147891.7500 - mean_absolute_error: 829.9763 - root_mean_squared_error: 1071.3971 - val_loss: 1145808.5000 - val_mean_absolute_error: 830.6132 - val_root_mean_squared_error: 1070.4244\n",
            "Epoch 13/100\n",
            "586/586 [==============================] - 3s 5ms/step - loss: 1120383.6250 - mean_absolute_error: 819.4736 - root_mean_squared_error: 1058.4818 - val_loss: 1105872.8750 - val_mean_absolute_error: 811.1443 - val_root_mean_squared_error: 1051.6049\n",
            "Epoch 14/100\n",
            "586/586 [==============================] - 5s 9ms/step - loss: 1089957.1250 - mean_absolute_error: 807.9213 - root_mean_squared_error: 1044.0101 - val_loss: 1081040.3750 - val_mean_absolute_error: 803.5806 - val_root_mean_squared_error: 1039.7310\n",
            "Epoch 15/100\n",
            "586/586 [==============================] - 2s 4ms/step - loss: 1069023.5000 - mean_absolute_error: 802.4528 - root_mean_squared_error: 1033.9359 - val_loss: 1056769.1250 - val_mean_absolute_error: 796.2971 - val_root_mean_squared_error: 1027.9928\n",
            "Epoch 16/100\n",
            "586/586 [==============================] - 2s 3ms/step - loss: 1048407.4375 - mean_absolute_error: 794.2454 - root_mean_squared_error: 1023.9177 - val_loss: 1052967.0000 - val_mean_absolute_error: 794.2330 - val_root_mean_squared_error: 1026.1418\n",
            "Epoch 17/100\n",
            "586/586 [==============================] - 2s 4ms/step - loss: 1033998.6875 - mean_absolute_error: 787.9364 - root_mean_squared_error: 1016.8572 - val_loss: 1037775.6875 - val_mean_absolute_error: 787.9796 - val_root_mean_squared_error: 1018.7128\n",
            "Epoch 18/100\n",
            "586/586 [==============================] - 3s 5ms/step - loss: 1023216.4375 - mean_absolute_error: 784.3494 - root_mean_squared_error: 1011.5416 - val_loss: 1028319.0000 - val_mean_absolute_error: 783.0002 - val_root_mean_squared_error: 1014.0607\n",
            "Epoch 19/100\n",
            "586/586 [==============================] - 2s 4ms/step - loss: 1013073.3750 - mean_absolute_error: 780.9136 - root_mean_squared_error: 1006.5154 - val_loss: 1017405.9375 - val_mean_absolute_error: 778.7670 - val_root_mean_squared_error: 1008.6654\n",
            "Epoch 20/100\n",
            "586/586 [==============================] - 4s 7ms/step - loss: 999621.0625 - mean_absolute_error: 774.9193 - root_mean_squared_error: 999.8105 - val_loss: 1003744.5625 - val_mean_absolute_error: 773.1604 - val_root_mean_squared_error: 1001.8705\n",
            "Epoch 21/100\n",
            "586/586 [==============================] - 3s 5ms/step - loss: 996461.8750 - mean_absolute_error: 772.2776 - root_mean_squared_error: 998.2294 - val_loss: 1015698.5625 - val_mean_absolute_error: 778.2361 - val_root_mean_squared_error: 1007.8187\n",
            "Epoch 22/100\n",
            "586/586 [==============================] - 3s 5ms/step - loss: 988727.0000 - mean_absolute_error: 769.4631 - root_mean_squared_error: 994.3475 - val_loss: 988911.4375 - val_mean_absolute_error: 768.9485 - val_root_mean_squared_error: 994.4402\n",
            "Epoch 23/100\n",
            "586/586 [==============================] - 3s 5ms/step - loss: 983392.8125 - mean_absolute_error: 767.4941 - root_mean_squared_error: 991.6616 - val_loss: 997022.8125 - val_mean_absolute_error: 771.6001 - val_root_mean_squared_error: 998.5103\n",
            "Epoch 24/100\n",
            "586/586 [==============================] - 3s 5ms/step - loss: 978105.8125 - mean_absolute_error: 764.8155 - root_mean_squared_error: 988.9923 - val_loss: 1005705.3125 - val_mean_absolute_error: 773.9639 - val_root_mean_squared_error: 1002.8486\n",
            "Epoch 25/100\n",
            "586/586 [==============================] - 5s 8ms/step - loss: 973097.0000 - mean_absolute_error: 762.5975 - root_mean_squared_error: 986.4568 - val_loss: 993678.9375 - val_mean_absolute_error: 773.1012 - val_root_mean_squared_error: 996.8345\n",
            "Epoch 26/100\n",
            "586/586 [==============================] - 3s 5ms/step - loss: 968294.6250 - mean_absolute_error: 761.2438 - root_mean_squared_error: 984.0197 - val_loss: 983444.4375 - val_mean_absolute_error: 765.5126 - val_root_mean_squared_error: 991.6877\n",
            "Epoch 27/100\n",
            "586/586 [==============================] - 3s 5ms/step - loss: 966638.7500 - mean_absolute_error: 759.3121 - root_mean_squared_error: 983.1779 - val_loss: 986934.6250 - val_mean_absolute_error: 768.2111 - val_root_mean_squared_error: 993.4459\n",
            "Epoch 28/100\n",
            "586/586 [==============================] - 3s 5ms/step - loss: 962174.0000 - mean_absolute_error: 758.7349 - root_mean_squared_error: 980.9047 - val_loss: 974613.8750 - val_mean_absolute_error: 762.9604 - val_root_mean_squared_error: 987.2253\n",
            "Epoch 29/100\n",
            "586/586 [==============================] - 3s 6ms/step - loss: 961252.5625 - mean_absolute_error: 757.0463 - root_mean_squared_error: 980.4349 - val_loss: 968789.0625 - val_mean_absolute_error: 760.2807 - val_root_mean_squared_error: 984.2708\n",
            "Epoch 30/100\n",
            "586/586 [==============================] - 2s 4ms/step - loss: 952101.1250 - mean_absolute_error: 754.4918 - root_mean_squared_error: 975.7567 - val_loss: 969323.7500 - val_mean_absolute_error: 759.2752 - val_root_mean_squared_error: 984.5424\n",
            "Epoch 31/100\n",
            "586/586 [==============================] - 2s 3ms/step - loss: 951403.5625 - mean_absolute_error: 752.6656 - root_mean_squared_error: 975.3992 - val_loss: 975941.0000 - val_mean_absolute_error: 764.9081 - val_root_mean_squared_error: 987.8973\n",
            "Epoch 32/100\n",
            "586/586 [==============================] - 2s 4ms/step - loss: 951717.8125 - mean_absolute_error: 752.4387 - root_mean_squared_error: 975.5602 - val_loss: 959768.0000 - val_mean_absolute_error: 758.0741 - val_root_mean_squared_error: 979.6775\n",
            "Epoch 33/100\n",
            "586/586 [==============================] - 2s 4ms/step - loss: 946878.5625 - mean_absolute_error: 751.3090 - root_mean_squared_error: 973.0768 - val_loss: 956151.2500 - val_mean_absolute_error: 753.8168 - val_root_mean_squared_error: 977.8299\n",
            "Epoch 34/100\n",
            "586/586 [==============================] - 4s 6ms/step - loss: 943367.1250 - mean_absolute_error: 750.0829 - root_mean_squared_error: 971.2709 - val_loss: 958849.2500 - val_mean_absolute_error: 758.4622 - val_root_mean_squared_error: 979.2085\n",
            "Epoch 35/100\n",
            "586/586 [==============================] - 4s 7ms/step - loss: 942181.8125 - mean_absolute_error: 750.6558 - root_mean_squared_error: 970.6605 - val_loss: 951513.2500 - val_mean_absolute_error: 750.6671 - val_root_mean_squared_error: 975.4554\n",
            "Epoch 36/100\n",
            "586/586 [==============================] - 2s 3ms/step - loss: 938889.0625 - mean_absolute_error: 747.1107 - root_mean_squared_error: 968.9629 - val_loss: 953081.6250 - val_mean_absolute_error: 749.9252 - val_root_mean_squared_error: 976.2590\n",
            "Epoch 37/100\n",
            "586/586 [==============================] - 2s 3ms/step - loss: 937262.8750 - mean_absolute_error: 747.0068 - root_mean_squared_error: 968.1234 - val_loss: 951452.0625 - val_mean_absolute_error: 748.5021 - val_root_mean_squared_error: 975.4241\n",
            "Epoch 38/100\n",
            "586/586 [==============================] - 2s 3ms/step - loss: 931754.5625 - mean_absolute_error: 744.5238 - root_mean_squared_error: 965.2744 - val_loss: 941885.1875 - val_mean_absolute_error: 748.1379 - val_root_mean_squared_error: 970.5077\n",
            "Epoch 39/100\n",
            "586/586 [==============================] - 2s 3ms/step - loss: 932306.0625 - mean_absolute_error: 745.1570 - root_mean_squared_error: 965.5600 - val_loss: 957795.0625 - val_mean_absolute_error: 753.8028 - val_root_mean_squared_error: 978.6700\n",
            "Epoch 40/100\n",
            "586/586 [==============================] - 2s 3ms/step - loss: 931351.5625 - mean_absolute_error: 744.5522 - root_mean_squared_error: 965.0656 - val_loss: 958177.0625 - val_mean_absolute_error: 749.0911 - val_root_mean_squared_error: 978.8652\n",
            "Epoch 41/100\n",
            "586/586 [==============================] - 2s 4ms/step - loss: 927383.4375 - mean_absolute_error: 742.7000 - root_mean_squared_error: 963.0075 - val_loss: 947093.5625 - val_mean_absolute_error: 749.7245 - val_root_mean_squared_error: 973.1873\n",
            "Epoch 42/100\n",
            "586/586 [==============================] - 3s 4ms/step - loss: 923432.6250 - mean_absolute_error: 740.3830 - root_mean_squared_error: 960.9540 - val_loss: 981872.5000 - val_mean_absolute_error: 760.3813 - val_root_mean_squared_error: 990.8948\n",
            "Epoch 43/100\n",
            "586/586 [==============================] - 2s 3ms/step - loss: 920786.5000 - mean_absolute_error: 739.0837 - root_mean_squared_error: 959.5762 - val_loss: 931303.1250 - val_mean_absolute_error: 745.1754 - val_root_mean_squared_error: 965.0405\n",
            "Epoch 44/100\n",
            "586/586 [==============================] - 1s 3ms/step - loss: 918038.3125 - mean_absolute_error: 739.4911 - root_mean_squared_error: 958.1432 - val_loss: 939473.6875 - val_mean_absolute_error: 748.2612 - val_root_mean_squared_error: 969.2645\n",
            "Epoch 45/100\n",
            "586/586 [==============================] - 2s 3ms/step - loss: 917363.1875 - mean_absolute_error: 738.0981 - root_mean_squared_error: 957.7908 - val_loss: 925336.6250 - val_mean_absolute_error: 741.2725 - val_root_mean_squared_error: 961.9442\n",
            "Epoch 46/100\n",
            "586/586 [==============================] - 2s 4ms/step - loss: 912847.3125 - mean_absolute_error: 736.3121 - root_mean_squared_error: 955.4304 - val_loss: 926268.1250 - val_mean_absolute_error: 737.3047 - val_root_mean_squared_error: 962.4282\n",
            "Epoch 47/100\n",
            "586/586 [==============================] - 3s 5ms/step - loss: 912737.8125 - mean_absolute_error: 736.2335 - root_mean_squared_error: 955.3731 - val_loss: 946529.0000 - val_mean_absolute_error: 746.2523 - val_root_mean_squared_error: 972.8972\n",
            "Epoch 48/100\n",
            "586/586 [==============================] - 4s 7ms/step - loss: 912027.5625 - mean_absolute_error: 735.6171 - root_mean_squared_error: 955.0013 - val_loss: 919501.9375 - val_mean_absolute_error: 737.4401 - val_root_mean_squared_error: 958.9066\n",
            "Epoch 49/100\n",
            "586/586 [==============================] - 3s 5ms/step - loss: 908078.3750 - mean_absolute_error: 734.8273 - root_mean_squared_error: 952.9315 - val_loss: 914353.0000 - val_mean_absolute_error: 732.7711 - val_root_mean_squared_error: 956.2181\n",
            "Epoch 50/100\n",
            "586/586 [==============================] - 3s 4ms/step - loss: 906203.3125 - mean_absolute_error: 731.9292 - root_mean_squared_error: 951.9471 - val_loss: 910641.0625 - val_mean_absolute_error: 733.2906 - val_root_mean_squared_error: 954.2751\n",
            "Epoch 51/100\n",
            "586/586 [==============================] - 2s 4ms/step - loss: 906961.0000 - mean_absolute_error: 734.0816 - root_mean_squared_error: 952.3450 - val_loss: 918177.4375 - val_mean_absolute_error: 739.4427 - val_root_mean_squared_error: 958.2158\n",
            "Epoch 52/100\n",
            "586/586 [==============================] - 2s 3ms/step - loss: 905070.1250 - mean_absolute_error: 732.4333 - root_mean_squared_error: 951.3517 - val_loss: 916890.0625 - val_mean_absolute_error: 736.0881 - val_root_mean_squared_error: 957.5438\n",
            "Epoch 53/100\n",
            "586/586 [==============================] - 2s 4ms/step - loss: 901040.0625 - mean_absolute_error: 731.1416 - root_mean_squared_error: 949.2313 - val_loss: 920421.9375 - val_mean_absolute_error: 736.5284 - val_root_mean_squared_error: 959.3862\n",
            "Epoch 54/100\n",
            "586/586 [==============================] - 3s 5ms/step - loss: 900899.8125 - mean_absolute_error: 731.9332 - root_mean_squared_error: 949.1574 - val_loss: 918345.8750 - val_mean_absolute_error: 736.6315 - val_root_mean_squared_error: 958.3036\n",
            "Epoch 55/100\n",
            "586/586 [==============================] - 4s 6ms/step - loss: 898998.2500 - mean_absolute_error: 728.8951 - root_mean_squared_error: 948.1552 - val_loss: 919020.9375 - val_mean_absolute_error: 739.7546 - val_root_mean_squared_error: 958.6558\n",
            "Epoch 56/100\n",
            "586/586 [==============================] - 2s 4ms/step - loss: 896697.5625 - mean_absolute_error: 728.2615 - root_mean_squared_error: 946.9412 - val_loss: 920851.0625 - val_mean_absolute_error: 737.8672 - val_root_mean_squared_error: 959.6099\n",
            "Epoch 57/100\n",
            "586/586 [==============================] - 2s 4ms/step - loss: 896103.6250 - mean_absolute_error: 727.7656 - root_mean_squared_error: 946.6275 - val_loss: 907949.9375 - val_mean_absolute_error: 730.5417 - val_root_mean_squared_error: 952.8641\n",
            "Epoch 58/100\n",
            "586/586 [==============================] - 2s 3ms/step - loss: 890887.9375 - mean_absolute_error: 725.3121 - root_mean_squared_error: 943.8686 - val_loss: 916424.1875 - val_mean_absolute_error: 733.1279 - val_root_mean_squared_error: 957.3005\n",
            "Epoch 59/100\n",
            "586/586 [==============================] - 2s 3ms/step - loss: 889478.6250 - mean_absolute_error: 724.2527 - root_mean_squared_error: 943.1218 - val_loss: 905458.1250 - val_mean_absolute_error: 731.2403 - val_root_mean_squared_error: 951.5557\n",
            "Epoch 60/100\n",
            "586/586 [==============================] - 2s 4ms/step - loss: 887556.7500 - mean_absolute_error: 725.7808 - root_mean_squared_error: 942.1023 - val_loss: 933352.8750 - val_mean_absolute_error: 734.3663 - val_root_mean_squared_error: 966.1019\n",
            "Epoch 61/100\n",
            "586/586 [==============================] - 3s 5ms/step - loss: 889606.8750 - mean_absolute_error: 724.9406 - root_mean_squared_error: 943.1898 - val_loss: 903973.2500 - val_mean_absolute_error: 724.9398 - val_root_mean_squared_error: 950.7751\n",
            "Epoch 62/100\n",
            "586/586 [==============================] - 2s 3ms/step - loss: 887401.1250 - mean_absolute_error: 724.6300 - root_mean_squared_error: 942.0197 - val_loss: 896599.5625 - val_mean_absolute_error: 724.4360 - val_root_mean_squared_error: 946.8894\n",
            "Epoch 63/100\n",
            "586/586 [==============================] - 2s 3ms/step - loss: 885422.6875 - mean_absolute_error: 722.2110 - root_mean_squared_error: 940.9690 - val_loss: 901428.4375 - val_mean_absolute_error: 730.0776 - val_root_mean_squared_error: 949.4359\n",
            "Epoch 64/100\n",
            "586/586 [==============================] - 3s 5ms/step - loss: 886143.8750 - mean_absolute_error: 723.4601 - root_mean_squared_error: 941.3522 - val_loss: 898682.0625 - val_mean_absolute_error: 726.4421 - val_root_mean_squared_error: 947.9884\n",
            "Epoch 65/100\n",
            "586/586 [==============================] - 4s 7ms/step - loss: 884179.5000 - mean_absolute_error: 722.6614 - root_mean_squared_error: 940.3082 - val_loss: 894271.7500 - val_mean_absolute_error: 722.9147 - val_root_mean_squared_error: 945.6594\n",
            "Epoch 66/100\n",
            "586/586 [==============================] - 3s 6ms/step - loss: 880749.4375 - mean_absolute_error: 720.2529 - root_mean_squared_error: 938.4825 - val_loss: 897111.8125 - val_mean_absolute_error: 725.8483 - val_root_mean_squared_error: 947.1599\n",
            "Epoch 67/100\n",
            "586/586 [==============================] - 3s 6ms/step - loss: 880512.7500 - mean_absolute_error: 721.4415 - root_mean_squared_error: 938.3564 - val_loss: 892561.6250 - val_mean_absolute_error: 722.0948 - val_root_mean_squared_error: 944.7548\n",
            "Epoch 68/100\n",
            "586/586 [==============================] - 3s 5ms/step - loss: 877400.8750 - mean_absolute_error: 719.4161 - root_mean_squared_error: 936.6968 - val_loss: 889401.1250 - val_mean_absolute_error: 721.7084 - val_root_mean_squared_error: 943.0806\n",
            "Epoch 69/100\n",
            "586/586 [==============================] - 4s 7ms/step - loss: 878069.2500 - mean_absolute_error: 719.8805 - root_mean_squared_error: 937.0535 - val_loss: 894454.1875 - val_mean_absolute_error: 724.5726 - val_root_mean_squared_error: 945.7559\n",
            "Epoch 70/100\n",
            "586/586 [==============================] - 5s 9ms/step - loss: 876724.7500 - mean_absolute_error: 718.7635 - root_mean_squared_error: 936.3358 - val_loss: 896498.1250 - val_mean_absolute_error: 727.2679 - val_root_mean_squared_error: 946.8359\n",
            "Epoch 71/100\n",
            "586/586 [==============================] - 5s 9ms/step - loss: 875578.4375 - mean_absolute_error: 718.5300 - root_mean_squared_error: 935.7235 - val_loss: 895491.9375 - val_mean_absolute_error: 727.0903 - val_root_mean_squared_error: 946.3044\n",
            "Epoch 72/100\n",
            "586/586 [==============================] - 4s 6ms/step - loss: 874535.6250 - mean_absolute_error: 719.1118 - root_mean_squared_error: 935.1661 - val_loss: 891262.8750 - val_mean_absolute_error: 725.1401 - val_root_mean_squared_error: 944.0672\n",
            "Epoch 73/100\n",
            "586/586 [==============================] - 3s 5ms/step - loss: 874042.5000 - mean_absolute_error: 718.7643 - root_mean_squared_error: 934.9024 - val_loss: 887187.1250 - val_mean_absolute_error: 721.4877 - val_root_mean_squared_error: 941.9061\n",
            "Epoch 74/100\n",
            "586/586 [==============================] - 3s 5ms/step - loss: 871370.1250 - mean_absolute_error: 716.5876 - root_mean_squared_error: 933.4721 - val_loss: 885011.8125 - val_mean_absolute_error: 720.3250 - val_root_mean_squared_error: 940.7507\n",
            "Epoch 75/100\n",
            "586/586 [==============================] - 4s 7ms/step - loss: 872134.3125 - mean_absolute_error: 718.0771 - root_mean_squared_error: 933.8813 - val_loss: 924732.3750 - val_mean_absolute_error: 731.8156 - val_root_mean_squared_error: 961.6301\n",
            "Epoch 76/100\n",
            "586/586 [==============================] - 4s 7ms/step - loss: 875705.0000 - mean_absolute_error: 718.7767 - root_mean_squared_error: 935.7911 - val_loss: 883108.0625 - val_mean_absolute_error: 719.4031 - val_root_mean_squared_error: 939.7383\n",
            "Epoch 77/100\n",
            "586/586 [==============================] - 5s 8ms/step - loss: 869473.2500 - mean_absolute_error: 715.9672 - root_mean_squared_error: 932.4555 - val_loss: 887297.8750 - val_mean_absolute_error: 720.8378 - val_root_mean_squared_error: 941.9649\n",
            "Epoch 78/100\n",
            "586/586 [==============================] - 2s 4ms/step - loss: 869273.7500 - mean_absolute_error: 715.1571 - root_mean_squared_error: 932.3485 - val_loss: 880122.5625 - val_mean_absolute_error: 719.1707 - val_root_mean_squared_error: 938.1485\n",
            "Epoch 79/100\n",
            "586/586 [==============================] - 2s 3ms/step - loss: 868261.2500 - mean_absolute_error: 715.8272 - root_mean_squared_error: 931.8054 - val_loss: 883448.3125 - val_mean_absolute_error: 719.1323 - val_root_mean_squared_error: 939.9193\n",
            "Epoch 80/100\n",
            "586/586 [==============================] - 2s 3ms/step - loss: 866271.0625 - mean_absolute_error: 714.8433 - root_mean_squared_error: 930.7368 - val_loss: 882582.5000 - val_mean_absolute_error: 717.6665 - val_root_mean_squared_error: 939.4586\n",
            "Epoch 81/100\n",
            "586/586 [==============================] - 3s 5ms/step - loss: 871187.0000 - mean_absolute_error: 716.4774 - root_mean_squared_error: 933.3740 - val_loss: 879129.0000 - val_mean_absolute_error: 716.3270 - val_root_mean_squared_error: 937.6188\n",
            "Epoch 82/100\n",
            "586/586 [==============================] - 3s 5ms/step - loss: 864672.8750 - mean_absolute_error: 713.3688 - root_mean_squared_error: 929.8779 - val_loss: 932720.9375 - val_mean_absolute_error: 735.3144 - val_root_mean_squared_error: 965.7748\n",
            "Epoch 83/100\n",
            "586/586 [==============================] - 3s 5ms/step - loss: 862962.1875 - mean_absolute_error: 714.0456 - root_mean_squared_error: 928.9576 - val_loss: 874622.5000 - val_mean_absolute_error: 711.8166 - val_root_mean_squared_error: 935.2125\n",
            "Epoch 84/100\n",
            "586/586 [==============================] - 3s 5ms/step - loss: 863821.6875 - mean_absolute_error: 713.1320 - root_mean_squared_error: 929.4201 - val_loss: 880175.9375 - val_mean_absolute_error: 719.5561 - val_root_mean_squared_error: 938.1769\n",
            "Epoch 85/100\n",
            "586/586 [==============================] - 2s 3ms/step - loss: 860036.1250 - mean_absolute_error: 711.9681 - root_mean_squared_error: 927.3813 - val_loss: 880788.4375 - val_mean_absolute_error: 720.2673 - val_root_mean_squared_error: 938.5033\n",
            "Epoch 86/100\n",
            "586/586 [==============================] - 3s 4ms/step - loss: 863410.0625 - mean_absolute_error: 714.3101 - root_mean_squared_error: 929.1986 - val_loss: 882053.6875 - val_mean_absolute_error: 718.9050 - val_root_mean_squared_error: 939.1771\n",
            "Epoch 87/100\n",
            "586/586 [==============================] - 2s 3ms/step - loss: 860739.6250 - mean_absolute_error: 712.7567 - root_mean_squared_error: 927.7606 - val_loss: 874887.8750 - val_mean_absolute_error: 714.1325 - val_root_mean_squared_error: 935.3544\n",
            "Epoch 88/100\n",
            "586/586 [==============================] - 3s 5ms/step - loss: 857456.1250 - mean_absolute_error: 711.0733 - root_mean_squared_error: 925.9893 - val_loss: 877032.0625 - val_mean_absolute_error: 714.5482 - val_root_mean_squared_error: 936.4999\n",
            "Epoch 89/100\n",
            "586/586 [==============================] - 6s 10ms/step - loss: 860377.1250 - mean_absolute_error: 711.9846 - root_mean_squared_error: 927.5652 - val_loss: 891447.9375 - val_mean_absolute_error: 720.1606 - val_root_mean_squared_error: 944.1652\n",
            "Epoch 90/100\n",
            "586/586 [==============================] - 3s 5ms/step - loss: 857462.2500 - mean_absolute_error: 710.8716 - root_mean_squared_error: 925.9926 - val_loss: 883979.8750 - val_mean_absolute_error: 719.6861 - val_root_mean_squared_error: 940.2020\n",
            "Epoch 91/100\n",
            "586/586 [==============================] - 2s 3ms/step - loss: 858703.1250 - mean_absolute_error: 712.2470 - root_mean_squared_error: 926.6624 - val_loss: 884015.1875 - val_mean_absolute_error: 720.0983 - val_root_mean_squared_error: 940.2208\n",
            "Epoch 92/100\n",
            "586/586 [==============================] - 2s 3ms/step - loss: 858337.1875 - mean_absolute_error: 711.2287 - root_mean_squared_error: 926.4649 - val_loss: 874886.3750 - val_mean_absolute_error: 715.1102 - val_root_mean_squared_error: 935.3536\n",
            "Epoch 93/100\n",
            "586/586 [==============================] - 1s 2ms/step - loss: 857367.8125 - mean_absolute_error: 710.5338 - root_mean_squared_error: 925.9416 - val_loss: 874848.5000 - val_mean_absolute_error: 715.1774 - val_root_mean_squared_error: 935.3334\n",
            "Epoch 94/100\n",
            "586/586 [==============================] - 2s 3ms/step - loss: 853524.3750 - mean_absolute_error: 710.1190 - root_mean_squared_error: 923.8638 - val_loss: 871225.6875 - val_mean_absolute_error: 710.1759 - val_root_mean_squared_error: 933.3947\n",
            "Epoch 95/100\n",
            "586/586 [==============================] - 2s 3ms/step - loss: 852968.9375 - mean_absolute_error: 709.1425 - root_mean_squared_error: 923.5632 - val_loss: 868779.9375 - val_mean_absolute_error: 710.3227 - val_root_mean_squared_error: 932.0837\n",
            "Epoch 96/100\n",
            "586/586 [==============================] - 2s 4ms/step - loss: 854735.1250 - mean_absolute_error: 710.4465 - root_mean_squared_error: 924.5189 - val_loss: 882052.3125 - val_mean_absolute_error: 715.0209 - val_root_mean_squared_error: 939.1764\n",
            "Epoch 97/100\n",
            "586/586 [==============================] - 3s 4ms/step - loss: 853837.3125 - mean_absolute_error: 708.8573 - root_mean_squared_error: 924.0332 - val_loss: 867290.1250 - val_mean_absolute_error: 710.7720 - val_root_mean_squared_error: 931.2841\n",
            "Epoch 98/100\n",
            "586/586 [==============================] - 2s 3ms/step - loss: 851854.3750 - mean_absolute_error: 708.3491 - root_mean_squared_error: 922.9596 - val_loss: 875799.3750 - val_mean_absolute_error: 715.1851 - val_root_mean_squared_error: 935.8416\n",
            "Epoch 99/100\n",
            "586/586 [==============================] - 2s 3ms/step - loss: 853112.2500 - mean_absolute_error: 709.4385 - root_mean_squared_error: 923.6407 - val_loss: 890189.3125 - val_mean_absolute_error: 721.2595 - val_root_mean_squared_error: 943.4984\n",
            "Epoch 100/100\n",
            "586/586 [==============================] - 2s 3ms/step - loss: 849644.6875 - mean_absolute_error: 707.7567 - root_mean_squared_error: 921.7617 - val_loss: 865102.0000 - val_mean_absolute_error: 709.3131 - val_root_mean_squared_error: 930.1086\n"
          ]
        }
      ]
    },
    {
      "cell_type": "code",
      "source": [
        "# Get predictions\n",
        "y_pred_train_1 = model_1.predict(X_train_tf)\n",
        "y_pred_test_1 = model_1.predict(X_test_tf)"
      ],
      "metadata": {
        "colab": {
          "base_uri": "https://localhost:8080/"
        },
        "outputId": "656bdd06-7b93-4579-825d-ceea391ef0fd",
        "id": "R1d-nL9EqKWl"
      },
      "execution_count": null,
      "outputs": [
        {
          "output_type": "stream",
          "name": "stdout",
          "text": [
            "586/586 [==============================] - 1s 1ms/step\n",
            "196/196 [==============================] - 0s 1ms/step\n"
          ]
        }
      ]
    },
    {
      "cell_type": "code",
      "source": [
        "# Model Sequential\n",
        "model_2 = Sequential()\n",
        "\n",
        "# Hidden layers\n",
        "model_2.add(Dense(37, input_dim = X_train_tf.shape[1], activation='relu'))\n",
        "model_2.add(Dropout(.2))\n",
        "model_2.add(Dense(25, activation='relu'))\n",
        "model_2.add(Dropout(.2))\n",
        "model_2.add(Dense(10, activation='relu'))\n",
        "model_2.add(Dropout(.2))\n",
        "\n",
        "# Output layer\n",
        "model_2.add(Dense(1, activation='linear'))\n",
        "\n",
        "# Compile the model\n",
        "model_2.compile(loss='mse', optimizer='adam', metrics=[metrics.MeanAbsoluteError(), metrics.RootMeanSquaredError()])\n",
        "\n",
        "# Fit the model\n",
        "history = model_2.fit(X_train_tf, y_train,\n",
        "                    validation_data = (X_test_tf, y_test),\n",
        "                    epochs = 100,\n",
        "                    batch_size = 32)"
      ],
      "metadata": {
        "colab": {
          "base_uri": "https://localhost:8080/"
        },
        "id": "ilCozFYqkQeo",
        "outputId": "c6418772-6730-411f-965f-98d0752e0f15"
      },
      "execution_count": null,
      "outputs": [
        {
          "output_type": "stream",
          "name": "stdout",
          "text": [
            "Epoch 1/100\n",
            "586/586 [==============================] - 3s 3ms/step - loss: 411698208.0000 - mean_absolute_error: 16567.0293 - root_mean_squared_error: 20290.3477 - val_loss: 42069772.0000 - val_mean_absolute_error: 5097.6382 - val_root_mean_squared_error: 6486.1216\n",
            "Epoch 2/100\n",
            "586/586 [==============================] - 3s 4ms/step - loss: 66235352.0000 - mean_absolute_error: 6249.7163 - root_mean_squared_error: 8138.5103 - val_loss: 20325650.0000 - val_mean_absolute_error: 3534.4346 - val_root_mean_squared_error: 4508.3979\n",
            "Epoch 3/100\n",
            "586/586 [==============================] - 3s 6ms/step - loss: 52339252.0000 - mean_absolute_error: 5423.2212 - root_mean_squared_error: 7234.5874 - val_loss: 10695225.0000 - val_mean_absolute_error: 2543.0693 - val_root_mean_squared_error: 3270.3555\n",
            "Epoch 4/100\n",
            "586/586 [==============================] - 3s 5ms/step - loss: 46230248.0000 - mean_absolute_error: 4961.8369 - root_mean_squared_error: 6799.2827 - val_loss: 6263223.0000 - val_mean_absolute_error: 1929.6835 - val_root_mean_squared_error: 2502.6433\n",
            "Epoch 5/100\n",
            "586/586 [==============================] - 3s 4ms/step - loss: 43710296.0000 - mean_absolute_error: 4783.6265 - root_mean_squared_error: 6611.3765 - val_loss: 4883439.0000 - val_mean_absolute_error: 1691.5197 - val_root_mean_squared_error: 2209.8503\n",
            "Epoch 6/100\n",
            "586/586 [==============================] - 2s 4ms/step - loss: 43205248.0000 - mean_absolute_error: 4718.1724 - root_mean_squared_error: 6573.0698 - val_loss: 3905952.2500 - val_mean_absolute_error: 1517.7543 - val_root_mean_squared_error: 1976.3483\n",
            "Epoch 7/100\n",
            "586/586 [==============================] - 2s 3ms/step - loss: 42610684.0000 - mean_absolute_error: 4706.4053 - root_mean_squared_error: 6527.6860 - val_loss: 5101333.0000 - val_mean_absolute_error: 1809.7523 - val_root_mean_squared_error: 2258.6130\n",
            "Epoch 8/100\n",
            "586/586 [==============================] - 2s 4ms/step - loss: 41549176.0000 - mean_absolute_error: 4641.2954 - root_mean_squared_error: 6445.8652 - val_loss: 4150672.0000 - val_mean_absolute_error: 1603.2465 - val_root_mean_squared_error: 2037.3198\n",
            "Epoch 9/100\n",
            "586/586 [==============================] - 3s 5ms/step - loss: 42671228.0000 - mean_absolute_error: 4684.6069 - root_mean_squared_error: 6532.3218 - val_loss: 4899118.0000 - val_mean_absolute_error: 1794.2346 - val_root_mean_squared_error: 2213.3950\n",
            "Epoch 10/100\n",
            "586/586 [==============================] - 2s 4ms/step - loss: 42674792.0000 - mean_absolute_error: 4699.8701 - root_mean_squared_error: 6532.5947 - val_loss: 3725368.2500 - val_mean_absolute_error: 1516.7102 - val_root_mean_squared_error: 1930.1213\n",
            "Epoch 11/100\n",
            "586/586 [==============================] - 2s 4ms/step - loss: 41715756.0000 - mean_absolute_error: 4627.8384 - root_mean_squared_error: 6458.7734 - val_loss: 3889031.5000 - val_mean_absolute_error: 1549.3292 - val_root_mean_squared_error: 1972.0627\n",
            "Epoch 12/100\n",
            "586/586 [==============================] - 2s 4ms/step - loss: 42585332.0000 - mean_absolute_error: 4686.0854 - root_mean_squared_error: 6525.7437 - val_loss: 3483942.0000 - val_mean_absolute_error: 1451.2646 - val_root_mean_squared_error: 1866.5321\n",
            "Epoch 13/100\n",
            "586/586 [==============================] - 2s 3ms/step - loss: 41558660.0000 - mean_absolute_error: 4609.9741 - root_mean_squared_error: 6446.6006 - val_loss: 2560590.0000 - val_mean_absolute_error: 1230.5746 - val_root_mean_squared_error: 1600.1843\n",
            "Epoch 14/100\n",
            "586/586 [==============================] - 3s 6ms/step - loss: 42203492.0000 - mean_absolute_error: 4625.9912 - root_mean_squared_error: 6496.4214 - val_loss: 3877987.2500 - val_mean_absolute_error: 1561.8091 - val_root_mean_squared_error: 1969.2606\n",
            "Epoch 15/100\n",
            "586/586 [==============================] - 5s 8ms/step - loss: 40487500.0000 - mean_absolute_error: 4586.0698 - root_mean_squared_error: 6362.9790 - val_loss: 3379374.2500 - val_mean_absolute_error: 1421.5205 - val_root_mean_squared_error: 1838.3075\n",
            "Epoch 16/100\n",
            "586/586 [==============================] - 4s 6ms/step - loss: 41798712.0000 - mean_absolute_error: 4607.6162 - root_mean_squared_error: 6465.1924 - val_loss: 3297617.5000 - val_mean_absolute_error: 1421.6162 - val_root_mean_squared_error: 1815.9343\n",
            "Epoch 17/100\n",
            "586/586 [==============================] - 2s 4ms/step - loss: 40865308.0000 - mean_absolute_error: 4598.9160 - root_mean_squared_error: 6392.5981 - val_loss: 3780908.2500 - val_mean_absolute_error: 1543.7802 - val_root_mean_squared_error: 1944.4558\n",
            "Epoch 18/100\n",
            "586/586 [==============================] - 2s 3ms/step - loss: 41256100.0000 - mean_absolute_error: 4575.2578 - root_mean_squared_error: 6423.0913 - val_loss: 4544139.0000 - val_mean_absolute_error: 1699.0746 - val_root_mean_squared_error: 2131.6987\n",
            "Epoch 19/100\n",
            "586/586 [==============================] - 2s 4ms/step - loss: 41001332.0000 - mean_absolute_error: 4606.5615 - root_mean_squared_error: 6403.2280 - val_loss: 3475771.2500 - val_mean_absolute_error: 1461.8750 - val_root_mean_squared_error: 1864.3420\n",
            "Epoch 20/100\n",
            "586/586 [==============================] - 2s 4ms/step - loss: 41458680.0000 - mean_absolute_error: 4603.8140 - root_mean_squared_error: 6438.8413 - val_loss: 3359231.2500 - val_mean_absolute_error: 1414.3302 - val_root_mean_squared_error: 1832.8206\n",
            "Epoch 21/100\n",
            "586/586 [==============================] - 2s 3ms/step - loss: 41472548.0000 - mean_absolute_error: 4600.9419 - root_mean_squared_error: 6439.9185 - val_loss: 3385000.5000 - val_mean_absolute_error: 1433.3296 - val_root_mean_squared_error: 1839.8370\n",
            "Epoch 22/100\n",
            "586/586 [==============================] - 2s 4ms/step - loss: 40589224.0000 - mean_absolute_error: 4557.1064 - root_mean_squared_error: 6370.9673 - val_loss: 3857604.5000 - val_mean_absolute_error: 1542.2811 - val_root_mean_squared_error: 1964.0785\n",
            "Epoch 23/100\n",
            "586/586 [==============================] - 3s 5ms/step - loss: 41835540.0000 - mean_absolute_error: 4606.6099 - root_mean_squared_error: 6468.0400 - val_loss: 4047284.2500 - val_mean_absolute_error: 1592.3453 - val_root_mean_squared_error: 2011.7864\n",
            "Epoch 24/100\n",
            "586/586 [==============================] - 3s 5ms/step - loss: 40967536.0000 - mean_absolute_error: 4559.8315 - root_mean_squared_error: 6400.5889 - val_loss: 4368587.0000 - val_mean_absolute_error: 1690.7831 - val_root_mean_squared_error: 2090.1165\n",
            "Epoch 25/100\n",
            "586/586 [==============================] - 4s 7ms/step - loss: 40509592.0000 - mean_absolute_error: 4567.0396 - root_mean_squared_error: 6364.7148 - val_loss: 4724570.0000 - val_mean_absolute_error: 1742.2524 - val_root_mean_squared_error: 2173.6077\n",
            "Epoch 26/100\n",
            "586/586 [==============================] - 3s 5ms/step - loss: 41071700.0000 - mean_absolute_error: 4602.1089 - root_mean_squared_error: 6408.7207 - val_loss: 5128777.5000 - val_mean_absolute_error: 1840.5426 - val_root_mean_squared_error: 2264.6804\n",
            "Epoch 27/100\n",
            "586/586 [==============================] - 2s 4ms/step - loss: 41024276.0000 - mean_absolute_error: 4590.1895 - root_mean_squared_error: 6405.0195 - val_loss: 3421491.7500 - val_mean_absolute_error: 1449.4260 - val_root_mean_squared_error: 1849.7275\n",
            "Epoch 28/100\n",
            "586/586 [==============================] - 2s 4ms/step - loss: 40951692.0000 - mean_absolute_error: 4545.2393 - root_mean_squared_error: 6399.3511 - val_loss: 2425346.2500 - val_mean_absolute_error: 1176.2167 - val_root_mean_squared_error: 1557.3523\n",
            "Epoch 29/100\n",
            "586/586 [==============================] - 3s 5ms/step - loss: 40681612.0000 - mean_absolute_error: 4585.5952 - root_mean_squared_error: 6378.2139 - val_loss: 4633279.5000 - val_mean_absolute_error: 1716.1840 - val_root_mean_squared_error: 2152.5054\n",
            "Epoch 30/100\n",
            "586/586 [==============================] - 3s 6ms/step - loss: 41691852.0000 - mean_absolute_error: 4588.9189 - root_mean_squared_error: 6456.9229 - val_loss: 2872428.5000 - val_mean_absolute_error: 1303.9102 - val_root_mean_squared_error: 1694.8240\n",
            "Epoch 31/100\n",
            "586/586 [==============================] - 2s 4ms/step - loss: 40286504.0000 - mean_absolute_error: 4559.7476 - root_mean_squared_error: 6347.1650 - val_loss: 3331069.7500 - val_mean_absolute_error: 1417.6099 - val_root_mean_squared_error: 1825.1218\n",
            "Epoch 32/100\n",
            "586/586 [==============================] - 2s 3ms/step - loss: 41610952.0000 - mean_absolute_error: 4618.4336 - root_mean_squared_error: 6450.6553 - val_loss: 3590491.2500 - val_mean_absolute_error: 1473.5266 - val_root_mean_squared_error: 1894.8591\n",
            "Epoch 33/100\n",
            "586/586 [==============================] - 2s 3ms/step - loss: 41095948.0000 - mean_absolute_error: 4563.0933 - root_mean_squared_error: 6410.6123 - val_loss: 3485784.5000 - val_mean_absolute_error: 1449.1930 - val_root_mean_squared_error: 1867.0256\n",
            "Epoch 34/100\n",
            "586/586 [==============================] - 2s 3ms/step - loss: 40715592.0000 - mean_absolute_error: 4568.1484 - root_mean_squared_error: 6380.8770 - val_loss: 4979852.5000 - val_mean_absolute_error: 1829.0026 - val_root_mean_squared_error: 2231.5583\n",
            "Epoch 35/100\n",
            "586/586 [==============================] - 2s 3ms/step - loss: 41941280.0000 - mean_absolute_error: 4612.9980 - root_mean_squared_error: 6476.2090 - val_loss: 5643828.5000 - val_mean_absolute_error: 1951.7373 - val_root_mean_squared_error: 2375.6743\n",
            "Epoch 36/100\n",
            "586/586 [==============================] - 3s 5ms/step - loss: 40836912.0000 - mean_absolute_error: 4576.5254 - root_mean_squared_error: 6390.3765 - val_loss: 4544524.0000 - val_mean_absolute_error: 1714.7996 - val_root_mean_squared_error: 2131.7888\n",
            "Epoch 37/100\n",
            "586/586 [==============================] - 3s 5ms/step - loss: 39863088.0000 - mean_absolute_error: 4502.5972 - root_mean_squared_error: 6313.7222 - val_loss: 3124815.5000 - val_mean_absolute_error: 1368.3033 - val_root_mean_squared_error: 1767.7147\n",
            "Epoch 38/100\n",
            "586/586 [==============================] - 2s 4ms/step - loss: 40491956.0000 - mean_absolute_error: 4562.1265 - root_mean_squared_error: 6363.3291 - val_loss: 3467754.0000 - val_mean_absolute_error: 1458.6179 - val_root_mean_squared_error: 1862.1907\n",
            "Epoch 39/100\n",
            "586/586 [==============================] - 2s 3ms/step - loss: 41070452.0000 - mean_absolute_error: 4574.1792 - root_mean_squared_error: 6408.6230 - val_loss: 4345880.0000 - val_mean_absolute_error: 1668.0984 - val_root_mean_squared_error: 2084.6775\n",
            "Epoch 40/100\n",
            "586/586 [==============================] - 3s 5ms/step - loss: 40608520.0000 - mean_absolute_error: 4556.5581 - root_mean_squared_error: 6372.4814 - val_loss: 3730844.0000 - val_mean_absolute_error: 1503.7090 - val_root_mean_squared_error: 1931.5393\n",
            "Epoch 41/100\n",
            "586/586 [==============================] - 5s 8ms/step - loss: 41646036.0000 - mean_absolute_error: 4607.8022 - root_mean_squared_error: 6453.3740 - val_loss: 3796480.2500 - val_mean_absolute_error: 1537.4938 - val_root_mean_squared_error: 1948.4558\n",
            "Epoch 42/100\n",
            "586/586 [==============================] - 4s 7ms/step - loss: 40238340.0000 - mean_absolute_error: 4534.4175 - root_mean_squared_error: 6343.3696 - val_loss: 3517831.2500 - val_mean_absolute_error: 1442.5101 - val_root_mean_squared_error: 1875.5883\n",
            "Epoch 43/100\n",
            "586/586 [==============================] - 3s 6ms/step - loss: 40875596.0000 - mean_absolute_error: 4555.2241 - root_mean_squared_error: 6393.4023 - val_loss: 4407684.0000 - val_mean_absolute_error: 1668.2000 - val_root_mean_squared_error: 2099.4485\n",
            "Epoch 44/100\n",
            "586/586 [==============================] - 3s 6ms/step - loss: 41357332.0000 - mean_absolute_error: 4573.9360 - root_mean_squared_error: 6430.9668 - val_loss: 3208898.5000 - val_mean_absolute_error: 1387.7522 - val_root_mean_squared_error: 1791.3398\n",
            "Epoch 45/100\n",
            "586/586 [==============================] - 3s 6ms/step - loss: 40535048.0000 - mean_absolute_error: 4529.5581 - root_mean_squared_error: 6366.7139 - val_loss: 2578200.2500 - val_mean_absolute_error: 1218.0680 - val_root_mean_squared_error: 1605.6775\n",
            "Epoch 46/100\n",
            "586/586 [==============================] - 2s 3ms/step - loss: 40348120.0000 - mean_absolute_error: 4525.0151 - root_mean_squared_error: 6352.0171 - val_loss: 5046263.5000 - val_mean_absolute_error: 1804.9010 - val_root_mean_squared_error: 2246.3889\n",
            "Epoch 47/100\n",
            "586/586 [==============================] - 3s 5ms/step - loss: 41897548.0000 - mean_absolute_error: 4626.6191 - root_mean_squared_error: 6472.8315 - val_loss: 4749939.0000 - val_mean_absolute_error: 1732.5338 - val_root_mean_squared_error: 2179.4355\n",
            "Epoch 48/100\n",
            "586/586 [==============================] - 2s 4ms/step - loss: 41026036.0000 - mean_absolute_error: 4558.5781 - root_mean_squared_error: 6405.1572 - val_loss: 5264290.5000 - val_mean_absolute_error: 1881.5844 - val_root_mean_squared_error: 2294.4041\n",
            "Epoch 49/100\n",
            "586/586 [==============================] - 2s 3ms/step - loss: 40678520.0000 - mean_absolute_error: 4542.4502 - root_mean_squared_error: 6377.9717 - val_loss: 2666095.7500 - val_mean_absolute_error: 1243.4442 - val_root_mean_squared_error: 1632.8184\n",
            "Epoch 50/100\n",
            "586/586 [==============================] - 2s 3ms/step - loss: 39743260.0000 - mean_absolute_error: 4503.6367 - root_mean_squared_error: 6304.2256 - val_loss: 3740669.5000 - val_mean_absolute_error: 1511.4572 - val_root_mean_squared_error: 1934.0811\n",
            "Epoch 51/100\n",
            "586/586 [==============================] - 2s 3ms/step - loss: 41600864.0000 - mean_absolute_error: 4601.9746 - root_mean_squared_error: 6449.8730 - val_loss: 3335616.2500 - val_mean_absolute_error: 1438.1956 - val_root_mean_squared_error: 1826.3669\n",
            "Epoch 52/100\n",
            "586/586 [==============================] - 2s 3ms/step - loss: 40100776.0000 - mean_absolute_error: 4542.3096 - root_mean_squared_error: 6332.5176 - val_loss: 4355082.0000 - val_mean_absolute_error: 1682.7688 - val_root_mean_squared_error: 2086.8833\n",
            "Epoch 53/100\n",
            "586/586 [==============================] - 2s 4ms/step - loss: 40136256.0000 - mean_absolute_error: 4528.9653 - root_mean_squared_error: 6335.3184 - val_loss: 3417014.2500 - val_mean_absolute_error: 1461.4205 - val_root_mean_squared_error: 1848.5167\n",
            "Epoch 54/100\n",
            "586/586 [==============================] - 3s 6ms/step - loss: 40101536.0000 - mean_absolute_error: 4505.2573 - root_mean_squared_error: 6332.5771 - val_loss: 3530986.2500 - val_mean_absolute_error: 1490.3936 - val_root_mean_squared_error: 1879.0919\n",
            "Epoch 55/100\n",
            "586/586 [==============================] - 4s 6ms/step - loss: 40937524.0000 - mean_absolute_error: 4568.6758 - root_mean_squared_error: 6398.2437 - val_loss: 3986679.0000 - val_mean_absolute_error: 1603.0480 - val_root_mean_squared_error: 1996.6670\n",
            "Epoch 56/100\n",
            "586/586 [==============================] - 2s 4ms/step - loss: 41125532.0000 - mean_absolute_error: 4574.7095 - root_mean_squared_error: 6412.9189 - val_loss: 3046247.0000 - val_mean_absolute_error: 1354.1328 - val_root_mean_squared_error: 1745.3501\n",
            "Epoch 57/100\n",
            "586/586 [==============================] - 2s 3ms/step - loss: 40205932.0000 - mean_absolute_error: 4526.0000 - root_mean_squared_error: 6340.8149 - val_loss: 3868611.0000 - val_mean_absolute_error: 1555.5642 - val_root_mean_squared_error: 1966.8785\n",
            "Epoch 58/100\n",
            "586/586 [==============================] - 2s 3ms/step - loss: 40973308.0000 - mean_absolute_error: 4546.4966 - root_mean_squared_error: 6401.0396 - val_loss: 4385758.0000 - val_mean_absolute_error: 1667.7383 - val_root_mean_squared_error: 2094.2202\n",
            "Epoch 59/100\n",
            "586/586 [==============================] - 3s 6ms/step - loss: 41384396.0000 - mean_absolute_error: 4603.7837 - root_mean_squared_error: 6433.0703 - val_loss: 3625169.5000 - val_mean_absolute_error: 1482.7430 - val_root_mean_squared_error: 1903.9878\n",
            "Epoch 60/100\n",
            "586/586 [==============================] - 5s 9ms/step - loss: 39850544.0000 - mean_absolute_error: 4517.7183 - root_mean_squared_error: 6312.7285 - val_loss: 4675620.0000 - val_mean_absolute_error: 1724.9794 - val_root_mean_squared_error: 2162.3181\n",
            "Epoch 61/100\n",
            "586/586 [==============================] - 2s 4ms/step - loss: 40327824.0000 - mean_absolute_error: 4523.4165 - root_mean_squared_error: 6350.4194 - val_loss: 3806923.7500 - val_mean_absolute_error: 1530.8552 - val_root_mean_squared_error: 1951.1339\n",
            "Epoch 62/100\n",
            "586/586 [==============================] - 3s 5ms/step - loss: 40948660.0000 - mean_absolute_error: 4547.4468 - root_mean_squared_error: 6399.1138 - val_loss: 3212360.7500 - val_mean_absolute_error: 1398.8627 - val_root_mean_squared_error: 1792.3060\n",
            "Epoch 63/100\n",
            "586/586 [==============================] - 3s 5ms/step - loss: 41194208.0000 - mean_absolute_error: 4566.8906 - root_mean_squared_error: 6418.2715 - val_loss: 3274497.7500 - val_mean_absolute_error: 1383.8722 - val_root_mean_squared_error: 1809.5574\n",
            "Epoch 64/100\n",
            "586/586 [==============================] - 8s 14ms/step - loss: 40480488.0000 - mean_absolute_error: 4545.1436 - root_mean_squared_error: 6362.4277 - val_loss: 3270956.5000 - val_mean_absolute_error: 1417.5618 - val_root_mean_squared_error: 1808.5786\n",
            "Epoch 65/100\n",
            "586/586 [==============================] - 4s 6ms/step - loss: 40021320.0000 - mean_absolute_error: 4512.2871 - root_mean_squared_error: 6326.2407 - val_loss: 4616506.5000 - val_mean_absolute_error: 1738.4980 - val_root_mean_squared_error: 2148.6057\n",
            "Epoch 66/100\n",
            "586/586 [==============================] - 5s 8ms/step - loss: 41663964.0000 - mean_absolute_error: 4577.0771 - root_mean_squared_error: 6454.7627 - val_loss: 2974927.5000 - val_mean_absolute_error: 1334.2766 - val_root_mean_squared_error: 1724.7979\n",
            "Epoch 67/100\n",
            "586/586 [==============================] - 7s 11ms/step - loss: 40860304.0000 - mean_absolute_error: 4545.8267 - root_mean_squared_error: 6392.2065 - val_loss: 3839362.2500 - val_mean_absolute_error: 1549.3080 - val_root_mean_squared_error: 1959.4291\n",
            "Epoch 68/100\n",
            "586/586 [==============================] - 2s 4ms/step - loss: 39944256.0000 - mean_absolute_error: 4502.9570 - root_mean_squared_error: 6320.1470 - val_loss: 4347706.0000 - val_mean_absolute_error: 1664.7360 - val_root_mean_squared_error: 2085.1152\n",
            "Epoch 69/100\n",
            "586/586 [==============================] - 4s 6ms/step - loss: 40558180.0000 - mean_absolute_error: 4522.7930 - root_mean_squared_error: 6368.5303 - val_loss: 5227418.5000 - val_mean_absolute_error: 1852.3035 - val_root_mean_squared_error: 2286.3547\n",
            "Epoch 70/100\n",
            "586/586 [==============================] - 2s 3ms/step - loss: 41519920.0000 - mean_absolute_error: 4585.3452 - root_mean_squared_error: 6443.5952 - val_loss: 3072596.5000 - val_mean_absolute_error: 1350.2288 - val_root_mean_squared_error: 1752.8823\n",
            "Epoch 71/100\n",
            "586/586 [==============================] - 2s 3ms/step - loss: 41105180.0000 - mean_absolute_error: 4556.5151 - root_mean_squared_error: 6411.3320 - val_loss: 3211271.7500 - val_mean_absolute_error: 1386.7775 - val_root_mean_squared_error: 1792.0022\n",
            "Epoch 72/100\n",
            "586/586 [==============================] - 2s 4ms/step - loss: 40758532.0000 - mean_absolute_error: 4535.0693 - root_mean_squared_error: 6384.2407 - val_loss: 3545148.5000 - val_mean_absolute_error: 1480.7816 - val_root_mean_squared_error: 1882.8564\n",
            "Epoch 73/100\n",
            "586/586 [==============================] - 3s 5ms/step - loss: 41304420.0000 - mean_absolute_error: 4558.1455 - root_mean_squared_error: 6426.8516 - val_loss: 2838187.7500 - val_mean_absolute_error: 1321.6060 - val_root_mean_squared_error: 1684.6921\n",
            "Epoch 74/100\n",
            "586/586 [==============================] - 2s 3ms/step - loss: 39798120.0000 - mean_absolute_error: 4496.5698 - root_mean_squared_error: 6308.5752 - val_loss: 2772322.5000 - val_mean_absolute_error: 1275.8168 - val_root_mean_squared_error: 1665.0293\n",
            "Epoch 75/100\n",
            "586/586 [==============================] - 2s 3ms/step - loss: 40516776.0000 - mean_absolute_error: 4539.9805 - root_mean_squared_error: 6365.2788 - val_loss: 3611485.7500 - val_mean_absolute_error: 1504.3951 - val_root_mean_squared_error: 1900.3910\n",
            "Epoch 76/100\n",
            "586/586 [==============================] - 2s 3ms/step - loss: 40786976.0000 - mean_absolute_error: 4554.3037 - root_mean_squared_error: 6386.4683 - val_loss: 4117159.2500 - val_mean_absolute_error: 1609.9697 - val_root_mean_squared_error: 2029.0784\n",
            "Epoch 77/100\n",
            "586/586 [==============================] - 2s 3ms/step - loss: 40591064.0000 - mean_absolute_error: 4546.8013 - root_mean_squared_error: 6371.1118 - val_loss: 3523581.7500 - val_mean_absolute_error: 1480.4342 - val_root_mean_squared_error: 1877.1206\n",
            "Epoch 78/100\n",
            "586/586 [==============================] - 2s 3ms/step - loss: 40427772.0000 - mean_absolute_error: 4530.6543 - root_mean_squared_error: 6358.2837 - val_loss: 3414833.0000 - val_mean_absolute_error: 1428.1930 - val_root_mean_squared_error: 1847.9266\n",
            "Epoch 79/100\n",
            "586/586 [==============================] - 2s 3ms/step - loss: 41216104.0000 - mean_absolute_error: 4575.6099 - root_mean_squared_error: 6419.9771 - val_loss: 3893249.2500 - val_mean_absolute_error: 1580.0208 - val_root_mean_squared_error: 1973.1318\n",
            "Epoch 80/100\n",
            "586/586 [==============================] - 2s 4ms/step - loss: 40534476.0000 - mean_absolute_error: 4543.0518 - root_mean_squared_error: 6366.6689 - val_loss: 3928020.7500 - val_mean_absolute_error: 1592.1387 - val_root_mean_squared_error: 1981.9235\n",
            "Epoch 81/100\n",
            "586/586 [==============================] - 3s 5ms/step - loss: 39641540.0000 - mean_absolute_error: 4488.4702 - root_mean_squared_error: 6296.1528 - val_loss: 2880094.5000 - val_mean_absolute_error: 1302.5020 - val_root_mean_squared_error: 1697.0841\n",
            "Epoch 82/100\n",
            "586/586 [==============================] - 2s 3ms/step - loss: 40391816.0000 - mean_absolute_error: 4515.7339 - root_mean_squared_error: 6355.4556 - val_loss: 3545507.5000 - val_mean_absolute_error: 1497.6101 - val_root_mean_squared_error: 1882.9518\n",
            "Epoch 83/100\n",
            "586/586 [==============================] - 2s 3ms/step - loss: 39964068.0000 - mean_absolute_error: 4526.6748 - root_mean_squared_error: 6321.7139 - val_loss: 3464099.5000 - val_mean_absolute_error: 1483.8304 - val_root_mean_squared_error: 1861.2091\n",
            "Epoch 84/100\n",
            "586/586 [==============================] - 2s 3ms/step - loss: 40343904.0000 - mean_absolute_error: 4536.6255 - root_mean_squared_error: 6351.6851 - val_loss: 2822790.2500 - val_mean_absolute_error: 1295.9412 - val_root_mean_squared_error: 1680.1161\n",
            "Epoch 85/100\n",
            "586/586 [==============================] - 3s 4ms/step - loss: 40738504.0000 - mean_absolute_error: 4537.4214 - root_mean_squared_error: 6382.6724 - val_loss: 3009582.5000 - val_mean_absolute_error: 1339.1427 - val_root_mean_squared_error: 1734.8148\n",
            "Epoch 86/100\n",
            "586/586 [==============================] - 3s 5ms/step - loss: 40636448.0000 - mean_absolute_error: 4530.7983 - root_mean_squared_error: 6374.6724 - val_loss: 4115143.0000 - val_mean_absolute_error: 1650.9221 - val_root_mean_squared_error: 2028.5815\n",
            "Epoch 87/100\n",
            "586/586 [==============================] - 5s 8ms/step - loss: 40612872.0000 - mean_absolute_error: 4551.0146 - root_mean_squared_error: 6372.8228 - val_loss: 4145027.5000 - val_mean_absolute_error: 1638.9574 - val_root_mean_squared_error: 2035.9341\n",
            "Epoch 88/100\n",
            "586/586 [==============================] - 3s 5ms/step - loss: 40015828.0000 - mean_absolute_error: 4495.0024 - root_mean_squared_error: 6325.8066 - val_loss: 2062087.0000 - val_mean_absolute_error: 1093.2494 - val_root_mean_squared_error: 1435.9968\n",
            "Epoch 89/100\n",
            "586/586 [==============================] - 2s 4ms/step - loss: 40361028.0000 - mean_absolute_error: 4514.6299 - root_mean_squared_error: 6353.0332 - val_loss: 3219202.0000 - val_mean_absolute_error: 1404.6659 - val_root_mean_squared_error: 1794.2135\n",
            "Epoch 90/100\n",
            "586/586 [==============================] - 3s 5ms/step - loss: 39709520.0000 - mean_absolute_error: 4491.7954 - root_mean_squared_error: 6301.5488 - val_loss: 4634677.0000 - val_mean_absolute_error: 1761.0592 - val_root_mean_squared_error: 2152.8301\n",
            "Epoch 91/100\n",
            "586/586 [==============================] - 3s 6ms/step - loss: 40092292.0000 - mean_absolute_error: 4494.0225 - root_mean_squared_error: 6331.8477 - val_loss: 3094959.2500 - val_mean_absolute_error: 1379.3016 - val_root_mean_squared_error: 1759.2496\n",
            "Epoch 92/100\n",
            "586/586 [==============================] - 4s 7ms/step - loss: 40271164.0000 - mean_absolute_error: 4520.6904 - root_mean_squared_error: 6345.9565 - val_loss: 3308793.7500 - val_mean_absolute_error: 1425.1901 - val_root_mean_squared_error: 1819.0090\n",
            "Epoch 93/100\n",
            "586/586 [==============================] - 4s 6ms/step - loss: 39863732.0000 - mean_absolute_error: 4507.9536 - root_mean_squared_error: 6313.7734 - val_loss: 3227479.0000 - val_mean_absolute_error: 1415.9847 - val_root_mean_squared_error: 1796.5186\n",
            "Epoch 94/100\n",
            "586/586 [==============================] - 2s 3ms/step - loss: 40581700.0000 - mean_absolute_error: 4537.9487 - root_mean_squared_error: 6370.3770 - val_loss: 3442712.0000 - val_mean_absolute_error: 1477.1147 - val_root_mean_squared_error: 1855.4547\n",
            "Epoch 95/100\n",
            "586/586 [==============================] - 2s 3ms/step - loss: 40537328.0000 - mean_absolute_error: 4539.2065 - root_mean_squared_error: 6366.8931 - val_loss: 2617721.0000 - val_mean_absolute_error: 1246.4677 - val_root_mean_squared_error: 1617.9373\n",
            "Epoch 96/100\n",
            "586/586 [==============================] - 3s 4ms/step - loss: 40557712.0000 - mean_absolute_error: 4544.2280 - root_mean_squared_error: 6368.4937 - val_loss: 2453595.0000 - val_mean_absolute_error: 1194.7932 - val_root_mean_squared_error: 1566.3955\n",
            "Epoch 97/100\n",
            "586/586 [==============================] - 5s 8ms/step - loss: 40672856.0000 - mean_absolute_error: 4534.2119 - root_mean_squared_error: 6377.5273 - val_loss: 3863973.5000 - val_mean_absolute_error: 1590.0591 - val_root_mean_squared_error: 1965.6992\n",
            "Epoch 98/100\n",
            "586/586 [==============================] - 2s 4ms/step - loss: 41086308.0000 - mean_absolute_error: 4562.0669 - root_mean_squared_error: 6409.8604 - val_loss: 3237706.2500 - val_mean_absolute_error: 1407.1566 - val_root_mean_squared_error: 1799.3628\n",
            "Epoch 99/100\n",
            "586/586 [==============================] - 2s 3ms/step - loss: 40163828.0000 - mean_absolute_error: 4503.2578 - root_mean_squared_error: 6337.4937 - val_loss: 3902741.7500 - val_mean_absolute_error: 1581.7357 - val_root_mean_squared_error: 1975.5358\n",
            "Epoch 100/100\n",
            "586/586 [==============================] - 2s 3ms/step - loss: 40735144.0000 - mean_absolute_error: 4531.7070 - root_mean_squared_error: 6382.4092 - val_loss: 4401104.0000 - val_mean_absolute_error: 1702.4365 - val_root_mean_squared_error: 2097.8809\n"
          ]
        }
      ]
    },
    {
      "cell_type": "code",
      "source": [
        "# Model Sequential\n",
        "model_3 = Sequential()\n",
        "\n",
        "# Hidden layers\n",
        "model_3.add(Dense(37, input_dim = X_train_tf.shape[1], activation='relu')),\n",
        "BatchNormalization(),\n",
        "model_3.add(Dropout(.2)),\n",
        "model_3.add(Dense(25, activation='relu')),\n",
        "BatchNormalization(),\n",
        "model_3.add(Dropout(.2)),\n",
        "model_3.add(Dense(10, activation='relu')),\n",
        "BatchNormalization(),\n",
        "model_3.add(Dropout(.2)),\n",
        "\n",
        "# Output layer\n",
        "model_3.add(Dense(1, activation='linear'))\n",
        "\n",
        "# Compile the model\n",
        "model_3.compile(loss='mse', optimizer='adam', metrics=[metrics.MeanAbsoluteError(), metrics.RootMeanSquaredError()])\n",
        "\n",
        "# Fit the model\n",
        "history = model_3.fit(X_train_tf, y_train,\n",
        "                    validation_data = (X_test_tf, y_test),\n",
        "                    epochs = 100,\n",
        "                    batch_size = 32)"
      ],
      "metadata": {
        "colab": {
          "base_uri": "https://localhost:8080/"
        },
        "id": "Z9ImWx_XlKxQ",
        "outputId": "6d2a11f1-ab74-4797-a039-e390dc8afefb"
      },
      "execution_count": null,
      "outputs": [
        {
          "output_type": "stream",
          "name": "stdout",
          "text": [
            "Epoch 1/100\n",
            "586/586 [==============================] - 3s 3ms/step - loss: 402050656.0000 - mean_absolute_error: 16303.1914 - root_mean_squared_error: 20051.2012 - val_loss: 41206216.0000 - val_mean_absolute_error: 5046.0718 - val_root_mean_squared_error: 6419.2070\n",
            "Epoch 2/100\n",
            "586/586 [==============================] - 2s 3ms/step - loss: 64266320.0000 - mean_absolute_error: 6145.9390 - root_mean_squared_error: 8016.6279 - val_loss: 20540400.0000 - val_mean_absolute_error: 3543.5713 - val_root_mean_squared_error: 4532.1519\n",
            "Epoch 3/100\n",
            "586/586 [==============================] - 2s 4ms/step - loss: 51083164.0000 - mean_absolute_error: 5330.9146 - root_mean_squared_error: 7147.2485 - val_loss: 9564503.0000 - val_mean_absolute_error: 2405.1521 - val_root_mean_squared_error: 3092.6531\n",
            "Epoch 4/100\n",
            "586/586 [==============================] - 4s 6ms/step - loss: 40780412.0000 - mean_absolute_error: 4695.6177 - root_mean_squared_error: 6385.9541 - val_loss: 5281066.0000 - val_mean_absolute_error: 1757.5361 - val_root_mean_squared_error: 2298.0569\n",
            "Epoch 5/100\n",
            "586/586 [==============================] - 3s 5ms/step - loss: 38571264.0000 - mean_absolute_error: 4482.3877 - root_mean_squared_error: 6210.5767 - val_loss: 3585304.2500 - val_mean_absolute_error: 1420.8861 - val_root_mean_squared_error: 1893.4900\n",
            "Epoch 6/100\n",
            "586/586 [==============================] - 4s 7ms/step - loss: 37467960.0000 - mean_absolute_error: 4405.5771 - root_mean_squared_error: 6121.1079 - val_loss: 3170671.0000 - val_mean_absolute_error: 1347.1019 - val_root_mean_squared_error: 1780.6378\n",
            "Epoch 7/100\n",
            "586/586 [==============================] - 7s 12ms/step - loss: 37042984.0000 - mean_absolute_error: 4382.0630 - root_mean_squared_error: 6086.2949 - val_loss: 3267216.7500 - val_mean_absolute_error: 1392.7266 - val_root_mean_squared_error: 1807.5444\n",
            "Epoch 8/100\n",
            "586/586 [==============================] - 4s 7ms/step - loss: 36456312.0000 - mean_absolute_error: 4336.3760 - root_mean_squared_error: 6037.9062 - val_loss: 3411325.7500 - val_mean_absolute_error: 1417.1036 - val_root_mean_squared_error: 1846.9774\n",
            "Epoch 9/100\n",
            "586/586 [==============================] - 4s 7ms/step - loss: 38658964.0000 - mean_absolute_error: 4451.4297 - root_mean_squared_error: 6217.6333 - val_loss: 2901198.7500 - val_mean_absolute_error: 1298.5208 - val_root_mean_squared_error: 1703.2905\n",
            "Epoch 10/100\n",
            "586/586 [==============================] - 3s 5ms/step - loss: 37762284.0000 - mean_absolute_error: 4422.9883 - root_mean_squared_error: 6145.1025 - val_loss: 2875695.5000 - val_mean_absolute_error: 1301.2806 - val_root_mean_squared_error: 1695.7876\n",
            "Epoch 11/100\n",
            "586/586 [==============================] - 4s 7ms/step - loss: 37093256.0000 - mean_absolute_error: 4377.8550 - root_mean_squared_error: 6090.4233 - val_loss: 3204685.5000 - val_mean_absolute_error: 1367.4557 - val_root_mean_squared_error: 1790.1636\n",
            "Epoch 12/100\n",
            "586/586 [==============================] - 2s 3ms/step - loss: 37405300.0000 - mean_absolute_error: 4387.6353 - root_mean_squared_error: 6115.9873 - val_loss: 3218877.2500 - val_mean_absolute_error: 1381.8690 - val_root_mean_squared_error: 1794.1229\n",
            "Epoch 13/100\n",
            "586/586 [==============================] - 2s 3ms/step - loss: 36947368.0000 - mean_absolute_error: 4375.9897 - root_mean_squared_error: 6078.4346 - val_loss: 3555367.7500 - val_mean_absolute_error: 1464.1863 - val_root_mean_squared_error: 1885.5682\n",
            "Epoch 14/100\n",
            "586/586 [==============================] - 2s 3ms/step - loss: 37325608.0000 - mean_absolute_error: 4399.7393 - root_mean_squared_error: 6109.4688 - val_loss: 3427486.2500 - val_mean_absolute_error: 1445.5110 - val_root_mean_squared_error: 1851.3472\n",
            "Epoch 15/100\n",
            "586/586 [==============================] - 2s 4ms/step - loss: 37063780.0000 - mean_absolute_error: 4402.3110 - root_mean_squared_error: 6088.0029 - val_loss: 2901865.0000 - val_mean_absolute_error: 1307.1560 - val_root_mean_squared_error: 1703.4861\n",
            "Epoch 16/100\n",
            "586/586 [==============================] - 3s 5ms/step - loss: 36590872.0000 - mean_absolute_error: 4349.6694 - root_mean_squared_error: 6049.0391 - val_loss: 3103572.0000 - val_mean_absolute_error: 1355.3142 - val_root_mean_squared_error: 1761.6958\n",
            "Epoch 17/100\n",
            "586/586 [==============================] - 3s 5ms/step - loss: 37149716.0000 - mean_absolute_error: 4373.9087 - root_mean_squared_error: 6095.0566 - val_loss: 2942425.5000 - val_mean_absolute_error: 1321.3123 - val_root_mean_squared_error: 1715.3500\n",
            "Epoch 18/100\n",
            "586/586 [==============================] - 2s 4ms/step - loss: 36374444.0000 - mean_absolute_error: 4327.6357 - root_mean_squared_error: 6031.1230 - val_loss: 3509682.5000 - val_mean_absolute_error: 1480.8682 - val_root_mean_squared_error: 1873.4147\n",
            "Epoch 19/100\n",
            "586/586 [==============================] - 3s 4ms/step - loss: 36433996.0000 - mean_absolute_error: 4363.4321 - root_mean_squared_error: 6036.0581 - val_loss: 2590930.7500 - val_mean_absolute_error: 1210.4167 - val_root_mean_squared_error: 1609.6368\n",
            "Epoch 20/100\n",
            "586/586 [==============================] - 3s 5ms/step - loss: 37754388.0000 - mean_absolute_error: 4388.8960 - root_mean_squared_error: 6144.4600 - val_loss: 4730458.0000 - val_mean_absolute_error: 1747.3146 - val_root_mean_squared_error: 2174.9617\n",
            "Epoch 21/100\n",
            "586/586 [==============================] - 3s 5ms/step - loss: 36675060.0000 - mean_absolute_error: 4358.3936 - root_mean_squared_error: 6055.9937 - val_loss: 2523950.0000 - val_mean_absolute_error: 1211.4176 - val_root_mean_squared_error: 1588.6945\n",
            "Epoch 22/100\n",
            "586/586 [==============================] - 2s 3ms/step - loss: 37042444.0000 - mean_absolute_error: 4372.9697 - root_mean_squared_error: 6086.2505 - val_loss: 2912394.5000 - val_mean_absolute_error: 1296.5535 - val_root_mean_squared_error: 1706.5739\n",
            "Epoch 23/100\n",
            "586/586 [==============================] - 3s 5ms/step - loss: 36422528.0000 - mean_absolute_error: 4349.2900 - root_mean_squared_error: 6035.1079 - val_loss: 2791183.2500 - val_mean_absolute_error: 1265.6788 - val_root_mean_squared_error: 1670.6835\n",
            "Epoch 24/100\n",
            "586/586 [==============================] - 2s 4ms/step - loss: 36220088.0000 - mean_absolute_error: 4357.6333 - root_mean_squared_error: 6018.3125 - val_loss: 4303624.0000 - val_mean_absolute_error: 1649.9069 - val_root_mean_squared_error: 2074.5178\n",
            "Epoch 25/100\n",
            "586/586 [==============================] - 3s 5ms/step - loss: 36588588.0000 - mean_absolute_error: 4356.8306 - root_mean_squared_error: 6048.8501 - val_loss: 2956505.5000 - val_mean_absolute_error: 1317.3896 - val_root_mean_squared_error: 1719.4492\n",
            "Epoch 26/100\n",
            "586/586 [==============================] - 2s 3ms/step - loss: 37407296.0000 - mean_absolute_error: 4370.9937 - root_mean_squared_error: 6116.1504 - val_loss: 3585970.7500 - val_mean_absolute_error: 1476.8502 - val_root_mean_squared_error: 1893.6660\n",
            "Epoch 27/100\n",
            "586/586 [==============================] - 2s 3ms/step - loss: 36187684.0000 - mean_absolute_error: 4319.3501 - root_mean_squared_error: 6015.6201 - val_loss: 3455787.7500 - val_mean_absolute_error: 1428.7693 - val_root_mean_squared_error: 1858.9750\n",
            "Epoch 28/100\n",
            "586/586 [==============================] - 2s 3ms/step - loss: 36421956.0000 - mean_absolute_error: 4324.8320 - root_mean_squared_error: 6035.0605 - val_loss: 3836021.0000 - val_mean_absolute_error: 1529.1003 - val_root_mean_squared_error: 1958.5763\n",
            "Epoch 29/100\n",
            "586/586 [==============================] - 3s 5ms/step - loss: 36100156.0000 - mean_absolute_error: 4303.1836 - root_mean_squared_error: 6008.3403 - val_loss: 2954756.5000 - val_mean_absolute_error: 1320.8197 - val_root_mean_squared_error: 1718.9406\n",
            "Epoch 30/100\n",
            "586/586 [==============================] - 2s 4ms/step - loss: 36685092.0000 - mean_absolute_error: 4343.5513 - root_mean_squared_error: 6056.8218 - val_loss: 2940936.5000 - val_mean_absolute_error: 1332.1064 - val_root_mean_squared_error: 1714.9159\n",
            "Epoch 31/100\n",
            "586/586 [==============================] - 2s 3ms/step - loss: 36373332.0000 - mean_absolute_error: 4334.4565 - root_mean_squared_error: 6031.0308 - val_loss: 2953518.0000 - val_mean_absolute_error: 1330.5590 - val_root_mean_squared_error: 1718.5802\n",
            "Epoch 32/100\n",
            "586/586 [==============================] - 2s 3ms/step - loss: 36522308.0000 - mean_absolute_error: 4335.8159 - root_mean_squared_error: 6043.3691 - val_loss: 3487526.0000 - val_mean_absolute_error: 1439.9923 - val_root_mean_squared_error: 1867.4919\n",
            "Epoch 33/100\n",
            "586/586 [==============================] - 2s 3ms/step - loss: 36623256.0000 - mean_absolute_error: 4346.1250 - root_mean_squared_error: 6051.7153 - val_loss: 3436286.5000 - val_mean_absolute_error: 1438.5573 - val_root_mean_squared_error: 1853.7223\n",
            "Epoch 34/100\n",
            "586/586 [==============================] - 2s 3ms/step - loss: 36600336.0000 - mean_absolute_error: 4353.9346 - root_mean_squared_error: 6049.8213 - val_loss: 3114047.0000 - val_mean_absolute_error: 1372.4968 - val_root_mean_squared_error: 1764.6663\n",
            "Epoch 35/100\n",
            "586/586 [==============================] - 2s 3ms/step - loss: 36361904.0000 - mean_absolute_error: 4315.0625 - root_mean_squared_error: 6030.0830 - val_loss: 3230693.7500 - val_mean_absolute_error: 1390.2255 - val_root_mean_squared_error: 1797.4131\n",
            "Epoch 36/100\n",
            "586/586 [==============================] - 2s 3ms/step - loss: 36100200.0000 - mean_absolute_error: 4298.6084 - root_mean_squared_error: 6008.3442 - val_loss: 3486314.7500 - val_mean_absolute_error: 1452.9388 - val_root_mean_squared_error: 1867.1676\n",
            "Epoch 37/100\n",
            "586/586 [==============================] - 3s 5ms/step - loss: 36131560.0000 - mean_absolute_error: 4300.2891 - root_mean_squared_error: 6010.9531 - val_loss: 2352487.2500 - val_mean_absolute_error: 1164.9736 - val_root_mean_squared_error: 1533.7820\n",
            "Epoch 38/100\n",
            "586/586 [==============================] - 2s 3ms/step - loss: 36279360.0000 - mean_absolute_error: 4312.9214 - root_mean_squared_error: 6023.2349 - val_loss: 2047907.2500 - val_mean_absolute_error: 1068.4771 - val_root_mean_squared_error: 1431.0511\n",
            "Epoch 39/100\n",
            "586/586 [==============================] - 2s 3ms/step - loss: 37220248.0000 - mean_absolute_error: 4353.2900 - root_mean_squared_error: 6100.8398 - val_loss: 3163276.2500 - val_mean_absolute_error: 1360.9077 - val_root_mean_squared_error: 1778.5602\n",
            "Epoch 40/100\n",
            "586/586 [==============================] - 2s 3ms/step - loss: 37069060.0000 - mean_absolute_error: 4363.0889 - root_mean_squared_error: 6088.4365 - val_loss: 4144366.0000 - val_mean_absolute_error: 1633.5046 - val_root_mean_squared_error: 2035.7716\n",
            "Epoch 41/100\n",
            "586/586 [==============================] - 2s 3ms/step - loss: 36450968.0000 - mean_absolute_error: 4332.6909 - root_mean_squared_error: 6037.4639 - val_loss: 3346046.7500 - val_mean_absolute_error: 1423.3451 - val_root_mean_squared_error: 1829.2202\n",
            "Epoch 42/100\n",
            "586/586 [==============================] - 2s 3ms/step - loss: 35888592.0000 - mean_absolute_error: 4304.3271 - root_mean_squared_error: 5990.7090 - val_loss: 2901025.7500 - val_mean_absolute_error: 1309.3616 - val_root_mean_squared_error: 1703.2397\n",
            "Epoch 43/100\n",
            "586/586 [==============================] - 2s 3ms/step - loss: 37315668.0000 - mean_absolute_error: 4369.4868 - root_mean_squared_error: 6108.6553 - val_loss: 3373363.0000 - val_mean_absolute_error: 1415.4442 - val_root_mean_squared_error: 1836.6718\n",
            "Epoch 44/100\n",
            "586/586 [==============================] - 3s 4ms/step - loss: 36839540.0000 - mean_absolute_error: 4342.6484 - root_mean_squared_error: 6069.5586 - val_loss: 3872315.2500 - val_mean_absolute_error: 1547.6133 - val_root_mean_squared_error: 1967.8199\n",
            "Epoch 45/100\n",
            "586/586 [==============================] - 3s 5ms/step - loss: 36201340.0000 - mean_absolute_error: 4305.1616 - root_mean_squared_error: 6016.7549 - val_loss: 3311951.7500 - val_mean_absolute_error: 1417.4607 - val_root_mean_squared_error: 1819.8768\n",
            "Epoch 46/100\n",
            "586/586 [==============================] - 2s 3ms/step - loss: 36306164.0000 - mean_absolute_error: 4308.9751 - root_mean_squared_error: 6025.4595 - val_loss: 4514031.5000 - val_mean_absolute_error: 1684.6176 - val_root_mean_squared_error: 2124.6250\n",
            "Epoch 47/100\n",
            "586/586 [==============================] - 2s 3ms/step - loss: 36465648.0000 - mean_absolute_error: 4336.5044 - root_mean_squared_error: 6038.6792 - val_loss: 3373696.2500 - val_mean_absolute_error: 1425.6174 - val_root_mean_squared_error: 1836.7625\n",
            "Epoch 48/100\n",
            "586/586 [==============================] - 2s 3ms/step - loss: 35694364.0000 - mean_absolute_error: 4267.1870 - root_mean_squared_error: 5974.4761 - val_loss: 3473605.5000 - val_mean_absolute_error: 1440.3538 - val_root_mean_squared_error: 1863.7611\n",
            "Epoch 49/100\n",
            "586/586 [==============================] - 2s 3ms/step - loss: 36393824.0000 - mean_absolute_error: 4295.1763 - root_mean_squared_error: 6032.7295 - val_loss: 3493339.2500 - val_mean_absolute_error: 1456.9653 - val_root_mean_squared_error: 1869.0477\n",
            "Epoch 50/100\n",
            "586/586 [==============================] - 2s 3ms/step - loss: 35529576.0000 - mean_absolute_error: 4276.1650 - root_mean_squared_error: 5960.6689 - val_loss: 4538160.0000 - val_mean_absolute_error: 1703.0959 - val_root_mean_squared_error: 2130.2957\n",
            "Epoch 51/100\n",
            "586/586 [==============================] - 2s 4ms/step - loss: 36485308.0000 - mean_absolute_error: 4322.9766 - root_mean_squared_error: 6040.3071 - val_loss: 3362698.7500 - val_mean_absolute_error: 1420.2725 - val_root_mean_squared_error: 1833.7662\n",
            "Epoch 52/100\n",
            "586/586 [==============================] - 3s 5ms/step - loss: 35378856.0000 - mean_absolute_error: 4281.9019 - root_mean_squared_error: 5948.0127 - val_loss: 2809595.5000 - val_mean_absolute_error: 1284.3878 - val_root_mean_squared_error: 1676.1848\n",
            "Epoch 53/100\n",
            "586/586 [==============================] - 2s 3ms/step - loss: 36401364.0000 - mean_absolute_error: 4305.6538 - root_mean_squared_error: 6033.3545 - val_loss: 3572145.7500 - val_mean_absolute_error: 1487.3737 - val_root_mean_squared_error: 1890.0121\n",
            "Epoch 54/100\n",
            "586/586 [==============================] - 2s 3ms/step - loss: 36545968.0000 - mean_absolute_error: 4330.2271 - root_mean_squared_error: 6045.3262 - val_loss: 3621905.2500 - val_mean_absolute_error: 1487.0870 - val_root_mean_squared_error: 1903.1304\n",
            "Epoch 55/100\n",
            "586/586 [==============================] - 2s 3ms/step - loss: 35715776.0000 - mean_absolute_error: 4281.4087 - root_mean_squared_error: 5976.2676 - val_loss: 2544550.7500 - val_mean_absolute_error: 1208.8098 - val_root_mean_squared_error: 1595.1648\n",
            "Epoch 56/100\n",
            "586/586 [==============================] - 2s 3ms/step - loss: 35568092.0000 - mean_absolute_error: 4275.9751 - root_mean_squared_error: 5963.8989 - val_loss: 3749524.2500 - val_mean_absolute_error: 1529.1504 - val_root_mean_squared_error: 1936.3688\n",
            "Epoch 57/100\n",
            "586/586 [==============================] - 2s 3ms/step - loss: 35784404.0000 - mean_absolute_error: 4291.3403 - root_mean_squared_error: 5982.0068 - val_loss: 2827363.5000 - val_mean_absolute_error: 1304.1296 - val_root_mean_squared_error: 1681.4766\n",
            "Epoch 58/100\n",
            "586/586 [==============================] - 2s 4ms/step - loss: 35797412.0000 - mean_absolute_error: 4306.0762 - root_mean_squared_error: 5983.0938 - val_loss: 4358744.5000 - val_mean_absolute_error: 1646.8652 - val_root_mean_squared_error: 2087.7607\n",
            "Epoch 59/100\n",
            "586/586 [==============================] - 3s 4ms/step - loss: 36304960.0000 - mean_absolute_error: 4308.1909 - root_mean_squared_error: 6025.3599 - val_loss: 4084027.2500 - val_mean_absolute_error: 1595.8594 - val_root_mean_squared_error: 2020.8976\n",
            "Epoch 60/100\n",
            "586/586 [==============================] - 2s 4ms/step - loss: 35984260.0000 - mean_absolute_error: 4289.8965 - root_mean_squared_error: 5998.6880 - val_loss: 2231919.7500 - val_mean_absolute_error: 1131.5643 - val_root_mean_squared_error: 1493.9611\n",
            "Epoch 61/100\n",
            "586/586 [==============================] - 2s 3ms/step - loss: 36088680.0000 - mean_absolute_error: 4301.3003 - root_mean_squared_error: 6007.3853 - val_loss: 3370656.0000 - val_mean_absolute_error: 1438.7976 - val_root_mean_squared_error: 1835.9347\n",
            "Epoch 62/100\n",
            "586/586 [==============================] - 2s 3ms/step - loss: 36033336.0000 - mean_absolute_error: 4317.3159 - root_mean_squared_error: 6002.7773 - val_loss: 2910337.7500 - val_mean_absolute_error: 1318.0302 - val_root_mean_squared_error: 1705.9712\n",
            "Epoch 63/100\n",
            "586/586 [==============================] - 2s 3ms/step - loss: 35189624.0000 - mean_absolute_error: 4268.0610 - root_mean_squared_error: 5932.0845 - val_loss: 3164885.2500 - val_mean_absolute_error: 1390.2729 - val_root_mean_squared_error: 1779.0125\n",
            "Epoch 64/100\n",
            "586/586 [==============================] - 2s 3ms/step - loss: 36388500.0000 - mean_absolute_error: 4312.1201 - root_mean_squared_error: 6032.2881 - val_loss: 2975505.7500 - val_mean_absolute_error: 1333.6718 - val_root_mean_squared_error: 1724.9655\n",
            "Epoch 65/100\n",
            "586/586 [==============================] - 2s 3ms/step - loss: 36285976.0000 - mean_absolute_error: 4297.1948 - root_mean_squared_error: 6023.7842 - val_loss: 3522566.0000 - val_mean_absolute_error: 1483.5469 - val_root_mean_squared_error: 1876.8500\n",
            "Epoch 66/100\n",
            "586/586 [==============================] - 3s 5ms/step - loss: 36031072.0000 - mean_absolute_error: 4280.4497 - root_mean_squared_error: 6002.5889 - val_loss: 2761232.0000 - val_mean_absolute_error: 1278.5588 - val_root_mean_squared_error: 1661.6956\n",
            "Epoch 67/100\n",
            "586/586 [==============================] - 3s 4ms/step - loss: 35538604.0000 - mean_absolute_error: 4285.4453 - root_mean_squared_error: 5961.4263 - val_loss: 3158169.2500 - val_mean_absolute_error: 1363.4818 - val_root_mean_squared_error: 1777.1239\n",
            "Epoch 68/100\n",
            "586/586 [==============================] - 2s 3ms/step - loss: 36233252.0000 - mean_absolute_error: 4308.1367 - root_mean_squared_error: 6019.4062 - val_loss: 3751698.5000 - val_mean_absolute_error: 1534.6536 - val_root_mean_squared_error: 1936.9302\n",
            "Epoch 69/100\n",
            "586/586 [==============================] - 2s 3ms/step - loss: 36182080.0000 - mean_absolute_error: 4303.9785 - root_mean_squared_error: 6015.1543 - val_loss: 3105165.5000 - val_mean_absolute_error: 1373.3284 - val_root_mean_squared_error: 1762.1479\n",
            "Epoch 70/100\n",
            "586/586 [==============================] - 2s 3ms/step - loss: 36288924.0000 - mean_absolute_error: 4296.0269 - root_mean_squared_error: 6024.0288 - val_loss: 3592645.2500 - val_mean_absolute_error: 1524.0272 - val_root_mean_squared_error: 1895.4275\n",
            "Epoch 71/100\n",
            "586/586 [==============================] - 2s 3ms/step - loss: 35574996.0000 - mean_absolute_error: 4286.3281 - root_mean_squared_error: 5964.4780 - val_loss: 3351319.0000 - val_mean_absolute_error: 1434.9403 - val_root_mean_squared_error: 1830.6608\n",
            "Epoch 72/100\n",
            "586/586 [==============================] - 2s 3ms/step - loss: 35718716.0000 - mean_absolute_error: 4284.1133 - root_mean_squared_error: 5976.5137 - val_loss: 3522084.2500 - val_mean_absolute_error: 1487.8199 - val_root_mean_squared_error: 1876.7217\n",
            "Epoch 73/100\n",
            "586/586 [==============================] - 2s 4ms/step - loss: 35412048.0000 - mean_absolute_error: 4265.0522 - root_mean_squared_error: 5950.8022 - val_loss: 2940228.7500 - val_mean_absolute_error: 1348.8003 - val_root_mean_squared_error: 1714.7095\n",
            "Epoch 74/100\n",
            "586/586 [==============================] - 3s 5ms/step - loss: 35876940.0000 - mean_absolute_error: 4286.0806 - root_mean_squared_error: 5989.7363 - val_loss: 4324144.5000 - val_mean_absolute_error: 1682.1730 - val_root_mean_squared_error: 2079.4578\n",
            "Epoch 75/100\n",
            "586/586 [==============================] - 2s 3ms/step - loss: 35495076.0000 - mean_absolute_error: 4275.9863 - root_mean_squared_error: 5957.7744 - val_loss: 3099308.5000 - val_mean_absolute_error: 1383.9259 - val_root_mean_squared_error: 1760.4854\n",
            "Epoch 76/100\n",
            "586/586 [==============================] - 2s 3ms/step - loss: 36567724.0000 - mean_absolute_error: 4292.9434 - root_mean_squared_error: 6047.1255 - val_loss: 3412458.5000 - val_mean_absolute_error: 1469.0790 - val_root_mean_squared_error: 1847.2841\n",
            "Epoch 77/100\n",
            "586/586 [==============================] - 2s 3ms/step - loss: 35528988.0000 - mean_absolute_error: 4270.9297 - root_mean_squared_error: 5960.6196 - val_loss: 3161732.5000 - val_mean_absolute_error: 1405.1450 - val_root_mean_squared_error: 1778.1261\n",
            "Epoch 78/100\n",
            "586/586 [==============================] - 2s 3ms/step - loss: 35886584.0000 - mean_absolute_error: 4270.7930 - root_mean_squared_error: 5990.5410 - val_loss: 4525082.0000 - val_mean_absolute_error: 1718.9629 - val_root_mean_squared_error: 2127.2241\n",
            "Epoch 79/100\n",
            "586/586 [==============================] - 2s 3ms/step - loss: 36372348.0000 - mean_absolute_error: 4294.2671 - root_mean_squared_error: 6030.9492 - val_loss: 2741142.2500 - val_mean_absolute_error: 1278.0148 - val_root_mean_squared_error: 1655.6395\n",
            "Epoch 80/100\n",
            "586/586 [==============================] - 2s 3ms/step - loss: 35547692.0000 - mean_absolute_error: 4263.1738 - root_mean_squared_error: 5962.1885 - val_loss: 3012314.0000 - val_mean_absolute_error: 1358.5583 - val_root_mean_squared_error: 1735.6019\n",
            "Epoch 81/100\n",
            "586/586 [==============================] - 3s 5ms/step - loss: 36595712.0000 - mean_absolute_error: 4312.9082 - root_mean_squared_error: 6049.4390 - val_loss: 3379394.7500 - val_mean_absolute_error: 1432.9641 - val_root_mean_squared_error: 1838.3130\n",
            "Epoch 82/100\n",
            "586/586 [==============================] - 2s 4ms/step - loss: 35355916.0000 - mean_absolute_error: 4267.2437 - root_mean_squared_error: 5946.0840 - val_loss: 3346491.0000 - val_mean_absolute_error: 1439.8126 - val_root_mean_squared_error: 1829.3417\n",
            "Epoch 83/100\n",
            "586/586 [==============================] - 2s 3ms/step - loss: 35706912.0000 - mean_absolute_error: 4258.0527 - root_mean_squared_error: 5975.5259 - val_loss: 3574039.7500 - val_mean_absolute_error: 1508.8253 - val_root_mean_squared_error: 1890.5131\n",
            "Epoch 84/100\n",
            "586/586 [==============================] - 2s 3ms/step - loss: 36233016.0000 - mean_absolute_error: 4290.2461 - root_mean_squared_error: 6019.3867 - val_loss: 2613284.7500 - val_mean_absolute_error: 1244.0356 - val_root_mean_squared_error: 1616.5657\n",
            "Epoch 85/100\n",
            "586/586 [==============================] - 2s 3ms/step - loss: 34815240.0000 - mean_absolute_error: 4205.1772 - root_mean_squared_error: 5900.4438 - val_loss: 2901325.2500 - val_mean_absolute_error: 1323.3766 - val_root_mean_squared_error: 1703.3278\n",
            "Epoch 86/100\n",
            "586/586 [==============================] - 2s 3ms/step - loss: 36132568.0000 - mean_absolute_error: 4282.1050 - root_mean_squared_error: 6011.0371 - val_loss: 2766157.5000 - val_mean_absolute_error: 1301.3425 - val_root_mean_squared_error: 1663.1769\n",
            "Epoch 87/100\n",
            "586/586 [==============================] - 2s 3ms/step - loss: 35907220.0000 - mean_absolute_error: 4283.4038 - root_mean_squared_error: 5992.2632 - val_loss: 1878007.3750 - val_mean_absolute_error: 1032.1240 - val_root_mean_squared_error: 1370.4041\n",
            "Epoch 88/100\n",
            "586/586 [==============================] - 3s 5ms/step - loss: 35454676.0000 - mean_absolute_error: 4248.1704 - root_mean_squared_error: 5954.3828 - val_loss: 3475352.2500 - val_mean_absolute_error: 1483.2823 - val_root_mean_squared_error: 1864.2296\n",
            "Epoch 89/100\n",
            "586/586 [==============================] - 3s 5ms/step - loss: 34942016.0000 - mean_absolute_error: 4229.3569 - root_mean_squared_error: 5911.1772 - val_loss: 5191313.5000 - val_mean_absolute_error: 1870.6018 - val_root_mean_squared_error: 2278.4453\n",
            "Epoch 90/100\n",
            "586/586 [==============================] - 3s 4ms/step - loss: 35893828.0000 - mean_absolute_error: 4273.5127 - root_mean_squared_error: 5991.1460 - val_loss: 2682150.7500 - val_mean_absolute_error: 1254.7540 - val_root_mean_squared_error: 1637.7273\n",
            "Epoch 91/100\n",
            "586/586 [==============================] - 2s 3ms/step - loss: 35618276.0000 - mean_absolute_error: 4251.4448 - root_mean_squared_error: 5968.1050 - val_loss: 3028881.0000 - val_mean_absolute_error: 1352.4656 - val_root_mean_squared_error: 1740.3680\n",
            "Epoch 92/100\n",
            "586/586 [==============================] - 2s 3ms/step - loss: 35143448.0000 - mean_absolute_error: 4237.4712 - root_mean_squared_error: 5928.1909 - val_loss: 3390142.7500 - val_mean_absolute_error: 1467.4191 - val_root_mean_squared_error: 1841.2340\n",
            "Epoch 93/100\n",
            "586/586 [==============================] - 2s 3ms/step - loss: 36083872.0000 - mean_absolute_error: 4289.4775 - root_mean_squared_error: 6006.9854 - val_loss: 2388621.2500 - val_mean_absolute_error: 1178.4355 - val_root_mean_squared_error: 1545.5165\n",
            "Epoch 94/100\n",
            "586/586 [==============================] - 2s 4ms/step - loss: 35347496.0000 - mean_absolute_error: 4248.7437 - root_mean_squared_error: 5945.3760 - val_loss: 3700698.0000 - val_mean_absolute_error: 1529.9130 - val_root_mean_squared_error: 1923.7198\n",
            "Epoch 95/100\n",
            "586/586 [==============================] - 3s 5ms/step - loss: 36248348.0000 - mean_absolute_error: 4280.2686 - root_mean_squared_error: 6020.6602 - val_loss: 2796966.7500 - val_mean_absolute_error: 1307.3300 - val_root_mean_squared_error: 1672.4135\n",
            "Epoch 96/100\n",
            "586/586 [==============================] - 2s 4ms/step - loss: 35119448.0000 - mean_absolute_error: 4241.5762 - root_mean_squared_error: 5926.1665 - val_loss: 3427732.2500 - val_mean_absolute_error: 1462.2772 - val_root_mean_squared_error: 1851.4136\n",
            "Epoch 97/100\n",
            "586/586 [==============================] - 2s 3ms/step - loss: 35644072.0000 - mean_absolute_error: 4275.7144 - root_mean_squared_error: 5970.2656 - val_loss: 2658833.2500 - val_mean_absolute_error: 1266.8740 - val_root_mean_squared_error: 1630.5929\n",
            "Epoch 98/100\n",
            "586/586 [==============================] - 3s 4ms/step - loss: 35592552.0000 - mean_absolute_error: 4259.9805 - root_mean_squared_error: 5965.9492 - val_loss: 3239438.0000 - val_mean_absolute_error: 1413.7843 - val_root_mean_squared_error: 1799.8439\n",
            "Epoch 99/100\n",
            "586/586 [==============================] - 2s 3ms/step - loss: 35888096.0000 - mean_absolute_error: 4262.9082 - root_mean_squared_error: 5990.6675 - val_loss: 3164875.7500 - val_mean_absolute_error: 1406.1746 - val_root_mean_squared_error: 1779.0098\n",
            "Epoch 100/100\n",
            "586/586 [==============================] - 3s 4ms/step - loss: 36595644.0000 - mean_absolute_error: 4286.4370 - root_mean_squared_error: 6049.4336 - val_loss: 2756248.5000 - val_mean_absolute_error: 1314.8369 - val_root_mean_squared_error: 1660.1953\n"
          ]
        }
      ]
    },
    {
      "cell_type": "code",
      "source": [
        "# Define a function to display metrics\n",
        "def display_metrics(y_true, y_pred, model_name):\n",
        "    mae = mean_absolute_error(y_true, y_pred)\n",
        "    mse = mean_squared_error(y_true, y_pred)\n",
        "    rmse = np.sqrt(mean_squared_error(y_true, y_pred))\n",
        "    r2 = r2_score(y_true, y_pred)\n",
        "\n",
        "    print(f'Model: {model_name}')\n",
        "    print(f'MAE: {mae:.2f}')\n",
        "    print(f'MSE: {mse:.2f}')\n",
        "    print(f'RMSE: {rmse:.2f}')\n",
        "    print(f'R2-Score: {r2:.2f}')\n",
        "    print()\n",
        "\n",
        "print('Training set')\n",
        "# Assuming y_test is a pandas Series\n",
        "y_train_array = y_train.values.reshape(-1, 1)\n",
        "# Predict probabilities for each model\n",
        "ytr_pred_v1 = model_1.predict(X_train_tf).reshape(-1, 1)\n",
        "ytr_pred_v2 = model_2.predict(X_train_tf).reshape(-1, 1)\n",
        "ytr_pred_v3 = model_3.predict(X_train_tf).reshape(-1, 1)\n",
        "# Display metrics for each model\n",
        "display_metrics(y_train_array, ytr_pred_v1, 'Model v1')\n",
        "display_metrics(y_train_array, ytr_pred_v2, 'Model v2')\n",
        "display_metrics(y_train_array, ytr_pred_v3, 'Model v3')\n",
        "\n",
        "print('Testing set')\n",
        "# Assuming y_test is a pandas Series\n",
        "y_test_array = y_test.values.reshape(-1, 1)\n",
        "# Predict probabilities for each model\n",
        "yts_pred_v1 = model_1.predict(X_test_tf).reshape(-1, 1)\n",
        "yts_pred_v2 = model_2.predict(X_test_tf).reshape(-1, 1)\n",
        "yts_pred_v3 = model_3.predict(X_test_tf).reshape(-1, 1)\n",
        "# Display metrics for each model\n",
        "display_metrics(y_test_array, yts_pred_v1, 'Model v1')\n",
        "display_metrics(y_test_array, yts_pred_v2, 'Model v2')\n",
        "display_metrics(y_test_array, yts_pred_v3, 'Model v3')"
      ],
      "metadata": {
        "colab": {
          "base_uri": "https://localhost:8080/"
        },
        "id": "XJ9xpjCsF2YM",
        "outputId": "bd9668fb-ef83-4122-ef17-e621d2b01461"
      },
      "execution_count": null,
      "outputs": [
        {
          "output_type": "stream",
          "name": "stdout",
          "text": [
            "Training set\n",
            "586/586 [==============================] - 3s 4ms/step\n",
            "586/586 [==============================] - 1s 2ms/step\n",
            "586/586 [==============================] - 1s 1ms/step\n",
            "Model: Model v1\n",
            "MAE: 701.11\n",
            "MSE: 834509.40\n",
            "RMSE: 913.51\n",
            "R2-Score: 0.99\n",
            "\n",
            "Model: Model v2\n",
            "MAE: 1679.67\n",
            "MSE: 4319584.68\n",
            "RMSE: 2078.36\n",
            "R2-Score: 0.97\n",
            "\n",
            "Model: Model v3\n",
            "MAE: 1298.80\n",
            "MSE: 2710508.64\n",
            "RMSE: 1646.36\n",
            "R2-Score: 0.98\n",
            "\n",
            "Testing set\n",
            "196/196 [==============================] - 0s 1ms/step\n",
            "196/196 [==============================] - 0s 1ms/step\n",
            "196/196 [==============================] - 0s 1ms/step\n",
            "Model: Model v1\n",
            "MAE: 709.31\n",
            "MSE: 865102.19\n",
            "RMSE: 930.11\n",
            "R2-Score: 0.99\n",
            "\n",
            "Model: Model v2\n",
            "MAE: 1702.44\n",
            "MSE: 4401102.77\n",
            "RMSE: 2097.88\n",
            "R2-Score: 0.97\n",
            "\n",
            "Model: Model v3\n",
            "MAE: 1314.84\n",
            "MSE: 2756247.82\n",
            "RMSE: 1660.20\n",
            "R2-Score: 0.98\n",
            "\n"
          ]
        }
      ]
    },
    {
      "cell_type": "markdown",
      "source": [
        "## Model choice:\n",
        "\n",
        "The best model is the Gradiant Boosting Regressor because it has the highest R2_score and the lowest mean_absolute_error, mean_squared_error and root_mean_squared_error without overfitting."
      ],
      "metadata": {
        "id": "LFqyh1nxRaE2"
      }
    },
    {
      "cell_type": "code",
      "source": [
        "# Compare the ground truth and the prediction for the Gradiant Boosting Regressor\n",
        "plt.figure(figsize=(10, 6))\n",
        "plt.scatter(y_train, gbr_train_preds, alpha=0.5)\n",
        "plt.xlabel(\"Actual Product Weight\")\n",
        "plt.ylabel(\"Predicted Product Weight\")\n",
        "plt.title(\"Actual vs. Predicted Product Weight\")\n",
        "plt.show()"
      ],
      "metadata": {
        "colab": {
          "base_uri": "https://localhost:8080/",
          "height": 564
        },
        "id": "6nPWNFTUQ9Tj",
        "outputId": "6f14c92d-cf9e-4a98-9e11-c6a8ab5cb868"
      },
      "execution_count": null,
      "outputs": [
        {
          "output_type": "display_data",
          "data": {
            "text/plain": [
              "<Figure size 1000x600 with 1 Axes>"
            ],
            "image/png": "[encoded data removed]"
          },
          "metadata": {}
        }
      ]
    }
  ]
}